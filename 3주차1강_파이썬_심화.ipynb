{
  "nbformat": 4,
  "nbformat_minor": 0,
  "metadata": {
    "colab": {
      "name": "3주차1강_파이썬_심화.ipynb",
      "provenance": [],
      "collapsed_sections": [],
      "authorship_tag": "ABX9TyNicXyRGd2LvgQrL/+8yrP6",
      "include_colab_link": true
    },
    "kernelspec": {
      "name": "python3",
      "display_name": "Python 3"
    }
  },
  "cells": [
    {
      "cell_type": "markdown",
      "metadata": {
        "id": "view-in-github",
        "colab_type": "text"
      },
      "source": [
        "<a href=\"https://colab.research.google.com/github/jang262/jang262.github.io/blob/master/3%EC%A3%BC%EC%B0%A81%EA%B0%95_%ED%8C%8C%EC%9D%B4%EC%8D%AC_%EC%8B%AC%ED%99%94.ipynb\" target=\"_parent\"><img src=\"https://colab.research.google.com/assets/colab-badge.svg\" alt=\"Open In Colab\"/></a>"
      ]
    },
    {
      "cell_type": "markdown",
      "metadata": {
        "id": "aV5hZtYztg1G",
        "colab_type": "text"
      },
      "source": [
        " open API, json...\n",
        " 내가 아는 데이터 형식이라고는 text, csv, excel 정도가 전부인데,  \n",
        " 요즘같이 공공데이터에 대한 수요와 공급이 넘쳐나는 세상에서,  \n",
        " 내가 알고 싶은 데이터를 확보하기 위해  \n",
        " open API 그리고 json 타입의 파일 정도는 가볍게 알아두고 가시면 어떨까 해요.  \n",
        " 그리고 이 수업을 모두 마쳤을 때는 이제 여러분도  \n",
        "open API 형식으로 데이터를 제공해주는 모든 곳에서  \n",
        "내가 원하는 데이터를 자유롭게 가져올 수 있게 될 것입니다.  \n"
      ]
    },
    {
      "cell_type": "markdown",
      "metadata": {
        "id": "4c20giqsunQX",
        "colab_type": "text"
      },
      "source": [
        "* 별책부록 PYTHON  \n",
        " * 딕셔너리 자료형  \n",
        "<img src=\"https://user-images.githubusercontent.com/54702627/84370169-dae43880-ac12-11ea-8623-8679e22146c5.png\" width=\"450px\" height=\"300px\" title=\"딕셔너리 자료형\" alt=\"RubberDuck\"></img><br/>  "
      ]
    },
    {
      "cell_type": "markdown",
      "metadata": {
        "id": "z04UPOqhwYXo",
        "colab_type": "text"
      },
      "source": [
        "# JSON  \n",
        "우선 이 json이란 녀석부터 살펴보죠.  \n",
        "\n",
        "<img src=\"https://user-images.githubusercontent.com/54702627/84370916-e2581180-ac13-11ea-9a1e-69011931e0c5.png\" width=\"450px\" height=\"300px\" title=\"json 자료형1\" alt=\"RubberDuck\"></img><br/>  \n",
        "json은 그 이름에서 유추할 수 있듯 JavaScript Object Notation의 약자로  \n",
        "자바스크립트의 프로그래밍 언어 부분에 기반하고 있으며, 데이터를 효율적으로 저장하고  \n",
        "교환하는데 사용하는 텍스트 데이터 형식 중 하나입니다.  \n",
        "이 json 이란 녀석은 사람이 읽고 쓰기에도 쉬우며,  \n",
        "또한 컴퓨터가 파싱하고 생성하기도 쉽기에 자주 사용되곤 하며,  \n",
        "<img src=\"https://user-images.githubusercontent.com/54702627/84371150-306d1500-ac14-11ea-8388-52d33f0b4c55.png\" width=\"450px\" height=\"300px\" title=\"json 자료형2\" alt=\"RubberDuck\"></img><br/>  \n",
        "이처럼 이름과 값의 집합, 그리고 정렬된 값의 리스트  \n",
        "이렇게 두 개의 구조로 이뤄져 있습니다.  \n",
        "\n",
        "예를 들어 '이재화'라는 이름을 가진 학생에 대한 정보를 포함하고 있는 json 타입의 데이터가 있을 때,  \n",
        "<img src=\"https://user-images.githubusercontent.com/54702627/84371417-96599c80-ac14-11ea-9665-3c9e89b97566.png\" width=\"450px\" height=\"300px\" title=\"json 자료형3\" alt=\"RubberDuck\"></img><br/>  \n",
        "이렇게 이름과 값의 집합, 그리고 정렬된 값의 리스트 형식 구조를 확인할 수 있습니다.  \n",
        "이때 가볍게 알고 넘어가 주시면 좋은 포인트가 있는데,  \n",
        "<img src=\"https://user-images.githubusercontent.com/54702627/84371729-0c5e0380-ac15-11ea-8e08-3f802b292052.png\" width=\"450px\" height=\"300px\" title=\"json 자료형4\" alt=\"RubberDuck\"></img><br/>  \n",
        "파이썬의 list와 tuple이 json으로 변환하게 되면  \n",
        "array로 바뀌며, 반대로 json의 array는 파이썬의 list로 변환하게 된다는 점  \n"
      ]
    },
    {
      "cell_type": "markdown",
      "metadata": {
        "id": "XuEcbGPK1Kp_",
        "colab_type": "text"
      },
      "source": [
        "자 그럼 파이썬 코드로 넘어가 보도록 하겠습니다.  \n",
        "우선 파이썬에서 json을 다루려면 내장모듈 json이 필요해요.  \n",
        "<img src=\"https://user-images.githubusercontent.com/54702627/84373181-2e588580-ac17-11ea-9bcd-a5789ee3168a.png\" width=\"450px\" height=\"300px\" title=\"json 자료형5\" alt=\"RubberDuck\"></img><br/>  \n",
        "그렇게 import json  \n",
        "json은 몇가지의 코드만 알면 데이터를 쉽게 확인할 수 있습니다.  \n",
        "첫번째로는 json 형식의 데이터를 열어 파이썬 객체로 읽어와 주는 것  \n",
        "방법은 with 문과 함께 open 함수를 사용하여 json 데이터를 불러와 줌과 동시에  \n",
        "뒤에 as를 붙여 별칭을 지어줍니다.  \n",
        "그리고 불러와진 데이터를 json 모듈 load 함수에 통과시켜  \n",
        "파이썬 객체로 저장해 주시면 됩니다.  \n",
        "간단하죠.  \n"
      ]
    },
    {
      "cell_type": "markdown",
      "metadata": {
        "id": "Xoi9LtJa3NV0",
        "colab_type": "text"
      },
      "source": [
        "\n",
        "다음으로 이러한 파이썬의 객체를 json 문자열로 변환하기 위해서는  \n",
        "이 객체를 json 모듈 dump 함수에 통과시켜 주셔야 해요.  \n",
        "<img src=\"https://user-images.githubusercontent.com/54702627/84373567-b8085300-ac17-11ea-816e-e37c65c61ff9.png\" width=\"450px\" height=\"300px\" title=\"json 자료형6\" alt=\"RubberDuck\"></img><br/>  \n",
        "근데 이때 생각보다 가독성이 조금 떨어지는 문제가 발생하죠.  \n",
        "\n",
        "이럴때 indent 속성을 통해 들여쓰기 옵션을 설정해 줄 수가 있습니다.  \n",
        "<img src=\"https://user-images.githubusercontent.com/54702627/84373765-fef64880-ac17-11ea-8f2d-4ac1ba5fc9b0.png\" width=\"450px\" height=\"300px\" title=\"json 자료형7\" alt=\"RubberDuck\"></img><br/>  \n",
        "\n",
        "더불어 sort_keys 속성에 True 값을 주시게 되면  \n",
        "<img src=\"https://user-images.githubusercontent.com/54702627/84374213-a4112100-ac18-11ea-96f3-96c7cef1300a.png\" width=\"450px\" height=\"300px\" title=\"json 자료형8\" alt=\"RubberDuck\"></img><br/>  \n",
        "key를 기준으로 정렬하여 출력할 수도 있죠  \n",
        "\n",
        "json 다루기 간단하죠?  \n",
        "자그럼 간단하게 요약을 하자면  \n",
        "이름과 값의 집합 그리고 정렬된 값의 리스트  \n",
        "이렇게 두개의 구조로 이루어져 있으며  \n",
        "컴퓨터와 사람 모두 읽고 쓰기 쉬운 형태로 구축되어 있다. 할수 있겠네요  \n",
        "<img src=\"https://user-images.githubusercontent.com/54702627/84376025-5fd35000-ac1b-11ea-9f0a-1c6b2fb069c6.png\" width=\"450px\" height=\"300px\" title=\"json 자료형\" alt=\"RubberDuck\"></img><br/>  "
      ]
    },
    {
      "cell_type": "markdown",
      "metadata": {
        "id": "i0gbS808-K7G",
        "colab_type": "text"
      },
      "source": [
        "# OPEN API\n",
        "그럼 다음으로 open API를 살펴보도록 하겠습니다.  \n",
        "**open api**란  \n",
        "인터넷 이용자가 웹 검색 결과 및 사용자 인터페이스 등을  \n",
        "수동적으로 제공받는데 그치지 않고 직접 응용 프로그램과 서비스를 개발할 수 있도록 공개된 API라 할수 있습니다.  \n",
        "근데 우리는 이 API를 가지고 지금 당장 무엇인가를 개발하려는 목적이 아니기 때문에,  \n",
        "조금더 우리만의 문장으로 바꿔보면,  \n",
        "인터넷 이용자가 웹 검색 결과 즉 데이터를 우리가 지정한 조건에 맞게끔 가져올 수 있는 도구 정도로 해석할 수 있죠.  \n",
        "자 그럼 어찌되었던 이 open API를 사용하면 데이터를 가져올 수 있다는 이야기가 되는데,  \n",
        "\n",
        "<img src=\"https://user-images.githubusercontent.com/54702627/84376746-8c3b9c00-ac1c-11ea-9dcd-d7a508d1a3ab.png\" width=\"450px\" height=\"300px\" title=\"json 자료형\" alt=\"RubberDuck\"></img><br/>  \n",
        "공공데이터를 먼저 가져오기에 앞서, 영화진흥위원회에서 제공해주는  \n",
        "open api를 사용하여 일별 영화 순위 정보를 가져와 보도록 하겠습니다.  \n"
      ]
    },
    {
      "cell_type": "markdown",
      "metadata": {
        "id": "SJbaMEwu6mm2",
        "colab_type": "text"
      },
      "source": [
        "## 키  \n",
        "우선 open api라는 것을 활용하려면 해당 업체에서 제공해 주는 '키'라는 것이 필요하게 됩니다.  \n",
        "<img src=\"https://user-images.githubusercontent.com/54702627/84467385-f30d9380-acb6-11ea-9c3f-33d31af1abee.png\" width=\"450px\" height=\"300px\" title=\"open api1\" alt=\"RubberDuck\"></img><br/>  \n",
        "한두 명의 사람이 api를 너무 과도하게 사용하게 되면, 제공해 주는 입장에서도,  \n",
        "아니면 또 다른 사용자들에게도 부담이 되기 때문에,  \n",
        "제공자 입장에서는 어느 정도의 컨트롤이 필요하게 되죠  \n",
        "종종 키가 필요 없는 경우도 있긴 합니다.  \n",
        "\n",
        "그럼 어찌 되었던 우린 이 영화진흥위원회의 open api르 사용하기 위한  \n",
        "키가 필요한데, 여기서 하나의 키를 가지고 일 3000회까지 사용할 수 있다 하네요.  \n",
        "그래서 회원가입이 귀찮으신 분들은 여기 이 키를 가지고 사용해 주세요!  \n",
        "<img src=\"https://user-images.githubusercontent.com/54702627/84467662-c73edd80-acb7-11ea-85c2-4b0e82bb9d90.png\" width=\"450px\" height=\"300px\" title=\"open api2\" alt=\"RubberDuck\"></img><br/>  \n",
        "발급키 = 50ee936c7380f8675b6bb4de9a74212e  \n",
        "\n",
        "이제 이 키를 가지고 데이터를 끌고 와주시면 됩니다. 좀 막막하죠?  \n",
        "그래서 이러한 open api를 제공하는 곳에서는  \n",
        "<img src=\"https://user-images.githubusercontent.com/54702627/84467799-23096680-acb8-11ea-8df5-b98a1d84cbda.png\" width=\"450px\" height=\"300px\" title=\"open api3\" alt=\"RubberDuck\"></img><br/>  \n",
        "\"api를 이렇게 사용하세요~\"라고 일종의 가이드라인을 제시해 줍니다.  \n",
        "<img src=\"https://user-images.githubusercontent.com/54702627/84467904-6e237980-acb8-11ea-8269-5d7755bb6762.png\" width=\"450px\" height=\"300px\" title=\"open api4\" alt=\"RubberDuck\"></img><br/>   \n",
        "그래야 사람들이 이용할 수 있을 테니까요.  \n",
        "여기서도 마찬가지로 어떻게 사용하면 되는지 나와있습니다.  \n",
        "\n",
        "사용자마다 조금씩 다르기는 하지만  \n",
        "제일 먼저 어떠한 데이터를 어떻게 공급해 주는지 확인해 주셔야 해요  \n",
        "<img src=\"https://user-images.githubusercontent.com/54702627/84468168-1cc7ba00-acb9-11ea-97c9-bfc1e54876f9.png\" width=\"450px\" height=\"300px\" title=\"open api5\" alt=\"RubberDuck\"></img><br/>  \n",
        "그래야 이후 이 데이터를 어떻게 활용할 수 있는 지 그려볼 수 있으니까요.  \n",
        "\n",
        "그럼 이 데이터가 내가 찾는 데이터가 맞다! 하면 그 다음은 URL입니다.  \n",
        "<img src=\"https://user-images.githubusercontent.com/54702627/84468288-6c0dea80-acb9-11ea-9c5a-d62095661e25.png\" width=\"450px\" height=\"300px\" title=\"open api6\" alt=\"RubberDuck\"></img><br/>  "
      ]
    },
    {
      "cell_type": "markdown",
      "metadata": {
        "id": "tppeSRM-BDVB",
        "colab_type": "text"
      },
      "source": [
        "## URL  \n",
        "파이썬을 통해 접근해줘야 하는 주소이기 때문이죠.  \n",
        "<img src=\"https://user-images.githubusercontent.com/54702627/84468466-db83da00-acb9-11ea-93b2-f33c0e7aa50c.png\" width=\"450px\" height=\"300px\" title=\"open api7\" alt=\"RubberDuck\"></img><br/>\n",
        "우선 여기서는 다양한 방식이 있는데, 좀 더 내려보니 응답 예시가 있네요.  \n",
        "<img src=\"https://user-images.githubusercontent.com/54702627/84468534-0bcb7880-acba-11ea-93a1-a2537374b9cd.png\" width=\"450px\" height=\"300px\" title=\"open api8 \" alt=\"RubberDuck\"></img><br/>\n",
        "그리고 우리가 앞서 발급받은 키와 날짜로 추정되는 숫자가 보입니다.  \n",
        "<img src=\"https://user-images.githubusercontent.com/54702627/84468736-84323980-acba-11ea-8017-e86d1b1ddf83.png\" width=\"450px\" height=\"300px\" title=\"open api9\" alt=\"RubberDuck\"></img><br/>\n",
        "딱 느낌 오시죠. 이 URL을 가져다가 나만의 키값으로 바꿔주고,  \n",
        "내가 원하는 기준 날짜로 설정해 주면 되겠다는 느낌!  \n",
        "\n",
        "그리고 이 url에 들어있는 정보를 요청하기 위해  \n",
        "요청하다라는 뜻을 가진 request 모듈에 get 함수를 사용하여 정보를 저장해 줍니다.  \n",
        "<img src=\"https://user-images.githubusercontent.com/54702627/84468916-d2dfd380-acba-11ea-890a-38b006e51a5a.png\" width=\"450px\" height=\"300px\" title=\"open api10\" alt=\"RubberDuck\"></img><br/>  \n",
        "\n",
        "근데 이 정보를 우리가 확인하기 위해서는 인간이 이해할 수 있는 문자  \n",
        "<img src=\"https://user-images.githubusercontent.com/54702627/84469096-39fd8800-acbb-11ea-8b4b-2f86869b0e56.png\" width=\"450px\" height=\"300px\" title=\"open api11\" alt=\"RubberDuck\"></img><br/>  \n",
        "즉, text 함수를 통해 변환해 주고 이것을 json형식으로 변환하여 살펴보기 위해  \n",
        "아래와 같은 함수를 사용해 줍니다.  \n",
        "<img src=\"https://user-images.githubusercontent.com/54702627/84469324-bd1ede00-acbb-11ea-8112-c2b683935ce4.png\" width=\"450px\" height=\"300px\" title=\"open api12\" alt=\"RubberDuck\"></img><br/>\n",
        "MD_json = json.loads(text) #MD = movie data  \n",
        "\n",
        "조금 복잡하죠. 근데 이게 끝입니다.  \n",
        "확인해 볼까요?  \n",
        "\n",
        "json 형식의 데이터를 확인해 보기 위해  \n",
        "<img src=\"https://user-images.githubusercontent.com/54702627/84469715-ad53c980-acbc-11ea-9da1-9be87875e935.png\" width=\"450px\" height=\"300px\" title=\"open api13\" alt=\"RubberDuck\"></img><br/>  \n",
        "json 모듈에 dumps 함수를 활용해 주고, \n",
        "가독성 향상을 위한 속성값을 세팅해 주면  \n",
        "\n",
        "이렇게 데이터를 확인할 수 있습니다.  \n",
        "<img src=\"https://user-images.githubusercontent.com/54702627/84469902-16d3d800-acbd-11ea-9c7b-fafb6280062b.png\" width=\"450px\" height=\"300px\" title=\"open api14\" alt=\"RubberDuck\"></img><br/>  \n",
        "자 근데 데이터는 나왔는데 이게 머지 라는 생각이 머리속을 스쳐지나가네요.  \n",
        "그리고 동시에 앞서 api 가이드라인이 떠오르지 않으신가요?  \n",
        "\n",
        "<img src=\"https://user-images.githubusercontent.com/54702627/84470244-e04a8d00-acbd-11ea-89be-06b537afa12a.png\" width=\"450px\" height=\"300px\" title=\"open api15\" alt=\"RubberDuck\"></img><br/>\n",
        "여기 이 페이지로 다시 오시면 우리가 출력한 단어와 똑같은 단어가 있으며  \n",
        "이 단어가 뜻하는게 무엇인지 알려주고 있습니다.  \n",
        "\n",
        "그래서 이러한 설명들을 바탕으로 우리가 출력한 데이터를 확인해 주시면 되요.  \n",
        "\n",
        "자 다시 코드로 돌아와서  \n",
        "우리가 원하는 데이터를 출력하기 위해  \n",
        "keys라는 함수를 통해 어떠한 키들을 사용해 주어야하는지  \n",
        "확인해 줘야 합니다.  \n",
        "<img src=\"https://user-images.githubusercontent.com/54702627/84470612-ab8b0580-acbe-11ea-95bc-2dac71fa8e8f.png\" width=\"450px\" height=\"300px\" title=\"open api16\" alt=\"RubberDuck\"></img><br/>\n",
        "첫번째로는 'boxOfficeResult'  \n",
        "그리고 두번째로는 세가지의 키들이 출력됬는데  \n",
        "이때는 앞서 확인해준 정보를 바탕으로  \n",
        "아 이 데이터는 대략 여기쯤 있겠구나 라고 확인해 주시면 됩니다.  \n",
        "\n",
        "그럼 우리가 확인하고 싶은 정보는 dailyBoxOfficeList에 들어 있겠네요.  \n",
        "<img src=\"https://user-images.githubusercontent.com/54702627/84470746-f016a100-acbe-11ea-8ddf-2f1b7c1733ec.png\" width=\"450px\" height=\"300px\" title=\"open api17\" alt=\"RubberDuck\"></img><br/>  \n",
        "\n",
        "자 이제 여러개의 데이터들을 반복해서 출력해야하는 상황이니  \n",
        "<img src=\"https://user-images.githubusercontent.com/54702627/84471231-e17cb980-acbf-11ea-8045-106e4fb43fd1.png\" width=\"450px\" height=\"300px\" title=\"open api18\" alt=\"RubberDuck\"></img><br/>\n",
        "for문을 사용해주고  \n",
        "최종 데이터가 저장된 객체에 제일 상단에 있는  \n",
        "boxOfficeResult 그 다음으로는 dailyBoxOfficeList  \n",
        "그리고 각 i에 담긴 데이터에 우리가 원하는 응답 필드를 넣어 출력을 해보면  \n",
        "\n",
        "이렇게 5월 1일 기준 영화 순위에 대한 데이터들이 출력되게 됩니다.  \n",
        "\n",
        "추가로 이러한 데이터들을 판다스 데이터프레임 형식으로 저장하고 싶다면  \n",
        "<img src=\"https://user-images.githubusercontent.com/54702627/84471714-d8d8b300-acc0-11ea-94b6-9b4cb3bb33c6.png\" width=\"450px\" height=\"300px\" title=\"open api19\" alt=\"RubberDuck\"></img><br/>\n",
        "append 함수를 활용해 주시면 됩니다.\n",
        "\n",
        "이러한 방식으로 다른 날짜 혹은 다른 정보들을 가져와 주실 수 있습니다.  "
      ]
    },
    {
      "cell_type": "markdown",
      "metadata": {
        "id": "kYojFBW-NJzB",
        "colab_type": "text"
      },
      "source": [
        "\n",
        "## 공공 데이터\n",
        "이제 공공데이터를 가져오기 위한 방법을 살펴보도록 하죠.  \n",
        "\n",
        "우선 가장 널리 알려진 공공데이터 포털로 접속하여  \n",
        "<img src=\"https://user-images.githubusercontent.com/54702627/84472212-d1fe7000-acc1-11ea-8eaf-93e217ab264f.png\" width=\"450px\" height=\"300px\" title=\"공공데이터1\" alt=\"RubberDuck\"></img><br/>  \n",
        "\"판매처별 공적 마스트 판매처 정보\"로 검색하시고 이를 클릭하시면  \n",
        "<img src=\"https://user-images.githubusercontent.com/54702627/84472324-f65a4c80-acc1-11ea-9c6d-78b2234c0d40.png\" width=\"450px\" height=\"300px\" title=\"공공데이터2\" alt=\"RubberDuck\"></img><br/>  \n",
        "\n",
        "open api 정보가 나타나는데, 우리가 알고 싶은건 단 2가지! 이 참고문서와 url입니다.  \n",
        "<img src=\"https://user-images.githubusercontent.com/54702627/84472579-623cb500-acc2-11ea-8747-54b4693d7dd8.png\" width=\"450px\" height=\"300px\" title=\"공공데이터3\" alt=\"RubberDuck\"></img><br/>  \n",
        "\n",
        "일단 이 참고 문서를 클릭하시면 요청url과 응답필드를 확인 할 수 있는데,  \n",
        "<img src=\"https://user-images.githubusercontent.com/54702627/84472769-ca8b9680-acc2-11ea-8a87-07f306fbe9b3.png\" width=\"450px\" height=\"300px\" title=\"공공데이터4\" alt=\"RubberDuck\"></img><br/>\n",
        "이 open api는 key값이 따로 존재하진 않습니다.  \n",
        "\n",
        "자 그럼 이전에 사용했던 코드를 그대로 가져와  \n",
        "url만 수정하고 객체이름은 여러분이 원하는 이름으로 수정해주신 다음  \n",
        "<img src=\"https://user-images.githubusercontent.com/54702627/84472916-18a09a00-acc3-11ea-9867-9fe8969377e1.png\" width=\"450px\" height=\"300px\" title=\"공공데이터5\" alt=\"RubberDuck\"></img><br/>  \n",
        "데이터를 확인해 봅시다.  \n",
        "<img src=\"https://user-images.githubusercontent.com/54702627/84473130-79c86d80-acc3-11ea-8d95-7984cfc32ee9.png\" width=\"450px\" height=\"300px\" title=\"공공데이터6\" alt=\"RubberDuck\"></img><br/>\n",
        "여기서도 역시 우리가 확인 하고자 하는 공적 마스크 현황 데이터는  \n",
        "\"sales\"라는 key 안에 들어 있는 것을 확인할 수 있네요  \n",
        "\n",
        "그럼 한번에 데이터 프레임으로 저장해 주기 위해  \n",
        "먼저 빈 리스트를 생성해 주신 다음  \n",
        "for문을 통해 반복문을 선언해 주시고 'sales'라는 키로 접근하여  \n",
        "append 함수를 통해 각 i에 담긴 값들을 빈 리스트로 저장해 주시면 됩니다.  \n",
        "<img src=\"https://user-images.githubusercontent.com/54702627/84473576-4b975d80-acc4-11ea-9984-99e98e0f772c.png\" width=\"450px\" height=\"300px\" title=\"공공데이터7\" alt=\"RubberDuck\"></img><br/>\n",
        "그리고 이를 판다스 데이터프레임 함수를 통해 저장해 주시면 이렇게 기준시간과 함께 각 식별 코드 즉, 약국 마다의 코드 그리고 현재 마스크 수량을 확인할 수 있게 됩니다.\n",
        "간단하죠.  \n"
      ]
    },
    {
      "cell_type": "code",
      "metadata": {
        "id": "EZtODsXBNSbL",
        "colab_type": "code",
        "colab": {}
      },
      "source": [
        ""
      ],
      "execution_count": 0,
      "outputs": []
    }
  ]
}