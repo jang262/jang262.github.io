{
  "nbformat": 4,
  "nbformat_minor": 0,
  "metadata": {
    "colab": {
      "name": "3주차3강_머신러닝을_위한_기초_수학[3].ipynb",
      "provenance": [],
      "collapsed_sections": [],
      "authorship_tag": "ABX9TyO1GoCLiVueBicbMzAPhG5W",
      "include_colab_link": true
    },
    "kernelspec": {
      "name": "python3",
      "display_name": "Python 3"
    }
  },
  "cells": [
    {
      "cell_type": "markdown",
      "metadata": {
        "id": "view-in-github",
        "colab_type": "text"
      },
      "source": [
        "<a href=\"https://colab.research.google.com/github/jang262/jang262.github.io/blob/master/3%EC%A3%BC%EC%B0%A83%EA%B0%95_%EB%A8%B8%EC%8B%A0%EB%9F%AC%EB%8B%9D%EC%9D%84_%EC%9C%84%ED%95%9C_%EA%B8%B0%EC%B4%88_%EC%88%98%ED%95%99%5B3%5D.ipynb\" target=\"_parent\"><img src=\"https://colab.research.google.com/assets/colab-badge.svg\" alt=\"Open In Colab\"/></a>"
      ]
    },
    {
      "cell_type": "markdown",
      "metadata": {
        "id": "tS3d4aVRxW2y",
        "colab_type": "text"
      },
      "source": [
        "# 편미분  \n",
        "\n",
        "우린 지난 수업 때 목적함수, 미분, 경사하강법을 살펴보았습니다.  \n",
        "그리고 두개의 매개변수를 가지고 있는 경우라면 미분을 뛰어넘어 편미분을 활용하여 계산해야 한다는 것을 확인하였죠.  \n",
        "<img src=\"https://user-images.githubusercontent.com/54702627/84587923-3fdf9e80-ae5e-11ea-9226-cbc5df80d45b.png\" width=\"450px\" height=\"300px\" title=\"머신러닝 기초수학[3]1\" alt=\"RubberDuck\"></img><br/>  \n",
        "\n",
        "머신러닝에 나오는 최적화 문제에는 매개변수의 개수만큼 변수가 있으므로  \n",
        "목적함수가 이러한 다변수 함수의 형태로 등장합니다.  \n",
        "<img src=\"https://user-images.githubusercontent.com/54702627/84587998-c72d1200-ae5e-11ea-9836-f25ec4d1bd5c.png\" width=\"450px\" height=\"300px\" title=\"머신러닝 기초수학[3]2\" alt=\"RubberDuck\"></img><br/>  \n",
        "\n",
        "미분을 사용한다면 기울기의 방향으로 매개변수를 조금씩 움직이면 되지만,  \n",
        "<img src=\"https://user-images.githubusercontent.com/54702627/84588135-bd57de80-ae5f-11ea-9164-fe447cfe203d.png\" width=\"450px\" height=\"300px\" title=\"머신러닝 기초수학[3]3\" alt=\"RubberDuck\"></img><br/>  \n",
        "\n",
        "매개변수가 여러개인 경우라면, 각각의 매개변수마다 기울기도 다르고 움직임도 다르겠죠.  \n",
        "<img src=\"https://user-images.githubusercontent.com/54702627/84588067-43bff080-ae5f-11ea-9197-88de7fae149e.png\" width=\"450px\" height=\"300px\" title=\"머신러닝 기초수학[3]4\" alt=\"RubberDuck\"></img><br/>  \n",
        "\n",
        "따라서 다변수 함수를 미분할 때에는 미분할 변수에만 주목하고 다른 변수는  \n",
        "모두 상수로 취급해서 계산하는 미분법을 사용할 것이며  \n",
        "우린 이러한 계산법을 편미분이라 부릅니다.  \n",
        "<img src=\"https://user-images.githubusercontent.com/54702627/84588120-98fc0200-ae5f-11ea-8cca-ba47b86edd4f.png\" width=\"450px\" height=\"300px\" title=\"머신러닝 기초수학[3]5\" alt=\"RubberDuck\"></img><br/>  \n",
        "\n",
        "조금더 구체적으로 살펴보죠.  \n",
        "\n"
      ]
    },
    {
      "cell_type": "markdown",
      "metadata": {
        "id": "ROHYG-WW06i2",
        "colab_type": "text"
      },
      "source": [
        "여기 하나가 아닌 두개의 변수를 가진 함수가 있고 이를 그래프로 그려보면,  \n",
        "<img src=\"https://user-images.githubusercontent.com/54702627/84588221-859d6680-ae60-11ea-9a2b-4335ada8a6c0.png\" width=\"450px\" height=\"300px\" title=\"머신러닝 기초수학[3]6\" alt=\"RubberDuck\"></img><br/>\n",
        "왼쪽 방향으로 진행되는 축 x1, 오른쪽 방향으로 진행되는 축 x2가 있을 때,  \n",
        "높이는 h(x1,x2)인 값이 됩니다.  \n",
        "그럼 이러한 함수 h를 x1으로 편미분해보면  \n",
        "주목해야 할 변수 이외의 변수는 모두 상수 취급을 해야 한다 이야기했는데,  \n",
        "이를 다시 말하면 변수의 값이 고정된다 할 수 있겠죠?  \n",
        "\n",
        "예를 들어 h를 x1으로 편미분 해야 하는 상황에서 주목하지 말아야 할 함수는 x2가 되니,  \n",
        "<img src=\"https://user-images.githubusercontent.com/54702627/84588274-0c524380-ae61-11ea-9749-0a0ac7519599.png\" width=\"450px\" height=\"300px\" title=\"머신러닝 기초수학[3]7\" alt=\"RubberDuck\"></img><br/>\n",
        "여기서 x2를 1로 고정해보면, 이렇게 h는 x1 만의 함수가 됩니다.  \n",
        "그리고 이 함수를 미분하게 됐을 때, 상수를 미분하게 되면 모두 0이 되므로,  \n",
        "h를 x1으로 편미분하면 결국 이러한 결과가 나오게 됩니다.  \n",
        "\n",
        "그리고 편미분을 진행할 때에는 미분 연산자에 있는 기호가 델 연산자로 바뀌지만 의미는 같죠.  \n",
        "<img src=\"https://user-images.githubusercontent.com/54702627/84588312-5804ed00-ae61-11ea-8335-ffc46c990fa0.png\" width=\"450px\" height=\"300px\" title=\"머신러닝 기초수학[3]8\" alt=\"RubberDuck\"></img><br/>  \n",
        "\n",
        "이번에는 h를 x2로 편미분 하는 것을 생각해 보겠습니다.  \n",
        "<img src=\"https://user-images.githubusercontent.com/54702627/84588437-5a1b7b80-ae62-11ea-9bfb-c25834250b5d.png\" width=\"450px\" height=\"300px\" title=\"머신러닝 기초수학[3]9\" alt=\"RubberDuck\"></img><br/>\n",
        "예를 들어 x1을 1로 고정해보면 h는 이러한 x2 만의 함수가 되겠죠?  \n",
        "이번에는 단순한 3차 함수가 됐네요. 그럼 x1으로 편미분 했을 때처럼  \n",
        "x2로 편미분을 하면 이러한 결과가 나타나게 됩니다.  \n",
        "\n",
        "이처럼 미분하려는 변수에만 주목하고 다른 변수는 모두 상수 취급하면  \n",
        "해당 변수에 관한 함수의 기울기를 알 수 있습니다.  \n",
        "\n"
      ]
    },
    {
      "cell_type": "markdown",
      "metadata": {
        "id": "NY3DzZAN6Nld",
        "colab_type": "text"
      },
      "source": [
        "자 그럼 다시 갱신식을 살펴볼까요?  \n",
        "여기 이 목적 함수에는 상당히 복잡한 계산 과정을 거쳐야 합니다.  \n",
        "<img src=\"https://user-images.githubusercontent.com/54702627/84588487-d44c0000-ae62-11ea-9622-4fed97687286.png\" width=\"450px\" height=\"300px\" title=\"머신러닝 기초수학[3]10\" alt=\"RubberDuck\"></img><br/>\n",
        "그래서 이렇게 함수가 겹쳐있는 상황 속에서 사용할 수 있는 방법이 바로  \n",
        "**합성함수의 미분**입니다.  \n",
        "\n",
        "예를들어 이러한 2차함수 f(x)와 g(x)를 떠올려 보죠.  \n",
        "<img src=\"https://user-images.githubusercontent.com/54702627/84588578-98656a80-ae63-11ea-8c4a-8dadd61c60a2.png\" width=\"450px\" height=\"300px\" title=\"머신러닝 기초수학[3]11\" alt=\"RubberDuck\"></img><br/>\n",
        "당연한 이야기겠지만, 각각의 x에 적당한 값을 대입하면 그에 대응하는 값이 출력됩니다.  \n",
        "뭐 지금은 각각의 x에 1,2,3을 대입해서 계산했지만, x에 함수를 대입해도 상관없죠.  \n",
        "\n"
      ]
    },
    {
      "cell_type": "markdown",
      "metadata": {
        "id": "QTfEyhTU70BR",
        "colab_type": "text"
      },
      "source": [
        "다시 말해 이렇게 함수를 합성하여 식을 구축하는 것도 생각할 수 있다는 이야깁니다.   \n",
        "<img src=\"https://user-images.githubusercontent.com/54702627/84588619-fe51f200-ae63-11ea-94ed-df24dad49c39.png\" width=\"450px\" height=\"300px\" title=\"머신러닝 기초수학[3]12\" alt=\"RubberDuck\"></img><br/>\n",
        "이렇게 여러 개의 함수가 조합된 것을 우린 **합성함수**라고 이야기하죠.  \n",
        "\n",
        "그럼 이러한 합성 함수를 어떻게 미분하느냐  \n",
        "예를 들어 이 합성함수를 x로 미분하는 것을 생각해 보겠습니다.  \n",
        "\n",
        "이해를 돕기 위해 다음과 같이 일단 변수로 치환하도록 할게요.  \n",
        "이렇게 하면 단계적으로 미분을 진행할 수가 있습니다.  \n",
        "<img src=\"https://user-images.githubusercontent.com/54702627/84588725-dc0ca400-ae64-11ea-9563-bdb79fb07435.png\" width=\"450px\" height=\"300px\" title=\"머신러닝 기초수학[3]13\" alt=\"RubberDuck\"></img><br/>\n",
        "다시 말해 y를 u로 미분하고 나서, 여기에 u를 x로 미분한 것을 곱하면 됩니다.  \n",
        "\n",
        "그럼 실제로 미분을 진행해 볼까요?  \n",
        "\n",
        "이렇게 각각의 결과가 나왔으므로 이제 이 두개의 결과끼리 곱하기만 하면 됩니다.  \n",
        "<img src=\"https://user-images.githubusercontent.com/54702627/84588839-8be21180-ae65-11ea-87a5-83ed5fa74718.png\" width=\"450px\" height=\"300px\" title=\"머신러닝 기초수학[3]14\" alt=\"RubberDuck\"></img><br/>\n",
        "그러고 나서 u를 다시 g(x) 함수로 되돌리면 최종적인 미분 결과를 얻을 수 있게 되죠!  \n",
        "\n",
        "이렇게 머신러닝에는 복잡한 함수를 미분해야 하는 경우가 많습니다.  \n",
        "그런 복잡한 함수를 미분할 때에는 해당 함수가 여러 개의 단순한 함수로 구성된  \n",
        "합성함수라고 간주하고 계산을 진행하면 \n",
        "비교적 쉽게 미분할 수가 있게 됩니다.  \n",
        "\n"
      ]
    },
    {
      "cell_type": "markdown",
      "metadata": {
        "id": "a83GV5N2-w6l",
        "colab_type": "text"
      },
      "source": [
        "갱신식을 위해 목적함수를 가지고 매개변수를 편미분하는 과정을 살펴보겠습니다.\n",
        "<img src=\"https://user-images.githubusercontent.com/54702627/84588871-d2d00700-ae65-11ea-9ae4-3d28bd9382a2.png\" width=\"450px\" height=\"300px\" title=\"머신러닝 기초수학[3]15\" alt=\"RubberDuck\"></img><br/>\n",
        "\n",
        "우선 편미분의 첫번째 과정처럼 이해를 돕기 위해  \n",
        "목적함수를 u라는 변수로 f(x) 함수를 v라는 함수로 치환하도록 하죠.\n",
        "<img src=\"https://user-images.githubusercontent.com/54702627/84589163-c77ddb00-ae67-11ea-83c6-be092dd1bb13.png\" width=\"450px\" height=\"300px\" title=\"머신러닝 기초수학[3]16\" alt=\"RubberDuck\"></img><br/>\n",
        "그럼 이렇게 단계적으로 미분을 진행할 수가 있게 됩니다.  \n",
        "우선 u를 v로 미분하는 것부터 계산을 진행해보도록 하겠습니다.  \n",
        "우리가 지난 시간 때 짧게 배웠던 것 중 하나인 미분의 성질을 떠올려 보면,  \n",
        "시그마 기호와 미분 연산자의 위치를 바꿀 수가 있었습니다.  \n",
        "\n",
        "그리고 식을 전개하면 이러한 2차 함수가 되고, 이를 미분하게 되면,  \n",
        "<img src=\"https://user-images.githubusercontent.com/54702627/84589293-73bfc180-ae68-11ea-8f15-d8adf1a43255.png\" width=\"450px\" height=\"300px\" title=\"머신러닝 기초수학[3]17\" alt=\"RubberDuck\"></img><br/>\n",
        "우린 지금 u를 v로 미분하는 과정이니 y 같은 변수는 상수 취급하며 진행합니다.  \n",
        "그리고 우리가 이전 강의 때 목적 함수에 임의로 상수 1/2을 붙였던 것 기억하시나요?  \n",
        "그때 분명 이 1/2의 역할은 결과로 나온 식을 간단히 만들기 위함이었습니다.  \n",
        "그리고 지금 이 1/2을 통해 상쇄되며 미분한 결과로 나온 식의 모양이 단순해졌죠.  \n"
      ]
    },
    {
      "cell_type": "markdown",
      "metadata": {
        "id": "T1aA6_OjDmv8",
        "colab_type": "text"
      },
      "source": [
        "다음으로 v를 세타제로로 미분하는 부분을 진행해보겠습니다.  \n",
        "<img src=\"https://user-images.githubusercontent.com/54702627/84589420-563f2780-ae69-11ea-8620-6f6e14f937dc.png\" width=\"450px\" height=\"300px\" title=\"머신러닝 기초수학[3]18\" alt=\"RubberDuck\"></img><br/>\n",
        "이번에도 미분의 성질을 통해 1이라는 결과를 쉽게 얻어낼 수 있었습니다.  \n",
        "이제 각각의 계산 결과를 곱하면 세타제로로 미분한 결과를 얻어낼 수 있게 되는 겁니다.  \n",
        "\n",
        "마지막으로 세타원에 대해서도 미분을 진행해 볼까요?  \n",
        "앞의 세타제로에 대해 미분한 것과 동일하게 진행해주시면 됩니다.  \n",
        "<img src=\"https://user-images.githubusercontent.com/54702627/84589513-eb422080-ae69-11ea-80a1-1739b049ee9c.png\" width=\"450px\" height=\"300px\" title=\"머신러닝 기초수학[3]19\" alt=\"RubberDuck\"></img><br/>\n",
        "u를 v로 미분하는 것은 똑같은 결과니 그대로 가져오고, v를 세타원으로 미분하는  \n",
        "부분만 계산하면 되는데, 이것도 간단히 미분의 성질만 잘 활용하면 쉽게 계산이 되죠.  \n",
        "그럼 결국 u를 세타원으로 미분한 결과는 이 각각의 결과를 곱한 결과인 아래와 같은 식이 되는 겁니다.  \n",
        "\n",
        "그리고 최종적으로 매개변수 세타제로와 세타원의 갱신식은 이렇게 정의할 수가 있게 됩니다.  \n",
        "<img src=\"https://user-images.githubusercontent.com/54702627/84589565-758a8480-ae6a-11ea-8d71-568b56d60405.png\" width=\"450px\" height=\"300px\" title=\"머신러닝 기초수학[3]20\" alt=\"RubberDuck\"></img><br/>\n",
        "꽤나 복잡한 식이 됐지만 이 식에 따라 매개변수들을 갱신해 가면  \n",
        "알맞은 일차함수 f(x)를 발견할 수가 있게되는 겁니다.  \n",
        "\n",
        "그리고 우린 이 함수에 임의의 광고비를 입력하면 해당 광고비에 따른 노출횟수 값을 출력할 수가 있게 되는 거구요.  \n",
        "<img src=\"https://user-images.githubusercontent.com/54702627/84589603-be423d80-ae6a-11ea-86f1-a1415cf87c7e.png\" width=\"450px\" height=\"300px\" title=\"머신러닝 기초수학[3]21\" alt=\"RubberDuck\"></img><br/>"
      ]
    },
    {
      "cell_type": "markdown",
      "metadata": {
        "id": "2sJ4XMLoKjQT",
        "colab_type": "text"
      },
      "source": [
        "\n",
        "음 근데 우리가 앞서 정의한 이 1차함수의 모양은 직선이었습니다.  \n",
        "<img src=\"https://user-images.githubusercontent.com/54702627/84589938-4295c000-ae6d-11ea-8de8-c64f6cfdcd45.png\" width=\"450px\" height=\"300px\" title=\"머신러닝 기초수학[3]22\" alt=\"RubberDuck\"></img><br/>\n",
        "그리고 미분을 사용해서 이 함수의 기울기와 절편을 구하는 작업을 진행했죠.  \n",
        "\n",
        "근데 이 데이터를 보다보면 1차함수의 직선보단 2차함수의 곡선이\n",
        "<img src=\"https://user-images.githubusercontent.com/54702627/84589995-ae782880-ae6d-11ea-95cd-f9d9f2b152cf.png\" width=\"450px\" height=\"300px\" title=\"머신러닝 기초수학[3]23\" alt=\"RubberDuck\"></img><br/>\n",
        "조금 더 어울리지 않을까 라는 생각들지 않으신가요?  \n",
        "함수 f(x)를 2차함수로 나타내면 이러한 식으로 정의할 수 있습니다.  \n",
        "그리고 이 2차함수는 당연히 곡선이겠죠?  \n",
        "\n",
        "이때 사람의 욕심이란게 여기서 더 큰 차수의 식을 정의한다면 당연히 더 구불구불한 곡선\n",
        "<img src=\"https://user-images.githubusercontent.com/54702627/84590027-fbf49580-ae6d-11ea-9d01-c3941359a5e9.png\" width=\"450px\" height=\"300px\" title=\"머신러닝 기초수학[3]24\" alt=\"RubberDuck\"></img><br/>\n",
        "즉, 좀 더 정확한 식을 위해 차수를 늘리는 방향으로 설계할 수도 있지 않을 까요?  \n",
        "\n"
      ]
    },
    {
      "cell_type": "markdown",
      "metadata": {
        "id": "PjCTDW1IMdfI",
        "colab_type": "text"
      },
      "source": [
        "하지만 이러한 방향으로 설계를 한다면 학습과정에서는 정확하게 맞을지는 모르겠지만,  \n",
        "이후 실전 데이터를 적용했을땐 **과적합**이란 문제를 만나게 됩니다.\n",
        "\n",
        "이 문제는 이후 다시 다뤄보도록 하고  \n",
        "그럼 만약 이러한 2차 함수에서의 세타투의 갱신식은 어떻게 될까요?  \n",
        "<img src=\"https://user-images.githubusercontent.com/54702627/84590123-ca2ffe80-ae6e-11ea-9ab7-63e276dba404.png\" width=\"450px\" height=\"300px\" title=\"머신러닝 기초수학[3]25\" alt=\"RubberDuck\"></img><br/>\n",
        "다시 u를 v로 미분하는 부분은 같으니깐 v를 세타투로 미분하는 부분만 구하면 됩니다.  \n",
        "이때 세타투와 관계없는 변수들은 상수 취급 즉 0이 되며 결과값은 x제곱  \n",
        "\n",
        "그럼 결국 매개변수 갱신식은 이렇게 구할 수 있게 되는 거죠.  \n",
        "<img src=\"https://user-images.githubusercontent.com/54702627/84590156-0c594000-ae6f-11ea-9942-60eb67eb620a.png\" width=\"450px\" height=\"300px\" title=\"머신러닝 기초수학[3]26\" alt=\"RubberDuck\"></img><br/>\n",
        "\n",
        "근데 잘 살펴보면 먼가 패턴이 보이지 않나요?  \n",
        "<img src=\"https://user-images.githubusercontent.com/54702627/84590189-58a48000-ae6f-11ea-9944-652f7c580cd8.png\" width=\"450px\" height=\"300px\" title=\"머신러닝 기초수학[3]27\" alt=\"RubberDuck\"></img><br/>\n",
        "맞습니다.  \n",
        "매개변수가 늘어나도 결국 같은 방법으로 갱신식을 도출할 수 있으며  \n",
        "이렇게 다항식의 차수를 늘린 함수를 사용하는 것을 **다항식회귀** 라고 합니다.  \n",
        "\n",
        "그리고 이것을 일반화하여 표기하면 다음과 같은 식으로 나타낼 수 있고요,  \n",
        "<img src=\"https://user-images.githubusercontent.com/54702627/84590229-b46f0900-ae6f-11ea-9532-0a3e8b1c72a1.png\" width=\"450px\" height=\"300px\" title=\"머신러닝 기초수학[3]28\" alt=\"RubberDuck\"></img><br/>\n",
        "이렇게 각각의 매개변수 마다 갱신식을 쓰기보다  \n",
        "이렇게 하나의 식으로 정리해서 쓰면 \n",
        "이후 파이썬으로 구현할때  \n",
        "무척 편리하게 구축할 수가 있을 껍니다.\n",
        "\n",
        "근데 이러한 방식의 경사하강법은 모든 학습데이터의 갯수만큼 반복해서 계산해야 합니다.  \n",
        "즉, 시간과 컴퓨팅파워가 굉장히 많이 소모된다는 이야긴데  \n",
        "이건 굉장히 치명적인 단점이 될 수가 있죠.  \n",
        "그래서 이후 딥러닝 강의를 통해 <u>경사하강법의 단점은 보완하고 장점은 살린 다양한 방법</u>들을 살펴보도록 하고 오늘은 이쯤에서 마무리를하면 어떨까 합니다.  "
      ]
    },
    {
      "cell_type": "code",
      "metadata": {
        "id": "EZtODsXBNSbL",
        "colab_type": "code",
        "colab": {}
      },
      "source": [
        ""
      ],
      "execution_count": 0,
      "outputs": []
    }
  ]
}