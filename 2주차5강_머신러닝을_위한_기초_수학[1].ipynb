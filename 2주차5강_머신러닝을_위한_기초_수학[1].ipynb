{
  "nbformat": 4,
  "nbformat_minor": 0,
  "metadata": {
    "colab": {
      "name": "2주차5강_머신러닝을_위한_기초_수학[1].ipynb",
      "provenance": [],
      "collapsed_sections": [],
      "authorship_tag": "ABX9TyMZS6PLgJ61dJqlrRC4iUlf",
      "include_colab_link": true
    },
    "kernelspec": {
      "name": "python3",
      "display_name": "Python 3"
    }
  },
  "cells": [
    {
      "cell_type": "markdown",
      "metadata": {
        "id": "view-in-github",
        "colab_type": "text"
      },
      "source": [
        "<a href=\"https://colab.research.google.com/github/jang262/jang262.github.io/blob/master/2%EC%A3%BC%EC%B0%A85%EA%B0%95_%EB%A8%B8%EC%8B%A0%EB%9F%AC%EB%8B%9D%EC%9D%84_%EC%9C%84%ED%95%9C_%EA%B8%B0%EC%B4%88_%EC%88%98%ED%95%99%5B1%5D.ipynb\" target=\"_parent\"><img src=\"https://colab.research.google.com/assets/colab-badge.svg\" alt=\"Open In Colab\"/></a>"
      ]
    },
    {
      "cell_type": "markdown",
      "metadata": {
        "id": "-yXmsR2OuvJN",
        "colab_type": "text"
      },
      "source": [
        "#머신러닝을 위한 기초 수학[1]\n",
        "\n",
        "\n",
        "\n",
        "\n"
      ]
    },
    {
      "cell_type": "markdown",
      "metadata": {
        "id": "qdgbyO9shJt2",
        "colab_type": "text"
      },
      "source": [
        "##머신러닝에 꼭 필요한  \n",
        "##-확률 그리고 통계-  \n",
        "\n",
        "<img src=\"https://user-images.githubusercontent.com/54702627/84231987-51f1d200-ab2a-11ea-8e8b-ff477fbfacc8.png\" width=\"450px\" height=\"300px\" title=\"머신러닝에 꼭 필요한 -확률 그리고 통계-\" alt=\"RubberDuck\"></img><br/>  \n",
        "\n",
        "머신러닝에 대해 공부를 할 때면 과거 영화나 웹툰에서 종종 등장하는 장면중 하나가 떠오릅니다.  \n",
        "\n",
        "주인공의 질문에 인공지능 혹은 로봇은 그들만의 미지의 알고리즘을 통해 연산을 거쳐 이렇게 대답하는데,  \n",
        "'그것이 성공할 확률은 대략 0.0123% 입니다.'  \n",
        "이러한 장면에서 알수있는건  \n",
        "\n",
        "첫번째, 과거의 인공지능, 즉 머신러닝 기반의 시스템은 주로 **확률**과 관련이 있었다는 것  \n",
        "\n",
        "두번째, 이러한 이야기를 하는 이유는 오늘의 영상 주제는 머신러닝 기반의 확률과 통계라는 것  \n",
        "\n",
        "그럼 본격적인 수업에 앞서 오늘 우리가 살펴볼 두가지 챕터는  \n",
        "<img src=\"https://user-images.githubusercontent.com/54702627/84232351-10155b80-ab2b-11ea-9015-d2ddc1a95766.png\" width=\"450px\" height=\"300px\" title=\"오늘 살펴볼 두가지 챕터\" alt=\"RubberDuck\"></img><br/>  \n",
        "* 통계학의 용어와 통계 모델링에 대해 살펴보기  \n",
        "* 기술 통계학과 추론통계학의 핵심 내용에 대해 살펴보기  \n",
        "<br>  \n",
        "\n"
      ]
    },
    {
      "cell_type": "markdown",
      "metadata": {
        "id": "zYKARzMiuVYo",
        "colab_type": "text"
      },
      "source": [
        "### 통계학  \n",
        "\n",
        "머신러닝을 공부할 때면 항상 빠지지 않고 등장하는 단어가 있죠.  \n",
        "<img src=\"https://user-images.githubusercontent.com/54702627/84232474-54086080-ab2b-11ea-9478-7418a8c2db47.png\" width=\"450px\" height=\"300px\" title=\"통계학1\" alt=\"RubberDuck\"></img><br/>  \n",
        "그럼 이 통계학이란 무엇인지 그리고 이 통계학의 특징은 어떠한 것인지 살펴보도록 하겠습니다.  \n",
        "\n",
        "<img src=\"https://user-images.githubusercontent.com/54702627/84233844-1c4ee800-ab2e-11ea-958d-199d2d3ffd2b.png\" width=\"450px\" height=\"300px\" title=\"통계학2\" alt=\"RubberDuck\"></img><br/>  \n",
        "\n",
        "우선 통계학은 아주 간단히 이야기 하면  \n",
        "수치 데이터의 수집, 분석, 표현 등을 다루는 수학의 한 분야로 크게  \n",
        "\n",
        "기술 통계학과 추론 통계학으로 분류되죠. 여기서  \n",
        "\n",
        "**기술 통계학**은 **데이터 타입**에 따라 두가지로 분류되는데,  \n",
        "\n",
        "**연속형 데이터**  \n",
        "키, 나이, 가격 등과 같은 데이터를 바탕으로  \n",
        "평균, 표준편차와 같은 형식으로 요약하는 것을 의미합니다.  \n",
        "\n",
        "**범주형 데이터**  \n",
        "예를 들어 게임 lol의 챔피언의  \n",
        "이름, 챔피언의 종족, 성별 이러한 데이터를 바탕으로  \n",
        "빈도, 백분율과 같은 자료 형식으로 요약하는 것을 의미합니다.  \n",
        "\n",
        "다음으로  \n",
        "\n",
        "**추론 통계학** 혹시 명탐정 코난이나, 셜록홈스와도 같은 추리 장르를 좋아하시나요?  \n",
        "\n",
        "대체로 탐정들은 작은 단서들을 수집하여 가설을 세우고 검정하며 결국 큰 사건을 해결하죠.  \n",
        "추론 통계학도 비슷합니다. 하나의 예를 들어 보죠.  \n",
        "\n",
        "<img src=\"https://user-images.githubusercontent.com/54702627/84234458-45bc4380-ab2f-11ea-8638-8a72710c6061.png\" width=\"450px\" height=\"300px\" title=\"통계학3\" alt=\"RubberDuck\"></img><br/>  \n",
        "\n",
        "어느 추리 예능프로그램에 출연자들의 인기를 통계 분석한다 했을 때,  \n",
        "실제로 전 국민을 대상으로 조사를 진행하는 것은 당연히 쉽지 않겠죠?  \n",
        "한 명 한 명 다 전수 조사하기에는 시간이라던지 비용에 대하여 상당한 제한이 있을 테니까요.  \n",
        "하지만 그렇다고 해서 분석을 안 할 수는 없으니,  \n",
        "이러한 상황 속에서는 어떠한 일부 연령층 혹은 일부 지역주민,  \n",
        "혹은 무작위 선정을 통해 시민을 지정하여 표본이라 선정하고  \n",
        "이 그룹에 대한 통계 분석을 합니다.  \n",
        "\n",
        "그리고 전국민을 모집합이라 지정하고  \n",
        "앞서 분석한 표본 통계분석 결과를 바탕으로  \n",
        "전체 국민들에 대한 **결론을 유추**하는 거죠.  \n",
        "<u>이 사람들에 대해 이러한 결과가 나왔으니  \n",
        "전 국민들도 대략 이러한 결과가 나올 것이다.</u>  \n",
        "\n",
        "<img src=\"https://user-images.githubusercontent.com/54702627/84234742-b4010600-ab2f-11ea-87e9-1abf607d88f3.png\" width=\"450px\" height=\"300px\" title=\"통계학4\" alt=\"RubberDuck\"></img><br/>  \n",
        "\n",
        "이때 무작정 결론을 짓기보단  \n",
        "<u>**가설검정**,  \n",
        "수치로 되어 있는 **특징들을 계산**,  \n",
        "또 각 데이터 간의 **상관관계를 분석**</u>하는 등의  \n",
        "과정이 진행됩니다.  \n",
        "\n",
        "자 그럼 한 발짝 더 나아가서 통계 모델링이라고 하는 것을 살펴보겠습니다.  \n"
      ]
    },
    {
      "cell_type": "markdown",
      "metadata": {
        "id": "1fVnMMm3uVPh",
        "colab_type": "text"
      },
      "source": [
        "### 통계 모델링  \n",
        "\n",
        "<img src=\"https://user-images.githubusercontent.com/54702627/84235050-2f62b780-ab30-11ea-9473-aff57cd0d51e.png\" width=\"450px\" height=\"300px\" title=\"통계 모델링\" alt=\"RubberDuck\"></img><br/>  \n",
        "\n",
        "<u>**통계 모델링**은 데이터에 통계학을 적용하여 변수의 유의성을 분석함으로써  \n",
        "방대한 양의 데이터에 숨겨진 특징을 찾아내는 것을 의미합니다.</u>  \n",
        "<br>  \n",
        "\n",
        "#### 통계모델  \n",
        "<img src=\"https://user-images.githubusercontent.com/54702627/84235451-d3e4f980-ab30-11ea-8244-21274499356a.png\" width=\"450px\" height=\"300px\" title=\"통계 모델1\" alt=\"RubberDuck\"></img><br/>  \n",
        "\n",
        "근데 통계 모델이란건 정확하게 어떠한 의미일까요?  \n",
        "통계 모델은 수학적 모델이라고도 하며,  \n",
        "<u>변수들로 이뤄진 수학식이 있을 때,  \n",
        "이러한 수학식을 계산해 실제 값을 **추정**하는 방법</u>입니다.  \n",
        "\n",
        "이렇게 그래프가 있고, 여기에 이러한 데이터들이 분포해 있을 때,  \n",
        "<img src=\"https://user-images.githubusercontent.com/54702627/84235813-7309f100-ab31-11ea-8579-1f39c72e9750.png\" width=\"450px\" height=\"300px\" title=\"통계 모델2\" alt=\"RubberDuck\"></img><br/>  \n",
        "이렇게 그어진 선을 수학적 모델 이라 하며,  \n",
        "이 선은 이와 같은 함수 형태로 나타낼 수 있고,  \n",
        "동시에 **이러한 선을 통계 모델이라 하기도 합니다.**  \n",
        "\n",
        "<img src=\"https://user-images.githubusercontent.com/54702627/84236166-2ffc4d80-ab32-11ea-8727-390568e7dd65.png\" width=\"450px\" height=\"300px\" title=\"통계 모델 가정1\" alt=\"RubberDuck\"></img><br/>  \n",
        "\n",
        "이러한 통계 모델은 여러 가정을 가지고 있는데, 이 가정들은 확률 분포를 따르죠.  \n",
        "확률 분포를 어렵게 생각하실 필요는 없고,  \n",
        "가운데가 볼록한 형태의 대칭형 종모양 그래프를 생각하시면 됩니다.  \n",
        "이러한 분포를 **정규분포**라고 하는데, \n",
        "이게 말 뜻이 좀 어려워서 그렇지, 직역하면 **평균의 분포**라는 뜻이 됩니다.  \n",
        "이는 전체 데이터의 평균 즉, 가운데를 중심으로 데이터가 몰려있는 구조이며  \n",
        "<img src=\"https://user-images.githubusercontent.com/54702627/84236542-bc0e7500-ab32-11ea-8945-35e178f21b9b.png\" width=\"450px\" height=\"300px\" title=\"통계 모델 가정2\" alt=\"RubberDuck\"></img><br/>  \n",
        "<u>가운데에서 멀어질수록 데이터의 빈도수가 적어진는 구조</u>를 가지고 있죠,  \n",
        "그리고 통계 모델은 모든 변수 즉 데이터가 이러한 가정에 만족해야 하는 '기본 가정'으로 시적하며,  \n",
        "이 조건이 만족할 때만 모델의 성능이 통계학적으로 의미를 갖게 됩니다.  \n",
        "\n",
        "확률분포 이야기가 나왔으니, 분포에 대해 조금만 더 이야기를 해보면  "
      ]
    },
    {
      "cell_type": "markdown",
      "metadata": {
        "id": "F1FHZYEthO-X",
        "colab_type": "text"
      },
      "source": [
        "##### 확률 분포(probability distribution)  \n",
        "<img src=\"https://user-images.githubusercontent.com/54702627/84236957-7900d180-ab33-11ea-977e-4c07a02ebbf0.png\" width=\"450px\" height=\"300px\" title=\"확률분포1\" alt=\"RubberDuck\"></img><br/>  \n",
        "확률분포는 대략 이러한 종 모양의 분포형태를 띠고 있습니다.  \n",
        "하지만 모든 분포가 다 이렇지는 않겠죠?  \n",
        "<img src=\"https://user-images.githubusercontent.com/54702627/84237054-a51c5280-ab33-11ea-842a-efd573d5cf6b.png\" width=\"450px\" height=\"300px\" title=\"확률분포2\" alt=\"RubberDuck\"></img><br/>  \n",
        "대략 이러한 분포도 있다고 가정했을 때 우린 이 두개의 그래프에서 몇가지 간단하게 알고 넘어가면 좋은게 있습니다.  \n",
        "\n",
        "우선은 **최빈값**,  \n",
        "<u>최빈값은 말 그대로 분포상 가장 많은 빈도수를 가진 값입니다.</u>  \n",
        "그럼 분포를 통해 살펴보면 정규분포는 당현히 가장 중앙이 되고,  \n",
        "B분포는 점선이 가장 높으니 이 점선이 최빈값이 되겠네요.  \n",
        "<img src=\"https://user-images.githubusercontent.com/54702627/84239900-2c6bc500-ab38-11ea-9c6c-8158971bdefe.png\" width=\"450px\" height=\"300px\" title=\"확률분포3_최빈값\" alt=\"RubberDuck\"></img><br/>  \n",
        "\n",
        "다음으로 **중앙값**.  \n",
        "<u>중앙값은 데이터의 크기를 기준으로 정렬했을 때  \n",
        "가장 중앙에 위치한 값을 의미합니다.</u>  \n",
        "이건 정규분포에서도 이 중앙값은 최빈값과 값은 중앙에 위치하죠.  \n",
        "<img src=\"https://user-images.githubusercontent.com/54702627/84246026-f252f100-ab40-11ea-9b48-42ab7cc89397.png\" width=\"450px\" height=\"300px\" title=\"확률분포4_정규분포의 중앙값\" alt=\"RubberDuck\"></img><br/>  \n",
        "\n",
        "하지만 B분포와 같은 분포에서 중앙값은 정규분포와 조금 다른 양상을 보입니다.  \n",
        "<img src=\"https://user-images.githubusercontent.com/54702627/84246740-ffbcab00-ab41-11ea-860d-b3262c2a1157.png\" width=\"450px\" height=\"300px\" title=\"확률분포5_B분포의 중앙값\" alt=\"RubberDuck\"></img><br/>  \n",
        "\n",
        "마지막으로 평균, 이건 모두 잘 아시다시피 모든 데이터들의 평균값을 의미하죠.  \n",
        "<img src=\"https://user-images.githubusercontent.com/54702627/84246859-2aa6ff00-ab42-11ea-9de7-14291db62425.png\" width=\"450px\" height=\"300px\" title=\"확률분포6_평균값1\" alt=\"RubberDuck\"></img><br/>  \n",
        "\n",
        "이것도 정규분포에서는 가운데 위치,  \n",
        "<img src=\"https://user-images.githubusercontent.com/54702627/84247408-07c91a80-ab43-11ea-9ab2-4a4d4548fcc1.png\" width=\"450px\" height=\"300px\" title=\"확률분포6_평균값2\" alt=\"RubberDuck\"></img><br/>  \n",
        "즉 정규분포는 최빈값, 중앙값, 평균이 같은 선상에 위치합니다.  \n",
        "\n",
        "그래서 우린 이러한 <u>통계량 수치를 바탕으로 **데이터의 분포 형태**를 대략 **유추**</u>할 수 있죠."
      ]
    },
    {
      "cell_type": "markdown",
      "metadata": {
        "id": "t79FDQCxgqWH",
        "colab_type": "text"
      },
      "source": [
        "자 그럼 코드를 통해 살펴볼까요?  \n",
        "\n",
        "우선 넘파이 모듈과 사이피이 패키지에 있는 스테이트 모듈을 불러와 주도록 하겠습니다.  \n"
      ]
    },
    {
      "cell_type": "code",
      "metadata": {
        "id": "9qs2tEeJgM14",
        "colab_type": "code",
        "colab": {}
      },
      "source": [
        "import numpy as np\n",
        "from scipy import stats"
      ],
      "execution_count": 0,
      "outputs": []
    },
    {
      "cell_type": "code",
      "metadata": {
        "id": "dq0XAeN6jevK",
        "colab_type": "code",
        "colab": {}
      },
      "source": [
        "np.random.seed(0)"
      ],
      "execution_count": 0,
      "outputs": []
    },
    {
      "cell_type": "markdown",
      "metadata": {
        "id": "swniA2pSh96z",
        "colab_type": "text"
      },
      "source": [
        "그리고 파이썬에서는 무작위 난수를 출력하더라도 저와 여러분이 같은 무작위 값을 얻어낼 수가 있습니다.  \n",
        "<img src=\"https://user-images.githubusercontent.com/54702627/84250786-75774580-ab47-11ea-83d7-787d1c4e7bf1.png\" width=\"450px\" height=\"300px\" title=\"확률분포_random함수_seed값\" alt=\"RubberDuck\"></img><br/>\n",
        "\n",
        "이 영이라는 숫자는 숫자의 의미보다는 실험을 위한 **통제 가능 제한적 공간**이라 생각하시면 되지 않을 까요?  \n"
      ]
    },
    {
      "cell_type": "markdown",
      "metadata": {
        "id": "jgVxcDS2oAoy",
        "colab_type": "text"
      },
      "source": [
        "다음으로 분포를 이룰 데이터를 만들기 위해 넘파이에 있는 random 함수의 randint 함수를 사용하여  \n",
        "<img src=\"https://user-images.githubusercontent.com/54702627/84345083-5def9980-abe7-11ea-9270-d0ff1efee64b.png\" width=\"450px\" height=\"300px\" title=\"분포를 이룰 무작위 데이터 생성\" alt=\"RubberDuck\"></img><br/>  \n",
        "0부터 100까지의 범위 안에서 10000개의 데이터를 무작위로 추출하라 라는  \n",
        "코드를 작성해주고 data_A라고 저장해 줍니다.  \n",
        "\n",
        " \n"
      ]
    },
    {
      "cell_type": "code",
      "metadata": {
        "id": "nKP5XhPujUS8",
        "colab_type": "code",
        "colab": {}
      },
      "source": [
        "# 분포를 이룰 무작위 데이터 생성\n",
        "data_A = np.random.randint(0, 100, 10000)"
      ],
      "execution_count": 0,
      "outputs": []
    },
    {
      "cell_type": "markdown",
      "metadata": {
        "id": "3AoFe2iauVIx",
        "colab_type": "text"
      },
      "source": [
        "이제 각 평균, 중앙값, 최빈값을 계산해 보도록 하죠.  \n",
        "<img src=\"https://user-images.githubusercontent.com/54702627/84345675-ede21300-abe8-11ea-8c68-ee97568bef40.png\" width=\"450px\" height=\"300px\" title=\"평균,중앙값,최빈값 계산1\" alt=\"RubberDuck\"></img><br/>  \n"
      ]
    },
    {
      "cell_type": "code",
      "metadata": {
        "id": "bgYhrmfASR0n",
        "colab_type": "code",
        "outputId": "20fec194-0ca7-462e-a211-f0ee9f0add2e",
        "colab": {
          "base_uri": "https://localhost:8080/",
          "height": 70
        }
      },
      "source": [
        "# 각 평균, 중앙값, 최빈값 계산\n",
        "mean = np.mean(data_A)\n",
        "median = np.median(data_A)\n",
        "mode = stats.mode(data_A)\n",
        "\n",
        "print(\"평균값 : \", mean.round(2))\n",
        "print(\"중앙값 : \", median)\n",
        "print(\"최빈값 : {} ( {} )\".format(mode[0][0], mode[1][0]))"
      ],
      "execution_count": 0,
      "outputs": [
        {
          "output_type": "stream",
          "text": [
            "평균값 :  49.17\n",
            "중앙값 :  49.0\n",
            "최빈값 : 3 ( 125 )\n"
          ],
          "name": "stdout"
        }
      ]
    },
    {
      "cell_type": "markdown",
      "metadata": {
        "id": "FJrmk2jkqqck",
        "colab_type": "text"
      },
      "source": [
        "평균과 중앙값은 넘파이에 속해있는 함수들을 사용하여 구할수 있고  \n",
        "최빈값의 경우 사이피패키지의 stats 모듈에 있는 mode 함수를 사용했습니다.  \n",
        "최빈값의 출력은 조금 조작이 필요한데  \n",
        "앞서 평균과 중앙값은 하나의 객체만을 출력하면 되었습니다.  \n",
        "<img src=\"https://user-images.githubusercontent.com/54702627/84345822-592be500-abe9-11ea-817f-57081f00bb2e.png\" width=\"450px\" height=\"300px\" title=\"평균,중앙값,최빈값 계산2\" alt=\"RubberDuck\"></img><br/>  \n",
        "\n",
        "하지만 최빈값은 어떠한 숫자가 볓개를 가지고 있느냐, 즉 2개의 값을 출력해야 하죠.  \n",
        "<img src=\"https://user-images.githubusercontent.com/54702627/84345950-bfb10300-abe9-11ea-8ae7-23c40d1ff86c.png\" width=\"450px\" height=\"300px\" title=\"평균,중앙값,최빈값 계산3\" alt=\"RubberDuck\"></img><br/>  \n",
        "그렇단 말은 여기 mode 객체에 2개의 형식으로 저장되어 있다는 건데,  \n",
        "이는 파이썬 출력기법중 format 기법을 사용해서,  \n",
        "모드객체 안에 있는 첫번째 타입과 두번째 타입에 있는 객체를 꺼내  \n",
        "여기 순서대로 출력해라 ~라는 코드를 사용하여  \n",
        "최빈값을 구하는 코드를 작성해 줍니다.  \n",
        "\n",
        "그럼 이렇게 0부터 100 범위 안에 10000개의 값을 가진 분포에 대한 평균, 중앙, 최빈값은  \n",
        "<img src=\"https://user-images.githubusercontent.com/54702627/84346366-c8ee9f80-abea-11ea-84bc-ad0b93bf05c7.png\" width=\"450px\" height=\"300px\" title=\"평균,중앙값,최빈값 계산4\" alt=\"RubberDuck\"></img><br/>  \n",
        "이러한 값을 가지고 있음을 알수 있고 이건 정규분포 와는 조금 거리가 있어 보이죠?  \n",
        "\n",
        "그럼 정규분포는 어떻게 만들 수 있을까요??  \n",
        "<img src=\"https://user-images.githubusercontent.com/54702627/84346642-66e26a00-abeb-11ea-9ee1-926c70ae6abc.png\" width=\"450px\" height=\"300px\" title=\"평균,중앙값,최빈값 계산5\" alt=\"RubberDuck\"></img><br/>  \n",
        "여기 이 코드에서 normal 함수를 사용해 주시고, size라는 변수에  \n",
        "'몇개의 데이터를 넣어줄 것이냐' 만  설정해주시고 객체 이름만 바꿔주신다음,  \n",
        "나머지 코드는 동일하게 사용하신다음 출력을 해보면 확실히 이전의 분포보다는  \n",
        "<img src=\"https://user-images.githubusercontent.com/54702627/84346819-d35d6900-abeb-11ea-9b45-b9d63e484a7a.png\" width=\"450px\" height=\"300px\" title=\"평균,중앙값,최빈값 계산6\" alt=\"RubberDuck\"></img><br/>  \n",
        "평균,중앙,최빈값이 거의 동일한 정규분포 형태를 띄고 있음을 알수 있습니다.  \n",
        "\n",
        "\n",
        "\n"
      ]
    },
    {
      "cell_type": "code",
      "metadata": {
        "id": "lLcIQBc3qPSW",
        "colab_type": "code",
        "colab": {}
      },
      "source": [
        "# 분포를 이룰 무작위 데이터 생성\n",
        "data_B = np.random.normal(size=100)"
      ],
      "execution_count": 0,
      "outputs": []
    },
    {
      "cell_type": "code",
      "metadata": {
        "id": "GC5NxLjEwSGn",
        "colab_type": "code",
        "outputId": "a2da1e14-cbc5-4d7f-ce72-ea7f0c06fdb7",
        "colab": {
          "base_uri": "https://localhost:8080/",
          "height": 70
        }
      },
      "source": [
        "# 각 평균, 중앙값, 최빈값 계산\n",
        "mean = np.mean(data_B)\n",
        "median = np.median(data_B)\n",
        "mode = stats.mode(data_B)\n",
        "\n",
        "print(\"평균값 : \", mean.round(2))\n",
        "print(\"중앙값 : \", median)\n",
        "print(\"최빈값 : {} ( {} )\".format(mode[0][0], mode[1][0]))"
      ],
      "execution_count": 0,
      "outputs": [
        {
          "output_type": "stream",
          "text": [
            "평균값 :  -0.03\n",
            "중앙값 :  -0.1024051532970941\n",
            "최빈값 : -2.862292431709955 ( 1 )\n"
          ],
          "name": "stdout"
        }
      ]
    },
    {
      "cell_type": "markdown",
      "metadata": {
        "id": "ghe8gHR0u9_C",
        "colab_type": "text"
      },
      "source": [
        "다시 이론으로 넘어와  \n",
        "\n",
        "변량의 측정, 분산, 표준편차, 사분위수에 대해 살펴보도록 하겠습니다.  \n",
        "\n",
        "##### 변량의 측정  \n",
        "통계학에서 가장 중요한 개념은 바로 **변량** 입니다.  \n",
        "이름이 조금 어려운데, 그냥 단순하게 수치 즉 **'변수'**라고 생각하시면 됩니다.  \n",
        "또한 여기에 **산포**라는 개념이 등장하는데, 이 <u>산포는 데이터의 변량을 의미</u>하며  \n",
        " 데이터가 얼마나 중심으로 모이지 않고 흩어져 있는지를 설명합니다.  \n",
        " <img src=\"https://user-images.githubusercontent.com/54702627/84347504-bde93e80-abed-11ea-982f-6241260fb0e8.png\" width=\"450px\" height=\"300px\" title=\"변량의 측정\" alt=\"RubberDuck\"></img><br/>  \n",
        "그래서 이러한 변량을 측정하는 수치중 하나가 **분산**이며  \n",
        "이는 <u>평균과의 거리를 제곱한 값의 평균</u> 입니다.  \n",
        "\n",
        "여기서 왜 제곱을 했을까요??  \n",
        "아마 많은 분들이 아시겠지만 그래도 짚고 넘어가겠습니다.  \n",
        "단순 거리의 평군만 구한다면 분명 음수라는 결과가 나타날 경우가 있습니다.  \n",
        "<img src=\"https://user-images.githubusercontent.com/54702627/84347790-613a5380-abee-11ea-990b-db4cbc5da537.png\" width=\"450px\" height=\"300px\" title=\"변량의 측정2\" alt=\"RubberDuck\"></img><br/>  \n",
        "그래서 이러한 경우 평균을 구한다면 우라가 원하는 방향과는 조금 다른 결과가 출력되죠.  \n",
        "그래서 이러한 거리를 제곱하여 항상 양의 값만이 나오도록 하고,  \n",
        "이 값들을 가지고 평균을 구하면 우리가 추구하는 분산 값을 얻을 수 있습니다.  \n",
        "\n",
        "그럼 이 <u>분산에 제곱근을 했을 때, 이 값을 우린 **표준편차**</u>라고 해요.  \n",
        "<img src=\"https://user-images.githubusercontent.com/54702627/84347997-ec1b4e00-abee-11ea-9703-2000a8ee597e.png\" width=\"450px\" height=\"300px\" title=\"분산과 표준편차1\" alt=\"RubberDuck\"></img><br/>  \n",
        "그럼 분산이나 표준편차나 거의 같은 개념인데  \n",
        "왜 두 개가 구분 되어야 하는 의문이 생길 수 있습니다.  \n",
        "\n",
        "실제로 값을 계산해보면 표준편차에 비해 분산 값이 무척 크다는 것을 알 수 있죠.  \n",
        "<img src=\"https://user-images.githubusercontent.com/54702627/84348254-795ea280-abef-11ea-9e24-809d913e5671.png\" width=\"450px\" height=\"300px\" title=\"분산과 표준편차2\" alt=\"RubberDuck\"></img><br/>  \n",
        "평균과의 차를 제곱한 값으로 분산을 구했기 때문입니다.  \n",
        "그렇기 때문에 분산 값으로도 어느 정도 비교는 할 수 있겠지만,  \n",
        "그 값이 너무도 크기 때문에 어느 정도 차이가 나는지 비교하기가 쉽지 않다는 문제가 발생해요.  \n",
        "<img src=\"https://user-images.githubusercontent.com/54702627/84348364-b75bc680-abef-11ea-804e-cc4ba9222dca.png\" width=\"450px\" height=\"300px\" title=\"분산과 표준편차3\" alt=\"RubberDuck\"></img><br/>  \n",
        "그래서 이러한 단점을 좀 보완하고자 원래의 단위로 보정한 것이 표준 편차입니다.  \n",
        "\n"
      ]
    },
    {
      "cell_type": "markdown",
      "metadata": {
        "id": "iMxtipRW2Xvw",
        "colab_type": "text"
      },
      "source": [
        "##### 사분위수  \n",
        "아마 많은 분들이 **박스 플롯**을 통해 많이들 접해보셨을 껍니다.  \n",
        "**사분위수**도 단어 그대로 <u>데이터를 사등분 한 지점을 표현한 지표</u>인데,  \n",
        "그럼 우린 이 박스 플롯과 사분위수를 왜 사용해야 하는가에 대한 질문을 던져 볼 수 있죠.  \n",
        "<img src=\"https://user-images.githubusercontent.com/54702627/84348695-8cbe3d80-abf0-11ea-8fff-0b96fb1eb248.png\" width=\"450px\" height=\"300px\" title=\"사분위수와 박스플롯1\" alt=\"RubberDuck\"></img><br/>  \n",
        "이 지표가 사용되는 이유중 하나는  \n",
        "데이터의 이상치 탐색과 데이터의 중심위치 및 분포를 빠르게 파악할 수 있다는 강점에서 사용되고는 합니다.  \n",
        "\n",
        "그럼 조금더 깊게 살표보죠.  \n",
        "\n",
        "사분위수는 총 4개의 지점으로 나누는데, 우선 데이터들을 크기 순으로  \n",
        "가장 작은 값부터 가장 큰 값까지 정렬한 후  \n",
        "<img src=\"https://user-images.githubusercontent.com/54702627/84348880-15d57480-abf1-11ea-8009-e154419ec0f6.png\" width=\"450px\" height=\"300px\" title=\"사분위수와 박스플롯2\" alt=\"RubberDuck\"></img><br/>  \n",
        "1/4 즉 25%에 해당하는 지점을 1사분위수  \n",
        "2/4 즉 50%에 해당하는 지점을 2사분위수  \n",
        "3/4 즉 75%에 해당하는 지점을 3사분위수  \n",
        "4/4 즉 100%에 해당하는 지점을 4사분위수  \n",
        "<img src=\"https://user-images.githubusercontent.com/54702627/84349069-811f4680-abf1-11ea-8115-f924b782bee2.png\" width=\"450px\" height=\"300px\" title=\"사분위수와 박스플롯2\" alt=\"RubberDuck\"></img><br/>  \n",
        "라고 하여  \n",
        "그 지점에 위치한 숫자들을 의미합니다.  \n",
        "<img src=\"https://user-images.githubusercontent.com/54702627/84349187-bfb50100-abf1-11ea-9dad-0a03c7f4cc07.png\" width=\"450px\" height=\"300px\" title=\"사분위수와 박스플롯3\" alt=\"RubberDuck\"></img><br/>  "
      ]
    },
    {
      "cell_type": "markdown",
      "metadata": {
        "id": "KR3c0vz_6LpT",
        "colab_type": "text"
      },
      "source": [
        "좀 더 이해를 돕기 위해 활용사례를 살펴보죠.  \n",
        "여기 치킨집 A와 B가 있고,  \n",
        "각 치킨집의 배달 시간을 '분'단위로 측정한 데이터가 있습니다.  \n",
        "우린 이 데이터를 통해 각 사분위수를 살펴보고, 3사분위수에 위치한 데이터를 통해  \n",
        "<img src=\"https://user-images.githubusercontent.com/54702627/84349658-ba0beb00-abf2-11ea-9430-b4b55b8063e9.png\" width=\"450px\" height=\"300px\" title=\"치킨집1\" alt=\"RubberDuck\"></img><br/>  \n",
        "각 치킨집 75%의 주문이 a사의 경우 56.5분 이내,  \n",
        "b사의 경우 40.75분 이내에 배달되었다는 걸 알 수 있습니다.  \n",
        "\n",
        "그럼 이런 박스 플롯에서 박스를감싸고 있는 이 선은 어떠한 의미를 가지고 있을까요?  \n",
        "<img src=\"https://user-images.githubusercontent.com/54702627/84349875-37cff680-abf3-11ea-943f-f0c84df8b505.png\" width=\"450px\" height=\"300px\" title=\"치킨집2\" alt=\"RubberDuck\"></img><br/>  \n",
        "이 선은 이상치를 제외한 최댓값, 이상치를 제외한 최솟값을 나타내고 있죠.  \n",
        "그래서 이선을 벗어난 데이터는 이상치로 간주할 수 있으며 좀 더 자세하게 살펴볼 필요가 있습니다.  \n",
        "\n",
        "본 데이터에서도 b사의 치킨집 데이터가 약간 문제가 있음을 알 수 있는데,  \n",
        "여기 마지막에 600분이라는 수치가 있고  \n",
        "<img src=\"https://user-images.githubusercontent.com/54702627/84350050-95644300-abf3-11ea-8e48-079abd239eab.png\" width=\"450px\" height=\"300px\" title=\"치킨집3\" alt=\"RubberDuck\"></img><br/>  \n",
        "이는 60분을 600분이라고 표기했을 가능성이 높겠죠?  \n",
        "\n",
        "그래서 이 600분을 지워 주시고 다시 그림을 그려보면  \n",
        "<img src=\"https://user-images.githubusercontent.com/54702627/84350225-e5430a00-abf3-11ea-95bd-1734657ad14a.png\" width=\"450px\" height=\"300px\" title=\"치킨집4\" alt=\"RubberDuck\"></img><br/>  \n",
        "깔끔하게 그려지는 것을 확인할 수 있습니다.  \n",
        "근데 또 여기서 600이란 수치는 누가 봐도 이상치인데.. 이 기준은 어디서 오는 걸까요??\n",
        "\n",
        "**IQR(InterQuartile Range)  **\n",
        "**IQR** 즉, <u>'사분범위'의 1.5배를 기준으로 산정</u>  \n",
        "<img src=\"https://user-images.githubusercontent.com/54702627/84350658-b24d4600-abf4-11ea-82f5-c562cf6b0d95.png\" width=\"450px\" height=\"300px\" title=\"IQR1\" alt=\"RubberDuck\"></img><br/>  \n",
        "여기서 <u>**사분 범위**란 중앙에서 50%의 범위를 본다</u> 생각하시면 됩니다.  \n",
        "즉, 양쪽의 25%를 자르고 가운데 50%만 본다는 거죠.  \n",
        "이걸 구하는 식은 간단히 3사분위수에서 1사분위수를 빼주시면 돼요.  \n",
        "\n",
        "그럼 이렇게 해서 사분 범위를 얻었을 때 이제 이 양쪽의 범위를 선정해야 하는데,  \n",
        "<img src=\"https://user-images.githubusercontent.com/54702627/84351026-76ff4700-abf5-11ea-8698-8bd4ca234bc5.png\" width=\"450px\" height=\"300px\" title=\"IQR2\" alt=\"RubberDuck\"></img><br/>  \n",
        "\n",
        "첫번째, 사분 범위의 1.5배 즉, 1.5를 곱해줍니다.  \n",
        "<img src=\"https://user-images.githubusercontent.com/54702627/84351583-a19dcf80-abf6-11ea-8227-15275761da9a.png\" width=\"450px\" height=\"300px\" title=\"IQR2\" alt=\"RubberDuck\"></img><br/>  \n",
        "두번째, 하단 이상치 기준선은 1사분위수에서 사분 범위의 1.5배 값을 빼준 다음, 이값을 기준으로 이 값보다 작으면 이상치로 간주  \n",
        "세번째, 상단 이상치 기준선은 3사분위수에서 사분범위의 1.5배 값을 더해준 다음, 이 값을 기준으로 이 값보다 크면 이상치로 간주\n",
        "\n",
        "최종적으로 치킨집 a사와 b사를 비교해 보면  \n",
        "<img src=\"https://user-images.githubusercontent.com/54702627/84351844-1e30ae00-abf7-11ea-8995-195098805bef.png\" width=\"450px\" height=\"300px\" title=\"IQR2\" alt=\"RubberDuck\"></img><br/>  \n",
        "a사의 배달시간이 b사보다 더 많이 소요됨을 확인할 수 있습니다.  \n",
        "이렇게 사분위수 그리고 박스플롯은 앞서 말한 이상치 탐색, 데이터의 분포 등을 확인할 때  \n",
        "유용하게 사용되며 또 다수의 객체들과 비교하고자 할때도 유용하게 사용할 수 있습니다.  \n",
        "\n",
        "이렇게 해서 오늘 머신러닝을 지탱하는 조금은 어렵지만 그래도 알아두면 너무도 좋은 확률과 분포에대해서 살펴봤습니다.  \n"
      ]
    },
    {
      "cell_type": "markdown",
      "metadata": {
        "id": "XeFtW0VLITHY",
        "colab_type": "text"
      },
      "source": [
        ""
      ]
    }
  ]
}