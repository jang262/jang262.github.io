{
  "nbformat": 4,
  "nbformat_minor": 0,
  "metadata": {
    "colab": {
      "name": "2주차3강_기초_파이썬[3].ipynb",
      "provenance": [],
      "collapsed_sections": [],
      "authorship_tag": "ABX9TyMXZmaLFWpNvv5L0IeSmYHy",
      "include_colab_link": true
    },
    "kernelspec": {
      "name": "python3",
      "display_name": "Python 3"
    }
  },
  "cells": [
    {
      "cell_type": "markdown",
      "metadata": {
        "id": "view-in-github",
        "colab_type": "text"
      },
      "source": [
        "<a href=\"https://colab.research.google.com/github/jang262/jang262.github.io/blob/master/2%EC%A3%BC%EC%B0%A83%EA%B0%95_%EA%B8%B0%EC%B4%88_%ED%8C%8C%EC%9D%B4%EC%8D%AC%5B3%5D.ipynb\" target=\"_parent\"><img src=\"https://colab.research.google.com/assets/colab-badge.svg\" alt=\"Open In Colab\"/></a>"
      ]
    },
    {
      "cell_type": "markdown",
      "metadata": {
        "id": "-yXmsR2OuvJN",
        "colab_type": "text"
      },
      "source": [
        "#기초 파이썬[3]  \n",
        "<br>\n",
        "\n",
        "앞서 살펴본 변수와 자료형, 제어문과 반복문만으로도 어느 정도는 프로그래밍이 가능하다.  \n",
        "그러나 계속해서 같은 코드를 반복해서 작성해야 하는 일이 자주 발생하게 된다.  \n",
        "하지만 이번에 다룰 함수나 클래스를 사용하면 코드를 반복해서 작성할 필요가 없어지게 된다."
      ]
    },
    {
      "cell_type": "markdown",
      "metadata": {
        "id": "S0Ql43tLc03f",
        "colab_type": "text"
      },
      "source": [
        "###함수  \n",
        "\n",
        "함수는 필요한 전달 값을 받아, 특정 작업을 수행한 후 결과값을 반환하는 코드 블록을 의미한다.  \n",
        "\n",
        "함수는 함수 안에 코드 블록을 가지고 있고,  \n",
        "함수가 호출될 때마다 이 코드 블록을 실행한다.  \n",
        "이러한 함수의 가장 큰 장점은 함수가 동작한 후에 어떠한 결과가  \n",
        "나오는지만 알면 함수 내부 구조를 몰라도 사용하는데 문제가 없다는 점이다.  \n",
        "그리고 코드를 반복해서 작성할 일 또한 줄어든다.  \n",
        "\n",
        "우선 함수를 만들기 위해서는  \n",
        "정의하다 라는 뜻을 가진 define의 앞글자를 딴  \n",
        "def라는 파이썬의 예약어가 필요하다.  \n",
        "그리고 이 def뒤에는 함수의 이름과 전달 값을 저장하기 위한  \n",
        "변수의 이름을 나열하고, 앞서 배운 다른 구문들과 동일하게  \n",
        "콜론과 들여쓰기가 된 코드를 작성하면 함수를 만들 수 있다.  \n",
        "만약 이때 전달값을 받을 필요가 없다면 빈칸으로 놔두면 된다."
      ]
    },
    {
      "cell_type": "code",
      "metadata": {
        "id": "w8iQU9RoVhPr",
        "colab_type": "code",
        "outputId": "160baad2-c0ef-493e-cc3a-2eb139582684",
        "colab": {
          "base_uri": "https://localhost:8080/",
          "height": 52
        }
      },
      "source": [
        "def print_hello():\n",
        "    print('Hi, AI')\n",
        "    print('It\\'s me')\n",
        "print_hello()"
      ],
      "execution_count": 0,
      "outputs": [
        {
          "output_type": "stream",
          "text": [
            "Hi, AI\n",
            "It's me\n"
          ],
          "name": "stdout"
        }
      ]
    },
    {
      "cell_type": "markdown",
      "metadata": {
        "id": "2QN4-2QRgyDy",
        "colab_type": "text"
      },
      "source": [
        "함수에는 기본적인 출력 말고도 반환(return)이란 개념이 존재한다.  \n",
        "반환은 이처럼 바로 출력하는 것이 아닌 함수 내의 변수에 저장하게끔 하는 기능을 가지고 있다.  \n",
        "그리고 반환을 마친 함수는 종료가 된다."
      ]
    },
    {
      "cell_type": "code",
      "metadata": {
        "id": "MIxRPQebcA_N",
        "colab_type": "code",
        "outputId": "b35bebc6-7805-46f9-e704-e12b72137452",
        "colab": {
          "base_uri": "https://localhost:8080/",
          "height": 34
        }
      },
      "source": [
        "def my_sum(a,b):\n",
        "    res = a + b\n",
        "    return res\n",
        "res = my_sum(10,15)\n",
        "print(res)"
      ],
      "execution_count": 0,
      "outputs": [
        {
          "output_type": "stream",
          "text": [
            "25\n"
          ],
          "name": "stdout"
        }
      ]
    },
    {
      "cell_type": "markdown",
      "metadata": {
        "id": "OphNA6vyhgYg",
        "colab_type": "text"
      },
      "source": [
        "함수는 우리가 필요한 기능에 대하여 자체적으로 제작을 할 수도 있으며  \n",
        "반대로 이미 제작된 내장 함수 또한 존재한다.  \n",
        "\n",
        "예를 들면  \n",
        "변수가 가진 값의 길이를 반환하는 len함수,  \n",
        "사용자로부터 문자열을 입력받고 그를 화면으로 출력하는 input함수,  \n",
        "그리고 앞서 사용해본 range함수도 기분 내장함수이다.  \n",
        "이렇게 내장 함수는 우리가 조금 더 효율적으로 프로그래밍에  \n",
        "집중할 수 있도록 다양한 기능들을 제공해 주고 있다."
      ]
    },
    {
      "cell_type": "code",
      "metadata": {
        "id": "ETPqs9RJcBAq",
        "colab_type": "code",
        "outputId": "ecbe11df-dbdb-459d-fc01-39ec1aebbd9e",
        "colab": {
          "base_uri": "https://localhost:8080/",
          "height": 34
        }
      },
      "source": [
        "a = [1,3,5,6,10]\n",
        "len(a)"
      ],
      "execution_count": 0,
      "outputs": [
        {
          "output_type": "execute_result",
          "data": {
            "text/plain": [
              "5"
            ]
          },
          "metadata": {
            "tags": []
          },
          "execution_count": 6
        }
      ]
    },
    {
      "cell_type": "code",
      "metadata": {
        "id": "estqR0CEcBCO",
        "colab_type": "code",
        "outputId": "f0a614d7-3890-43be-ce58-fff46dd5e62f",
        "colab": {
          "base_uri": "https://localhost:8080/",
          "height": 34
        }
      },
      "source": [
        "a = input(\"your input:\")"
      ],
      "execution_count": 0,
      "outputs": [
        {
          "output_type": "stream",
          "text": [
            "your input:input!!!\n"
          ],
          "name": "stdout"
        }
      ]
    },
    {
      "cell_type": "code",
      "metadata": {
        "id": "0bNIH3V1cBDV",
        "colab_type": "code",
        "outputId": "baac40cc-aa21-46c3-e7d8-0f9e9bfd1c81",
        "colab": {
          "base_uri": "https://localhost:8080/",
          "height": 34
        }
      },
      "source": [
        "range(0,3,1)"
      ],
      "execution_count": 0,
      "outputs": [
        {
          "output_type": "execute_result",
          "data": {
            "text/plain": [
              "range(0, 3)"
            ]
          },
          "metadata": {
            "tags": []
          },
          "execution_count": 9
        }
      ]
    },
    {
      "cell_type": "markdown",
      "metadata": {
        "id": "5dOHB-0_iuUj",
        "colab_type": "text"
      },
      "source": [
        "###클래스(class)\n",
        "\n",
        "클래스는 함수와 마찬가지로 코드의 반복을 줄이기 위해서도 사용되지만,  \n",
        "대체로 규모가 큰 프로그램을 만들때 개발자가 코드를 잘 이해하기 위해 사용되고는 한다.  \n"
      ]
    },
    {
      "cell_type": "markdown",
      "metadata": {
        "id": "USDyYw17jOdz",
        "colab_type": "text"
      },
      "source": [
        "앞서 함수 제작을 위해 def라는 예약어를 사용했듯,  \n",
        "클래스 또한 class라는 예약어를 사용해야 한다."
      ]
    },
    {
      "cell_type": "code",
      "metadata": {
        "id": "k5foXztWjMAE",
        "colab_type": "code",
        "colab": {}
      },
      "source": [
        "# class 클래스명:\n",
        "#     변수명 = 값\n",
        "#     변수명 = 값\n",
        "#     def 함수명(self, 전달값_변수명, ...):\n",
        "#         코드1\n",
        "#         코드2"
      ],
      "execution_count": 0,
      "outputs": []
    },
    {
      "cell_type": "markdown",
      "metadata": {
        "id": "MqyjOX45kEM4",
        "colab_type": "text"
      },
      "source": [
        "클래스의 특이한 점은 함수와 달리 self라는 전달값이 추가된다.  \n",
        "이는 실제 전달 값이 아닌 파이썬 내부에서 사용되는 약속된 값이라고 이해하면 된다.  \n"
      ]
    },
    {
      "cell_type": "code",
      "metadata": {
        "id": "BQKWuIvrcBGg",
        "colab_type": "code",
        "outputId": "5ee798e7-ae17-47b3-e654-83d2e837f065",
        "colab": {
          "base_uri": "https://localhost:8080/",
          "height": 228
        }
      },
      "source": [
        "class Email:\n",
        "    sender = \"\"\n",
        "\n",
        "    def send_mail(self, recv, subject, contents):\n",
        "        print(\"From:|t\" + self.sender)\n",
        "        print(\"To:|t\" + recv)\n",
        "        print(\"Subject:\" + subject)\n",
        "        print(\"Contents\")\n",
        "        print(contents)\n",
        "        print(\"-\"*20)\n",
        "\n",
        "e = Email()\n",
        "e.sender = \"airim@naver.com\"\n",
        "recv_list = [\"gwangjuai_1@likelion.net\",\"gwangjuai_2@likelion.net\"]\n",
        "\n",
        "for recv in recv_list:\n",
        "    e.send_mail(recv, \"광주 인공지능 사관학교에 오신것을 환영합니다.\",\n",
        "    \"이번 온라인 강의는 함수와 클래스입니다.\")"
      ],
      "execution_count": 0,
      "outputs": [
        {
          "output_type": "stream",
          "text": [
            "From:|tairim@naver.com\n",
            "To:|tgwangjuai_1@likelion.net\n",
            "Subject:광주 인공지능 사관학교에 오신것을 환영합니다.\n",
            "Contents\n",
            "이번 온라인 강의는 함수와 클래스입니다.\n",
            "--------------------\n",
            "From:|tairim@naver.com\n",
            "To:|tgwangjuai_2@likelion.net\n",
            "Subject:광주 인공지능 사관학교에 오신것을 환영합니다.\n",
            "Contents\n",
            "이번 온라인 강의는 함수와 클래스입니다.\n",
            "--------------------\n"
          ],
          "name": "stdout"
        }
      ]
    },
    {
      "cell_type": "markdown",
      "metadata": {
        "id": "oKMXApSpmeMR",
        "colab_type": "text"
      },
      "source": [
        "1~10번째 줄까지의 코드는 Email클래스를 정의하는 코드이다.  \n",
        "이 클래스는 보다시피 sender라는 변수와 send_mail이라는 함수를 하나씩 가지고 있다.  \n",
        "앞서 설명한 것처럼 self는 파이썬 내부에서 사용되는 값이기 때문에  \n",
        "send_mail 함수는 self를 제외한 전달값 3개를 입력 받는 함수이다.  \n",
        "이 클래스는 실제 메일을 보내는 함수는 아니지만  \n",
        "관련 내용을 출력하는 함수인데, 5번째 줄을 보면  \n",
        "sender를 출력하기 위해 self.sender로 작성한 것을 확인할 수 있다.  \n",
        "이는 함수 않에서 만든 변수가 아니라 클래스에 속한 변수이기 때문에  \n",
        "클래스 자기 자신이 가진 sender라는 의미로 self.sender라 표기해야 한다.  \n",
        "\n",
        "그리고 12번째 코드를 보면 우리가 알고 있는 변수 제작 방법이긴 한데  \n",
        "일반적인 문자열이나 숫자가 아닌 클래스가 들어가 있다.  \n",
        "즉 클래스가 변수로서 저장되었다는 의미이다.  \n",
        "이는 Email클래스 자료형 변수가 되는 것을 의미한다.  \n",
        "이 클래스 변수는 이후 클래스에 속한 변수와 함수를 모두 사용할 수 있게 된다.  \n",
        "\n",
        "그리고 13번째 코드를 보면, e변수에 점이 하나 있고,  \n",
        "sender변수가 붙어 있는데, 이는 Email클래스 안에 있던  \n",
        "sender변수에 접근하고자 점을 이용한 것이다.  \n",
        "이렇게 점을 활용하게 되면 클래스 내부에 있는 변수에 접근할 수가 있다.  \n",
        "\n",
        "16번째,17번째 코드는 14번째 줄에서 만든  \n",
        "리스트를 순회하면서 e클래스 변수에 있는 send_mail()을 호출한다.  \n",
        "이때 앞서 이야기 했듯  \n",
        "send_mail()에 self는 전달 값으로 사용되는 변수가 아니기 때문에  \n",
        "3개의 전달 값만을 입력해야 한다.  \n",
        "\n",
        "\n"
      ]
    },
    {
      "cell_type": "markdown",
      "metadata": {
        "id": "GUkGWvPvpg8t",
        "colab_type": "text"
      },
      "source": [
        "###클래스 활용(Use the class)\n",
        "\n",
        "####다른 파이썬 파일에 있는 클래스를 사용하는 방법  \n",
        "from 파일이름 import 클래스명  \n",
        "from my_email import Email"
      ]
    },
    {
      "cell_type": "code",
      "metadata": {
        "id": "K_t84yOTcBJY",
        "colab_type": "code",
        "colab": {}
      },
      "source": [
        ""
      ],
      "execution_count": 0,
      "outputs": []
    }
  ]
}