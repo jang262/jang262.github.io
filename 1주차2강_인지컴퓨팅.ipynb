{
  "nbformat": 4,
  "nbformat_minor": 0,
  "metadata": {
    "colab": {
      "name": "1주차2강_인지컴퓨팅.ipynb",
      "provenance": [],
      "collapsed_sections": [],
      "authorship_tag": "ABX9TyNwUE+FIGea5QRLL0S9KRSx",
      "include_colab_link": true
    },
    "kernelspec": {
      "name": "python3",
      "display_name": "Python 3"
    }
  },
  "cells": [
    {
      "cell_type": "markdown",
      "metadata": {
        "id": "view-in-github",
        "colab_type": "text"
      },
      "source": [
        "<a href=\"https://colab.research.google.com/github/jang262/jang262.github.io/blob/master/1%EC%A3%BC%EC%B0%A82%EA%B0%95_%EC%9D%B8%EC%A7%80%EC%BB%B4%ED%93%A8%ED%8C%85.ipynb\" target=\"_parent\"><img src=\"https://colab.research.google.com/assets/colab-badge.svg\" alt=\"Open In Colab\"/></a>"
      ]
    },
    {
      "cell_type": "markdown",
      "metadata": {
        "id": "09qiNfvq4qgO",
        "colab_type": "text"
      },
      "source": [
        "# 인지컴퓨팅\n",
        "\n",
        "기계와 사람은 공존할 수 있을까?  \n",
        "<br>\n",
        "지금까지 인공지능의 발전은  \n",
        "지능 감각 인지기능에 집중  \n",
        "동작 행동기능은 미비  \n",
        "<br>\n",
        "\"인간에게 알려진 우주 내에서 가장 복잡한 장치는 인간의 뇌이다.\"  \n",
        "-테런스 J.세즈노스키-  \n",
        "<br>\n",
        "입력값 - 섭취한 음식물  \n",
        "중간 화학 처리  \n",
        "출력값 - 신체의 일부  \n",
        "<br>\n",
        "인간의 뇌  \n",
        "입력값 전달 받기  \n",
        "몸 안에서 발생하는 활동을 지속적으로 감시  \n",
        "내적 우선순위에 근거한 의사결정  \n",
        "'뇌의 기능' 수요 조절 및 균형 유지   \n",
        "<br>\n",
        "\"인간의 몸은 체화된 인지의 중심 원리\"  \n",
        "신체적 경험을 하나의 수단으로써 활용하고 여기서 발생한 정보를 처리 및 기억을 통해 더 나은 의사결정을 내리는 것  \n",
        "<br>\n",
        "**인지컴퓨팅이란 : 인간의 뇌를 모델로 하는 컴퓨터 시스템**\n",
        "<br>\n",
        "감정  \n",
        "인간과의 상호작용  \n",
        "<br>\n",
        "뉴럴 네트워크란 : 인간의 뇌 일부를 구성하는 부분  \n",
        "<br>\n",
        "인지 컴퓨팅 기술은 다소 파괴적인 측면을 보유하고 있으며 우리 사회가 그것을 흡수하고 적절히 대응해 나가는 데에는 상당한 기간이 소요되리라는 것도 사실이지만\n",
        "궁극적으로는 결코 실전적인 위헙은 아니다.  \n",
        "<br>\n",
        "과거 A증상에는 A치료법을 사용해야 한다고 생각하였으나  \n",
        "인지 컴퓨딩 덕분에 개인 맞춤형 정밀 치료가 가능한 시대로 변화  \n",
        "<br>\n",
        "인지컴퓨팅의 목적  \n",
        "의학  \n",
        "인간과의 상호작용  \n",
        "맞춤형 서비스  \n",
        "<br>\n",
        "하비에르 마블런 : 소셜로봇 루비 제작  \n",
        "<br>\n",
        "커뮤니케이션과 축적된 상호작용으로 관계가 형성  \n",
        "관계가 형성된 이후로 아이들은 루비를 지각이 있는 존재로 간주하기 시작.  \n",
        "<br>\n",
        "결과적으로 인지 컴퓨팅이 설계된 로봇과의 축적된 상호작용은 사람에게 충분한 인지를 심어줄 수 있다  \n",
        "<br>\n",
        "EBS 다큐프라임 4차인간 3부 어떻게 기계와 공존할 것인가 시청하기  \n",
        "<br>\n",
        "문제  \n",
        "현재 인공지능산업에 선두를 달리고 있는 국가는?  \n",
        "케나다 토론토 벡터연구소 일 수도 있으나  \n",
        "중국일 확률이 더 높을꺼 같다  \n",
        "민주주의 국가에서는 불가능한 방대한 자료의 축적이 가능하기 때문이다.  \n",
        "<br>\n",
        "중국 브레인 프로젝트의 한 축인 뉴로모픽 컴퓨팅  \n",
        "뉴로모픽 컴퓨팅이란 : 인간의 뇌를 모방해 방대한 정보를 기억하고 처리하는 기술\n",
        "<br>\n",
        "\n",
        "\n",
        "\n",
        "\n"
      ]
    },
    {
      "cell_type": "code",
      "metadata": {
        "id": "7Ca61jp_4iP8",
        "colab_type": "code",
        "colab": {}
      },
      "source": [
        ""
      ],
      "execution_count": 0,
      "outputs": []
    }
  ]
}