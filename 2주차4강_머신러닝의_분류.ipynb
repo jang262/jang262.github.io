{
  "nbformat": 4,
  "nbformat_minor": 0,
  "metadata": {
    "colab": {
      "name": "2주차4강_머신러닝의_분류.ipynb",
      "provenance": [],
      "collapsed_sections": [],
      "authorship_tag": "ABX9TyPoVEX3mrjMX7rG1hL6DBn4",
      "include_colab_link": true
    },
    "kernelspec": {
      "name": "python3",
      "display_name": "Python 3"
    }
  },
  "cells": [
    {
      "cell_type": "markdown",
      "metadata": {
        "id": "view-in-github",
        "colab_type": "text"
      },
      "source": [
        "<a href=\"https://colab.research.google.com/github/jang262/jang262.github.io/blob/master/2%EC%A3%BC%EC%B0%A84%EA%B0%95_%EB%A8%B8%EC%8B%A0%EB%9F%AC%EB%8B%9D%EC%9D%98_%EB%B6%84%EB%A5%98.ipynb\" target=\"_parent\"><img src=\"https://colab.research.google.com/assets/colab-badge.svg\" alt=\"Open In Colab\"/></a>"
      ]
    },
    {
      "cell_type": "markdown",
      "metadata": {
        "id": "-yXmsR2OuvJN",
        "colab_type": "text"
      },
      "source": [
        "#머신러닝의 분류  \n",
        "<br>\n",
        "\n",
        "\"머신러닝은 데이터를 이해하는 알고리즘의 과학이자 하나의 어플리케이션이다.\"  \n",
        "\n",
        "우리는 데이터가 풍부한 시대에 살고 있다.  \n",
        "그래서 스스로 학습할 서 있는 머신러닝 알고리즘을 사용한다면  \n",
        "이 무한에 가까운 데이터를 지식으로 바꿀 수 있다.  \n",
        "\n",
        "또 최근 개발된 강력한 오픈소스 라이브러리로 지금 이 순간이  \n",
        "머신러닝 혹은 딥러닝 분야에 뛰어들기 아주 좋은 시기가 아닐까 한다.  \n",
        "<br>\n",
        "20세기 후반  \n",
        "\n",
        "데이터에서 지식을 추출하여 가까운 미래를 예측하는  \n",
        "self-learning 알고리즘과 관련된 인공지능의 하위분야로 머신러닝이 출혔했다.  \n",
        "\n",
        "이러한 기술의 발전은, 인간이 직접 대량의 데이터를 분석하고,  \n",
        "규칙을 유도하며 모델을 구축하는 **기호주의** 방식에서 벗어나  \n",
        "머신러닝을 통해 데이터에서 더 효율적으로 지식을 추출하고  \n",
        "이를 바탕으로 **예측 모델과 데이터 기반의 의사결정**을 진행  \n",
        "즉, **성능 및 효율성을 포함한 모든 부분에서 점진적으로 성장할 수 있었다.**  \n",
        "\n",
        "이와 같은 성장은 컴퓨터과학 분야의 성장과도 연결되는데,  \n",
        "최근 컴퓨터과학 분야를 떠나 더 다양한 분야에서  \n",
        "머신러닝의 중요성을 강조하고 있으며  \n",
        "우리 일상생활에서도 아주 큰 역할을 하고 있다.  \n",
        "\n",
        "대표적으로  \n",
        "광고성 이메일 필터링, 손글씨인식 & 음성인식, 웹 검색 엔진, 체스대결 프로그램 등  \n",
        "더 나아가 최근에는 군사용 자율주행시스템까지 등장하고 있다.  \n",
        "\n",
        "이와 같은 머신러닝은 크게  \n",
        "**지도학습, 비지도학습, 강화학습**  \n",
        "으로 분류된다."
      ]
    },
    {
      "cell_type": "markdown",
      "metadata": {
        "id": "QufuOtclufnU",
        "colab_type": "text"
      },
      "source": [
        "###지도학습  \n",
        "\n",
        "**지도학습의 주요 목적은  \n",
        "레이블 된 훈련 데이터를 활용하여 모델을 학습시켜,  \n",
        "본적 없는 가까운 미래 데이터에 대한 예측값을 출력하는 것.**  \n",
        "\n",
        "예를 들어 광고성 이메일 필터링의 경우  \n",
        "\n",
        "레이블된 이메일 테이터(광고성 메일 또는 일반메일로 표시된)를 활용하여  \n",
        "학습(훈련)이란 과정을 통해 데이터를 학습(훈련)시키고  \n",
        "학습(훈련)을 마친 모델은 새로운 이메일이 들어왔을 때  \n",
        "두 개의 범주 중 어디에 속하는지 예측한다.  \n",
        "\n",
        "이와같은 광고성 이메일 필터처럼,  \n",
        "<u>개별 클래스 레이블이 있는 지도학습을 **분류**</u>라고 부른다.\n",
        "\n",
        "지도학습의 또 다른 종류는 <u>연속값을 예측하는 **회귀**</u>가 있다.  \n",
        "\n",
        "\n",
        "\n"
      ]
    },
    {
      "cell_type": "markdown",
      "metadata": {
        "id": "wJIvnT9Uw9-C",
        "colab_type": "text"
      },
      "source": [
        "####분류(Classification)  \n",
        "\n",
        "분류는 지도학습의 하위 카테고리에 속해 있다.  \n",
        "이러한 분류는 <u>과거의 관측을 기반으로 새로운 샘플의  \n",
        "범주형 클래스 레이블을 예측하는 것</u>이 **목적**이다.  \n",
        "\n",
        "<u>클래스 레이블은 **이산적**이고 **순서가 없어** 데이터가 속한 그룹으로 이해할 수 있는데</u>  \n",
        "앞서 언급한 광고성 이메일 감지가 전형적인 **이진 분류** 작업의 예다.  \n",
        "그래서 광고성 이메일과 일반메일 두 개의 클래스 사이를 구분하기 위해  \n",
        "머신러닝 알고리즘은 일련의 규칙을 학습하게 된다.  \n",
        "<img src=\"https://user-images.githubusercontent.com/54702627/83106383-56b09200-a0f7-11ea-8052-7f1abb739d9d.png\" width=\"450px\" height=\"300px\" title=\"이진 분류 작업의 개념\" alt=\"RubberDuck\"></img><br/>\n",
        "\n",
        "이 그림은 30개의 훈련 데이터가 있는 이진 분류 작업의 개념을 나타낸다.  \n",
        "15개의 샘플은 광고성 이메일 클래스, 다른 15개는 일반메일 클래스로 되어 있다.  \n",
        "각 각의 데이터는 x1과 x2 두개의 값에 연관되어 있으므로  \n",
        "2차원 데이터 셋이라 할 수 있다.  \n",
        "우리는 지도학습 알고리즘을 사용하여 두 클래스를 구분할 수 있는 규칙을 학습시킨다.  \n",
        "이 규칙을 점선으로 표현할 수 있고, 이 점선을 **결정 경계(Decision boundery)**라고 부른다.  \n",
        "\n",
        "최종적으로 학습을 마친 알고리즘에 새로운 데이터가 들어오고, \n",
        "이 데이터에 x1과 x2 값이 주어지면 두 범주 중 하나의 범주로 분류 된다.  \n",
        "\n",
        "하지만 세상에는 2개 이상의 클래스 레이블을 가진 경우가 많다.  \n",
        "그래서 지도학습 알고리즘으로 학습한 예측 모델은 훈련 데이터 셋에 있는  \n",
        "모든 클래스 레이블을 새로운 샘플에 할당할 수 있어야 한다.  \n",
        "\n",
        "이러한 **다중 분류**의 전형적인 예는 우리가 익히 알고 있는 **손글씨 인식(MNIST)**이 있다.  \n",
        "각 글자를 손으로 한 글자씩 쓴 이미지 샘플을 모아서  \n",
        "훈련 데이터 셋을 구성하고 학습하며, 새로운 글자를 입력으로 제공하면  \n",
        "모델은 머신러닝 알고리즘을 바탕으로 우리가 쓴 손글씨 알파벳을 예측합니다.  \n",
        "\n",
        "\n"
      ]
    },
    {
      "cell_type": "markdown",
      "metadata": {
        "id": "OMYsySYQ1XZC",
        "colab_type": "text"
      },
      "source": [
        "####회귀(Regression)  \n",
        "\n",
        "회귀는 데이터가 주어졌을 때, 연속적인 출력값을 예측하는 기법  \n",
        "머신러닝 알고리즘은 입력 데이터와 출력값이 주어졌을 때  \n",
        "두 변수 사이의 관계를 탐색 한다.\n",
        "\n",
        "예를 들어 프로게이머 지망생들의 게임 랭크 점수를 예측한다고 가정해 보자.  \n",
        "게임 연습에 투자한 시간과 최종 점수 사이에 관계가 분명히 있다면  \n",
        "우린 두 값으로 훈련 데이터를 만들고 모델을 학습시킬 수 있다.  \n",
        "이후 이 모델은 프로게이머 지망생들의 연습량 데이터를 활용해 최종 랭크 점수를 예측하고  \n",
        "선수에게 더 맞느 훈련 방향성을 잡아 볼 수 있을 것이다.  \n",
        "\n",
        "<img src=\"https://user-images.githubusercontent.com/54702627/83108778-413d6700-a0fb-11ea-883f-da6be62be8a5.png\" width=\"450px\" height=\"300px\" title=\"선형회귀의 개념\" alt=\"RubberDuck\"></img><br/>\n",
        "\n",
        "이 그림은 선형회귀의 개념을 보여준다.  \n",
        "입력값 x와 결과값 y가 주어지면 각 데이터와 직선 사이 거리가 최소가 되는  \n",
        "직선을 그을 수 있는데 일반적으로 평균 제곱 거리를 사용한다.\n",
        "\n",
        "이렇게 데이터에서 학습한 직선의 기울기와 절편을 사용하면  \n",
        "머신러닝 알고리즘은 새로운 데이터의 출력값을 예측할 수 있다.  \n",
        "\n"
      ]
    },
    {
      "cell_type": "markdown",
      "metadata": {
        "id": "4OGrPnKIBkU-",
        "colab_type": "text"
      },
      "source": [
        "###강화학습"
      ]
    },
    {
      "cell_type": "markdown",
      "metadata": {
        "id": "BBS7kgl3TJni",
        "colab_type": "text"
      },
      "source": [
        "과거 강화 학습은 머신러닝의 한 분야로 조그맣게 소개되었지만, 최근 들어 급격하게 떠오르고 있는 분야로 실제로 강화 학습만을 대상으로 집필한 책도 출간되고 있다.  \n",
        "\n",
        "그만큼 강화 학습은 공부해야할 이론과 개념이 방대하며 이를 적용한 사례도 이제서야 조금씩 모습을 드러내고 있는 추세이다.  \n",
        "\n",
        "이 강화학습의 목표는  \n",
        "환경이란 개념과 상호작용하며 에이전트의 성능을 향상시키는 것이다.  \n",
        "\n",
        "<img src=\"https://user-images.githubusercontent.com/54702627/83503730-7c2a0b00-a4fe-11ea-8c70-970b6746612b.png\" width=\"450px\" height=\"300px\" title=\"강화학습1\" alt=\"RubberDuck\"></img><br/>\n",
        "\n",
        " 환경의 현재 상태 정보는 보상 신호라는 것을 포함하기 때문에 강화 학습을 지도학습과 관련된 분야로 생각할 수도 있지만, 이 강화학습의 피드백은 정답 레이블이나 수치가 아니다.  \n",
        "이 보상 함수라는 것을 통해 에이전트가 취한 행동이 얼마나 좋은 행동인지 혹은 좋지 못한 행동인지를 측정한 값이다.  \n",
        "이러한 에이전트는 환경과 핑퐁하며 보상이 최대화되는 일련의 행동을 강화 학습을 통해 마치 시행착오를 격는 탐험처럼 학습한다.  \n",
        "강화 학습의 대표적인 예는 게임이다.  \n",
        "<br>  \n",
        "\n",
        "2014년 딥마인드는 알파고의 전신인 강화 학습의 연장선에 있는 Deep-Q-Network를 통해 아타리 게임의 절반 이상에서 사람보다 더 높은 스코어를 달성한다.  \n",
        "최근 2020년 4월 딥마인드는 다시 한번 인공지능 에이전트 57을 공개, 이 인공지능은 아타리 게임의 57종 모두를 마스터 했다.  \n",
        "그리고 이러한 성과를 담은 연구진의 논문도 공개 했다.  \n",
        "\n",
        "<img src=\"https://user-images.githubusercontent.com/54702627/83504275-49344700-a4ff-11ea-9a14-edc4c89d075c.png\" width=\"450px\" height=\"300px\" title=\"강화학습2\" alt=\"RubberDuck\"></img><br/>\n",
        "\n",
        "그럼 도대체 어떠한 방식으로 에이전트는 게임을 학습하는 것일까??  \n",
        "벽돌 깨기를 예를 들어 살펴보면,  \n",
        "단순히 하단의 배트로 공을 튕겨 위의 벽돌을 제거함으로 점수를 얻는다.  \n",
        "에이전트는 어떻게 해야 점수를 얻는지, 어떻게 하면 게임 오버가 되는지 전혀 모른 상태에서 게임을 시작한다.  \n",
        "\n",
        "<img src=\"https://user-images.githubusercontent.com/54702627/83504933-150d5600-a500-11ea-86ab-4a2ff4c4ab01.png\" width=\"450px\" height=\"300px\" title=\"강화학습3\" alt=\"RubberDuck\"></img><br/>\n",
        "하지만 게임의 수를 거듭할 수 록 어떻게 하면 양의 보상을 얻는지, 어떻게 하면 음의 보상을 얻는지 행동과 환경 그리고 보상이라는 개념을 통해 학습을 하기 시작 한다.  \n",
        "\n",
        "앞서 말한 것처럼 보상이 최대화되는 일련의 행동을 통해 학습을 진행 한다.  \n",
        "여기서 부터 강화 학습의 진짜 진면모가 나타난다.  \n",
        "<br>  \n",
        "\n",
        "우리 사람은 게임에 대하여 어느 정도 학습을 하고 점수를 얻는 방식을 깨달으면, 극한의 스코어를 얻기까지 '시간'과 '노력'이 상당히 소요된되다.  \n",
        "\n",
        "<img src=\"https://user-images.githubusercontent.com/54702627/83505695-17bc7b00-a501-11ea-9050-fe4a6d2fb06c.png\" width=\"450px\" height=\"300px\" title=\"강화학습4\" alt=\"RubberDuck\"></img><br/>\n",
        "\n",
        "하지만 강화 학습은 사람과 달리 이러한 학습과정을 밤낮없이 진행할 수 있으며, 단기간에 놀라운 성장을 보여준다.  \n",
        "\n",
        "<img src=\"https://user-images.githubusercontent.com/54702627/83505958-797ce500-a501-11ea-89a3-d47d25c2f12d.png\" width=\"450px\" height=\"300px\" title=\"강화학습5\" alt=\"RubberDuck\"></img><br/>\n",
        "\n",
        "그리고 이세돌과 알파고의 2번째 대국의 37번째 수처럼 사람은 이해할 수 없는 행동을 취하고, 이는 '사람이 생각하지 못한 수'가 된다.  \n",
        "\n",
        "<img src=\"https://user-images.githubusercontent.com/54702627/83506270-e7c1a780-a501-11ea-8e50-089d4e816f10.png\" width=\"450px\" height=\"300px\" title=\"강화학습6\" alt=\"RubberDuck\"></img><br/>\n",
        "\n",
        "이처럼 강화 학습은 머신러닝에서 급격하게 떠오르고 있는 분야이다."
      ]
    },
    {
      "cell_type": "markdown",
      "metadata": {
        "id": "CNeWrwszcaGm",
        "colab_type": "text"
      },
      "source": [
        "###비지도학습"
      ]
    },
    {
      "cell_type": "markdown",
      "metadata": {
        "id": "Tf_RAcDPccZS",
        "colab_type": "text"
      },
      "source": [
        "우리가 처음 살펴본 지도 학습에서는 데이터에 대해 사전에 옳은 답을 알고 있었다.  \n",
        "그리고 강화 학습에서는 에이전트의 행동을 어떻게 보상할지 그 측정 방법을 정의했었다.  \n",
        "마지막 비지도학습에서는 레이블 되지 않거나, 구조를 알 수 없는 데이터를 다룬다.  \n",
        "즉, 비지도학습을 사용하면 출력값이나 보상 함수의 도움 없이도 의미 있는 정보를 추출할 수가 있으며 데이터 구조를 탐색할 수가 있게 된다.  \n",
        "\n",
        "비지도학습에는 다양한 기법이 있다.  \n",
        "그중 다양한 분야에서 활용되는 군집을 살펴보도록 하겠다."
      ]
    },
    {
      "cell_type": "markdown",
      "metadata": {
        "id": "fQfYTuITdcn-",
        "colab_type": "text"
      },
      "source": [
        "####군집"
      ]
    },
    {
      "cell_type": "markdown",
      "metadata": {
        "id": "dDuLFOfNdkRm",
        "colab_type": "text"
      },
      "source": [
        "군집은 사전 정보 없이 쌓여있는 그룹 정보를 의미 있는 서브그룹 또는 클러스터로 조직하는 탐색적 데이터 분석 기법이다.  \n",
        "\n",
        "분석 과정에서 만든 각 클러스터는 어느 정도 유서성을 공유하고 다른 데이터(클러스터)와 구분되는 그룹을 형성한다.  \n",
        "\n",
        "이처럼 군집은 정보를 조직화하고 데이터에서 의미 있는 관계를 유도하는 훌륭한 도구이다.  \n",
        "<img src=\"https://user-images.githubusercontent.com/54702627/83507301-56533500-a503-11ea-839e-7e450f4011c6.png\" width=\"450px\" height=\"300px\" title=\"강화학습5\" alt=\"RubberDuck\"></img><br/>"
      ]
    },
    {
      "cell_type": "markdown",
      "metadata": {
        "id": "n2MF_X0Qeyna",
        "colab_type": "text"
      },
      "source": [
        "#####차원 축소"
      ]
    },
    {
      "cell_type": "markdown",
      "metadata": {
        "id": "JcnYgj1se1Ac",
        "colab_type": "text"
      },
      "source": [
        "비지도 학습의 또 다른 하위 분야로, 고차원의 데이터를 저차원으로 축소하는 기법.  \n",
        "세상에는 의외로 고차원을 이루는 데이터가 상당히 많다.  \n",
        "이로인해 머신러닝 알고리즘은 계산 성능과 저장 공간의 한계에 종종 맞닥뜨리곤 한다.  \n",
        "그렇다고 해서 무작정 이상치라 판단되는 데이터 일부를 제거하게 되면 이후 특정 알고리즘의 예측 성능을 감소시키는 불상사가 생기기도 한다.  \n",
        "그래서 이러한 상황을 극복하고자, 비지도 차원 축소 기법은 대부분의 정보를 유지하면서 더 작은 차원의 부분 공간으로 데이터를 압축시키게 된다.  \n",
        "이번 영상에서는 매우 넓은 시각으로 머신러닝이란 숲을 바라보았다.  \n",
        "\n"
      ]
    },
    {
      "cell_type": "code",
      "metadata": {
        "id": "K_t84yOTcBJY",
        "colab_type": "code",
        "colab": {}
      },
      "source": [
        ""
      ],
      "execution_count": 0,
      "outputs": []
    },
    {
      "cell_type": "code",
      "metadata": {
        "id": "mBF0pioBrEbf",
        "colab_type": "code",
        "colab": {}
      },
      "source": [
        ""
      ],
      "execution_count": 0,
      "outputs": []
    },
    {
      "cell_type": "code",
      "metadata": {
        "id": "HmkHmh8r1WWP",
        "colab_type": "code",
        "colab": {}
      },
      "source": [
        ""
      ],
      "execution_count": 0,
      "outputs": []
    },
    {
      "cell_type": "code",
      "metadata": {
        "id": "w_8Xl80WrEd2",
        "colab_type": "code",
        "colab": {}
      },
      "source": [
        ""
      ],
      "execution_count": 0,
      "outputs": []
    },
    {
      "cell_type": "code",
      "metadata": {
        "id": "-VJ7Nc40rEgP",
        "colab_type": "code",
        "colab": {}
      },
      "source": [
        ""
      ],
      "execution_count": 0,
      "outputs": []
    },
    {
      "cell_type": "code",
      "metadata": {
        "id": "YuiPIKMsrEkd",
        "colab_type": "code",
        "colab": {}
      },
      "source": [
        ""
      ],
      "execution_count": 0,
      "outputs": []
    }
  ]
}