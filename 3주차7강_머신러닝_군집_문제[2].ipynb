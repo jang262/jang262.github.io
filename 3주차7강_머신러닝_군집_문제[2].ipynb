{
  "nbformat": 4,
  "nbformat_minor": 0,
  "metadata": {
    "colab": {
      "name": "3주차7강_머신러닝_군집_문제[2].ipynb",
      "provenance": [],
      "collapsed_sections": [],
      "authorship_tag": "ABX9TyNS0pT36zGMJEyInKWmhono",
      "include_colab_link": true
    },
    "kernelspec": {
      "name": "python3",
      "display_name": "Python 3"
    }
  },
  "cells": [
    {
      "cell_type": "markdown",
      "metadata": {
        "id": "view-in-github",
        "colab_type": "text"
      },
      "source": [
        "<a href=\"https://colab.research.google.com/github/jang262/jang262.github.io/blob/master/3%EC%A3%BC%EC%B0%A87%EA%B0%95_%EB%A8%B8%EC%8B%A0%EB%9F%AC%EB%8B%9D_%EA%B5%B0%EC%A7%91_%EB%AC%B8%EC%A0%9C%5B2%5D.ipynb\" target=\"_parent\"><img src=\"https://colab.research.google.com/assets/colab-badge.svg\" alt=\"Open In Colab\"/></a>"
      ]
    },
    {
      "cell_type": "markdown",
      "metadata": {
        "id": "p-CPVRSfEk6c",
        "colab_type": "text"
      },
      "source": [
        "# 군집분석\n",
        "오늘 영상에서는 지난 강의에 이어서  \n",
        "비지도학습의 한 분야인  \n",
        "군집분석의 또 다른 기법들을 살펴보도록 하겠습니다.  \n",
        "\n",
        "## 계층군집  \n",
        "첫번째로 **계층군집**부터 이야기 해보죠.  \n",
        "<u>계층군집 알고리즘의 장점</u>중 하나는  \n",
        "<u>**덴드로그램**을 그릴 수 가 있다</u>는 겁니다.  \n",
        "<img src=\"https://user-images.githubusercontent.com/54702627/84639190-03ca3d80-af33-11ea-96d1-a7f439f15d74.png\" width=\"450px\" height=\"300px\" title=\"머신러닝_군집_문제[2]1\" alt=\"RubberDuck\"></img><br/>\n",
        "<u>이러한 덴드로 그램은 의미있는 분류체계를 만들어주므로  \n",
        "군집 결과를 이해하는데 도움이 되고  \n",
        "누군가에게 군집 결과를 설명하기에도 적합</u>하죠.  \n",
        "그리고 계층적 알고리즘의 또다른 장점은  \n",
        "<u>클러스트의 수를 미리 지정하지 않아도 된다</u>는 점입니다.\n",
        "\n",
        "그러며는 계층적 군집 분석은 마치 장점밖에 존재하지 않을꺼 같은데  \n",
        "정말 그럴까요? 좀 더 자세하게 살펴보겠습니다.  \n"
      ]
    },
    {
      "cell_type": "markdown",
      "metadata": {
        "id": "9c0vJrYsPytu",
        "colab_type": "text"
      },
      "source": [
        "<u>계층군집을 형성화는 방법</u>에는 두가지가 있습니다.  \n",
        "\n",
        "**병합 계층 군집(Agglomerative hierarchical clustering)**과 **분할 계층 군집(Divisive hierarchical clustering)**  \n",
        "<img src=\"https://user-images.githubusercontent.com/54702627/84640003-142ee800-af34-11ea-8f6a-082ee80cf198.png\" width=\"450px\" height=\"300px\" title=\"머신러닝_군집_문제[2]2\" alt=\"RubberDuck\"></img><br/>\n",
        "\n",
        "분할 계층 군집은 이름에서도 알 수 있듯이 전체 데이터를 포함하는  \n",
        "하나의 클러스터에서 시작해, 클러스터 속 데이터가 하나가 남을 때까지  \n",
        "<img src=\"https://user-images.githubusercontent.com/54702627/84640196-57895680-af34-11ea-817b-ff22063114ba.png\" width=\"450px\" height=\"300px\" title=\"머신러닝_군집_문제[2]3\" alt=\"RubberDuck\"></img><br/>\n",
        "반복적으로 클러스터를 나누죠.  \n",
        "\n",
        "반면 병합 계층 군집은 이와는 반대로, 클러스터당 하나의 데이터에서 시작하여,  \n",
        "<img src=\"https://user-images.githubusercontent.com/54702627/84640432-a1723c80-af34-11ea-9594-4dd4c1557f6f.png\" width=\"450px\" height=\"300px\" title=\"머신러닝_군집_문제[2]4\" alt=\"RubberDuck\"></img><br/>\n",
        "모든 데이터가 하나의 클러스터에 속할 때까지 가장 가까운 클러스터를 병합해 나갑니다.  \n"
      ]
    },
    {
      "cell_type": "markdown",
      "metadata": {
        "id": "pFvMQcy1R5Ie",
        "colab_type": "text"
      },
      "source": [
        "이 병합 계층 군집을 이루는 두 가지 기본 알고리즘에는  \n",
        "**단일연결**과 **완전연결**이 있는데, 이 <u>**단일 연결**을 사용하게 되면  \n",
        "클러스터 쌍에서 가장 비슷한 즉, 가장 가까운 데이터 간의 거리를 계산</u>하죠.  \n",
        "<img src=\"https://user-images.githubusercontent.com/54702627/84641072-848a3900-af35-11ea-9a6d-5469f80aefb0.png\" width=\"450px\" height=\"300px\" title=\"머신러닝_군집_문제[2]5\" alt=\"RubberDuck\"></img><br/>\n",
        "그 다음, <u>거리의 값이 가장 작은 두 클러스터를 하나로 합치게 됩니다.</u>  \n",
        "\n",
        "그리고 **완전 연결** 방식은 단일 연결과 비슷하기는 한데 약간의 차이점이 있습니다.  \n",
        "<img src=\"https://user-images.githubusercontent.com/54702627/84641388-e2b71c00-af35-11ea-9c07-ccd48bb4d32d.png\" width=\"450px\" height=\"300px\" title=\"머신러닝_군집_문제[2]6\" alt=\"RubberDuck\"></img><br/>\n",
        "바로 클러스터 쌍에서 가장 비슷한 데이터를 찾는 것이 아니라,  \n",
        "<u>가장 비슷하지 않은 데이터 즉, 가장 멀리 있는 데이터를 찾아 거리를 구한 후  \n",
        "가장 가까운 두 클러스터를 합쳐줍니다.</u>  \n"
      ]
    },
    {
      "cell_type": "markdown",
      "metadata": {
        "id": "H5IOp0YJTpxN",
        "colab_type": "text"
      },
      "source": [
        "또 병합 계층 군집에서 널리 사용하고 있는 알고리즘으로는 **평균연결**과 **와드 연결**이있는데  \n",
        "\n",
        "<u>**평군 연결**은 두 클러스터 사이에 있는 모든 샘플사이의 평균거리가 가장 작은 클러스터 쌍을 합치는 방식</u>이고,  \n",
        "<img src=\"https://user-images.githubusercontent.com/54702627/84641937-c1a2fb00-af36-11ea-929d-85cb50f036f9.png\" width=\"450px\" height=\"300px\" title=\"머신러닝_군집_문제[2]7\" alt=\"RubberDuck\"></img><br/>\n",
        "<u>**와드 연결**은 클러스터 내 SSE(제곱오차합)이 가장 작게 증가하는 두 클러스터를 합치는 방식</u>입니다.  \n",
        "<img src=\"https://user-images.githubusercontent.com/54702627/84642190-10e92b80-af37-11ea-9939-4e07349842ab.png\" width=\"450px\" height=\"300px\" title=\"머신러닝_군집_문제[2]8\" alt=\"RubberDuck\"></img><br/>\n",
        "여기서 SSE(제곱오차합)은 지난 시간에 살펴 봤으니깐 자세한 설명은 지난 영상을 참고해 주세요.  \n"
      ]
    },
    {
      "cell_type": "markdown",
      "metadata": {
        "id": "gh2RKhFUVqjp",
        "colab_type": "text"
      },
      "source": [
        "이러한 4가지 방식중 우리는 기본 알고리즘에 속하는  \n",
        "<img src=\"https://user-images.githubusercontent.com/54702627/84642397-5dcd0200-af37-11ea-8516-3986e1500113.png\" width=\"450px\" height=\"300px\" title=\"머신러닝_군집_문제[2]9\" alt=\"RubberDuck\"></img><br/>\n",
        "완전연결 계층 군집을 코드와 함께 살펴보도록 하죠.  \n",
        "\n",
        "### 완전연결 계층 군집  \n",
        "우선 동작 방식은 이렇습니다.  \n",
        "<img src=\"https://user-images.githubusercontent.com/54702627/84642590-a4226100-af37-11ea-8ea4-c7d4d42f90f2.png\" width=\"450px\" height=\"300px\" title=\"머신러닝_군집_문제[2]10\" alt=\"RubberDuck\"></img><br/>\n"
      ]
    },
    {
      "cell_type": "markdown",
      "metadata": {
        "id": "Gu6z3kWxZTcV",
        "colab_type": "text"
      },
      "source": [
        "\n",
        "자 그럼 첫번째 단계인 거리행렬을 계산하는 방법에 대하여 진행하겠습니다.  \n",
        "\n",
        "먼저 군집분석을 진행하는데 필요한 샘플데이터 생성은 numpy를 이용하여 구축하고  \n",
        "<img src=\"https://user-images.githubusercontent.com/54702627/84642918-1d21b880-af38-11ea-86aa-8b9b752cc9bb.png\" width=\"450px\" height=\"300px\" title=\"머신러닝_군집_문제[2]11\" alt=\"RubberDuck\"></img><br/>\n",
        "무작위 함수를 통해 5곱하기 3행렬에 각각 0부터 1사이에 임의의 실수를 생성  \n",
        "그러고 어느정도 거리값을 출력해야 하므로 10정도를 곱하여 생성해 줍니다.  \n",
        "\n",
        "이후 pandas DataFrame형식으로 저장하고 이를 출력해보면  \n",
        "<img src=\"https://user-images.githubusercontent.com/54702627/84643206-75f15100-af38-11ea-842c-f273abd4c53c.png\" width=\"450px\" height=\"300px\" title=\"머신러닝_군집_문제[2]12\" alt=\"RubberDuck\"></img><br/>\n",
        "이와 같은 데이터를 확인해 볼 수 있죠.   \n"
      ]
    },
    {
      "cell_type": "markdown",
      "metadata": {
        "id": "cdhBlhPtZc6N",
        "colab_type": "text"
      },
      "source": [
        "\n",
        "그럼 두번째 단계인 거리행렬을 계산해 봅시다.  \n",
        "계층군집 알고리즘 입력에 사용한 거리행렬을 계산하기 위해서는  \n",
        "scipy.spatial.distance 모듈에서 pdist함수를 사용해 보겠습니다.  \n",
        "<img src=\"https://user-images.githubusercontent.com/54702627/84643432-c668ae80-af38-11ea-8e09-9e555b0371a1.png\" width=\"450px\" height=\"300px\" title=\"머신러닝_군집_문제[2]13\" alt=\"RubberDuck\"></img><br/>\n",
        "\n",
        "입력으로 들어온 x,y,z값에 대하여 축약된 거리 행렬 값으로 반환합니다.  \n",
        "이때 거리계산은 일반적으로 사용되는 euclidean으로 지정해 주고  \n",
        "<img src=\"https://user-images.githubusercontent.com/54702627/84643610-0a5bb380-af39-11ea-9ac8-36ae91dd524f.png\" width=\"450px\" height=\"300px\" title=\"머신러닝_군집_문제[2]14\" alt=\"RubberDuck\"></img><br/>\n",
        "\n",
        "그 다음 squareform함수로 거리행렬 벡터값을  \n",
        "<img src=\"https://user-images.githubusercontent.com/54702627/84643811-4bec5e80-af39-11ea-865d-6bd7cfe55069.png\" width=\"450px\" height=\"300px\" title=\"머신러닝_군집_문제[2]15\" alt=\"RubberDuck\"></img><br/>\n",
        "행렬 형식으로 변환해주었습니다.  \n"
      ]
    },
    {
      "cell_type": "markdown",
      "metadata": {
        "id": "PsCsRf8EZhda",
        "colab_type": "text"
      },
      "source": [
        "그 다음 이러한 데이터들에 완전연결 병합방식을 적용하기 위해  \n",
        "scipy.cluster.hierarchy모듈에 linkage함수를 불러와줍니다.  \n",
        "<img src=\"https://user-images.githubusercontent.com/54702627/84644224-db920d00-af39-11ea-8c4e-2fd306b1080d.png\" width=\"450px\" height=\"300px\" title=\"머신러닝_군집_문제[2]16\" alt=\"RubberDuck\"></img><br/>\n",
        "\n",
        "이때 linkage함수에 무작정 squareform함수를 통과한 dataframe을 넣어주게 되면  \n",
        "<img src=\"https://user-images.githubusercontent.com/54702627/84644457-2a3fa700-af3a-11ea-8e60-2274b0c47856.png\" width=\"450px\" height=\"300px\" title=\"머신러닝_군집_문제[2]17\" alt=\"RubberDuck\"></img><br/>\n",
        "우리가 기대한 값과는 다른 결과가 출력되기에  \n",
        "우린 이 함수를 좀 더 살펴볼 필요가 있습니다.  \n",
        "\n",
        "설명을 보면  \n",
        "pdist함수에서 계산한 축약된 거리 행렬값을 입력 속성으로 사용할 수 있으며  \n",
        "아니면 linkage함수에 초기 데이터 배열을 전달하고 'euclidean'지표를 매개 변수로 사용할수 있다고 합니다.  \n",
        "<img src=\"https://user-images.githubusercontent.com/54702627/84644784-97ebd300-af3a-11ea-98b6-8cded696e106.png\" width=\"450px\" height=\"300px\" title=\"머신러닝_군집_문제[2]18\" alt=\"RubberDuck\"></img><br/>\n"
      ]
    },
    {
      "cell_type": "markdown",
      "metadata": {
        "id": "UXuL0P74bXGi",
        "colab_type": "text"
      },
      "source": [
        "그렇기에 다음 코드처럼 축약된 거리행렬을 사용하여  \n",
        "<img src=\"https://user-images.githubusercontent.com/54702627/84644974-e5684000-af3a-11ea-9ed2-bd8bcc22d55e.png\" width=\"450px\" height=\"300px\" title=\"머신러닝_군집_문제[2]19\" alt=\"RubberDuck\"></img><br/>\n",
        "올바른 거리행렬을 얻거나  \n",
        "원본샘플 행렬을 사용해 올바른 연결 행렬을 얻어 줍니다.  \n",
        "\n",
        "그리고 군집결과를 자세하게 살펴보기 위해 군집결과를 pandas에 dataframe형식으로 변환해 보면   \n",
        "<img src=\"https://user-images.githubusercontent.com/54702627/84645280-47c14080-af3b-11ea-8d2b-1d1f54b09ff1.png\" width=\"450px\" height=\"300px\" title=\"머신러닝_군집_문제[2]20\" alt=\"RubberDuck\"></img><br/>\n",
        "생각보다 복잡해 보이는 값들이 출력됬지만 하나하나 뜯어보면서 살펴보죠.  \n",
        "\n",
        "이 표를 그냥 보면 이해하기가 좀 어렵습니다.  \n",
        "그래서 이후 코딩을 통해 그려보겠지만 이해를 위해 미리 덴드로그램과 함께 살펴보도록 하죠.  \n",
        "<img src=\"https://user-images.githubusercontent.com/54702627/84645639-d59d2b80-af3b-11ea-8105-9cdfde95e86e.png\" width=\"450px\" height=\"300px\" title=\"머신러닝_군집_문제[2]21\" alt=\"RubberDuck\"></img><br/>\n",
        "우선 표에 의하면 우리가 무작위로 생성한 5개의 데이터는 총 4개의 군집을 이뤘음을 알 수있습니다.  \n",
        "그리고 이 첫번째와 두번째열은 각 클러스터에서 완전 연결방식으로 변합된 클러스터를 나타내는데,  \n"
      ]
    },
    {
      "cell_type": "markdown",
      "metadata": {
        "id": "3C7QG1xideq6",
        "colab_type": "text"
      },
      "source": [
        "첫번째 클러스터의 경우 데이터의 라벨 명인 ID 제로와 ID 4가 병합되었다는 것을 알려주고,  \n",
        "<img src=\"https://user-images.githubusercontent.com/54702627/84645775-172dd680-af3c-11ea-9ad9-f3573679340e.png\" width=\"450px\" height=\"300px\" title=\"머신러닝_군집_문제[2]22\" alt=\"RubberDuck\"></img><br/>\n",
        "\n",
        "세번째 열은 클러스터간 거리를 의미합니다.  \n",
        "<img src=\"https://user-images.githubusercontent.com/54702627/84645933-53613700-af3c-11ea-821b-06a23f19bfe3.png\" width=\"450px\" height=\"300px\" title=\"머신러닝_군집_문제[2]23\" alt=\"RubberDuck\"></img><br/>\n",
        "첫번째 클러스터의 경우 거리가 3.83...이네요.  \n",
        "\n",
        "그리고 이 군집에 속한 데이터의 수는 2개라고 말해주고 있죠.  \n",
        "<img src=\"https://user-images.githubusercontent.com/54702627/84646065-7f7cb800-af3c-11ea-9af4-579d3ad639f3.png\" width=\"450px\" height=\"300px\" title=\"머신러닝_군집_문제[2]24\" alt=\"RubberDuck\"></img><br/>\n",
        "\n",
        "그리고 두번째 클러스터도 같은 방식으로 해서하면 됩니다.  \n",
        "\n",
        "그런데 세번째 클러스터의 경우 5.0이라는 명칭이 나오는데  \n",
        "<img src=\"https://user-images.githubusercontent.com/54702627/84646371-f619b580-af3c-11ea-8f08-588ade2da307.png\" width=\"450px\" height=\"300px\" title=\"머신러닝_군집_문제[2]25\" alt=\"RubberDuck\"></img><br/>\n",
        "이는 ID 제로와 ID 4가 병합한 클러스터의 명칭이 되는 것이죠.  \n",
        "즉, 5.0은 ID 5라고 생각하셔도 됩니다.  "
      ]
    },
    {
      "cell_type": "markdown",
      "metadata": {
        "id": "xX4RwwW9fQsU",
        "colab_type": "text"
      },
      "source": [
        "그럼 이 세번째 클러스터는 ID 3과 ID 5가 병합한 것이며,  \n",
        "<img src=\"https://user-images.githubusercontent.com/54702627/84646621-5dd00080-af3d-11ea-9a44-16f75be5e75f.png\" width=\"450px\" height=\"300px\" title=\"머신러닝_군집_문제[2]26\" alt=\"RubberDuck\"></img><br/>\n",
        "클러스터간의 거리는 5.89..이 되고, 이 클러스터에 속한 데이터는 3ㅇ개라고 말해주고 있네요.  \n",
        "\n",
        "이와 같은 방식으로 네번째 클러스터 또한 이해하시면 됩니다.  \n",
        "\n",
        "또 이 덴드로그램을 그리기 위해서는 간단하게 dendrogram함수에 연결행렬을 넣어주시면 됩니다. \n",
        "<img src=\"https://user-images.githubusercontent.com/54702627/84646915-b69f9900-af3d-11ea-90e3-d2e5c30d3d5a.png\" width=\"450px\" height=\"300px\" title=\"머신러닝_군집_문제[2]27\" alt=\"RubberDuck\"></img><br/>\n",
        "그럼 이렇게 각 클러스터마다 색깔로 구분되는 덴드로그램을 얻어낼 수 있게 되죠.  \n",
        "\n",
        "이러한 시각적인 결과물은 확실히 앞에서 확인한 수치적인 결과물과 함께 쓰였을 때  \n",
        "<img src=\"https://user-images.githubusercontent.com/54702627/84647084-f1093600-af3d-11ea-94ed-2598b82291f9.png\" width=\"450px\" height=\"300px\" title=\"머신러닝_군집_문제[2]28\" alt=\"RubberDuck\"></img><br/>\n",
        "더 강력한 위력을 발휘하며, 이것이 바로 시각화가 가진 강점이 아닐까 합니다.  \n"
      ]
    },
    {
      "cell_type": "markdown",
      "metadata": {
        "id": "xSaZ5dF3ti06",
        "colab_type": "text"
      },
      "source": [
        "그럼 이러한 시각적인 효과를 조금만 더 발휘해 보죠.  \n",
        "\n",
        "계층 군집 덴드로 그램은 주로 히트맵고 함께 자주 사용되고는 합니다.  \n",
        "<img src=\"https://user-images.githubusercontent.com/54702627/84652194-2f0a5800-af46-11ea-9261-c33118ed6d53.png\" width=\"450px\" height=\"300px\" title=\"머신러닝_군집_문제[2]29\" alt=\"RubberDuck\"></img><br/>\n",
        "<u>**히트맵**이란 열을 뜻하는 히트와 지도를 뜻하는 맵을 합성한 용어</u>인데,  \n",
        "\n",
        "간단하게 설명을 드리면, 이처럼 일정한 이미지 위 혹은 측면에 데이터를 열분포 형태로 표현하는 시각화 기법이에요.  \n",
        "<img src=\"https://user-images.githubusercontent.com/54702627/84652353-7264c680-af46-11ea-9d2a-6deb7c391727.png\" width=\"450px\" height=\"300px\" title=\"머신러닝_군집_문제[2]30\" alt=\"RubberDuck\"></img><br/>\n",
        "이렇게 히트맵과 덴드로그램이 함께 쓰이게 되면  \n",
        "데이터 행렬의 개별 값을 색으로 표현할 수 있게 되고,  \n",
        "각 데이터셋을 조금 더 효과적으로 요약할 수 있게 되죠.  \n",
        "\n",
        "코드로 구현하는 방법은 이후 수업에서 설명을 드리도록 하겠습니다.  \n"
      ]
    },
    {
      "cell_type": "markdown",
      "metadata": {
        "id": "aky-6r7bvL1q",
        "colab_type": "text"
      },
      "source": [
        "### 밀집도 기반 군집(DBSCAN)\n",
        "자 다음으로 **밀집도 기반 군집** 알고리즘을 살펴보도록 하겠습니다.  \n",
        "<img src=\"https://user-images.githubusercontent.com/54702627/84652960-76ddaf00-af47-11ea-8bfa-60a73f0030f0.png\" width=\"450px\" height=\"300px\" title=\"머신러닝_군집_문제[2]31\" alt=\"RubberDuck\"></img><br/>\n",
        "이 알고리즘은 k-means처럼 원형 클러스터를 가정하지 않죠.  \n",
        "이는 군집을 형성하는데 있어 생각보다 강력한 위력을 발휘하게 되는데  \n",
        "하나의 데이터셋에 각각의 기법들을 활용해 보면서  \n",
        "자세하게 살펴보도록 하겠습니다.  \n",
        "\n",
        "또 이 알고리즘의 이름이 의미하듯 밀집도 기반 군집 알고리즘은  \n",
        "데이터가 조밀하게 모인 지역에 클러스터 레이블을 할당하죠.  \n",
        "<img src=\"https://user-images.githubusercontent.com/54702627/84653080-b0aeb580-af47-11ea-887f-58046d4de9d5.png\" width=\"450px\" height=\"300px\" title=\"머신러닝_군집_문제[2]32\" alt=\"RubberDuck\"></img><br/>\n",
        "\n",
        "여기서 알고 넘어가야할 것이 있는데,  \n",
        "**밀집도**란  \n",
        "특정 반경 안에 있는 샘플의 개수로 정의하며,  \n",
        "<img src=\"https://user-images.githubusercontent.com/54702627/84653262-0f742f00-af48-11ea-8b80-305cd44205f2.png\" width=\"450px\" height=\"300px\" title=\"머신러닝_군집_문제[2]33\" alt=\"RubberDuck\"></img><br/>\n",
        "이 특정 반경을 **엡실론**이라고 정의하도록 하겠습니다.  \n"
      ]
    },
    {
      "cell_type": "markdown",
      "metadata": {
        "id": "pxwfXcaUygNo",
        "colab_type": "text"
      },
      "source": [
        "다음으로 이 알고리즘에서는 몇가지 조건에 따라 데이터에 특별한 레이블이 할당되는데,  \n",
        "<img src=\"https://user-images.githubusercontent.com/54702627/84653457-6974f480-af48-11ea-9e20-35bf6cbca1ab.png\" width=\"450px\" height=\"300px\" title=\"머신러닝_군집_문제[2]34\" alt=\"RubberDuck\"></img><br/>\n",
        "첫번째, 어떠한 데이터의 특정 반경 안에 있는 이웃점이 우리가 임으로 지정한 개수 이상이면  \n",
        "이 데이터는 **중심점**이 됩니다.  \n",
        "\n",
        "두번째, 다음으로 가장 가까운 점 기준, 특정 반경 이내에 지정된 개수보다 이웃은 적지만,  \n",
        "<img src=\"https://user-images.githubusercontent.com/54702627/84653603-b22cad80-af48-11ea-9de6-d6b3f2d0555d.png\" width=\"450px\" height=\"300px\" title=\"머신러닝_군집_문제[2]35\" alt=\"RubberDuck\"></img><br/>\n",
        "다른 중심반경 안에 있으면, 이는 **경계점**이 됩니다.  \n",
        "\n",
        "세번째 이러한 방식으로 점들을 할당하고 나서,  \n",
        "<img src=\"https://user-images.githubusercontent.com/54702627/84653814-06d02880-af49-11ea-97fe-ec2d8ce040e4.png\" width=\"450px\" height=\"300px\" title=\"머신러닝_군집_문제[2]36\" alt=\"RubberDuck\"></img><br/>\n",
        "그 어떠한 점에도 속하지 않는 모든 점들은 **이상치**가 됩니다.  \n",
        "\n",
        "이렇게 **중심점, 경계점, 이상치**로 각 레이블을 할당하게 되며, 이를 다시 정리하면  \n",
        "임의 점을 중심으로 엡실론 반경 내의 최소 이웃수 이상의 점이 있다면   \n",
        "<img src=\"https://user-images.githubusercontent.com/54702627/84654005-675f6580-af49-11ea-8450-a58cbda55f5a.png\" width=\"450px\" height=\"300px\" title=\"머신러닝_군집_문제[2]37\" alt=\"RubberDuck\"></img><br/>\n",
        "그 점을 중심으로 군집이 되고, 그 점을 **core point**라고 합니다.\n",
        "\n",
        "core point가 서로 다른 core point의 군집의 일부가 되면 그 군집은  \n",
        "<img src=\"https://user-images.githubusercontent.com/54702627/84654157-a5f52000-af49-11ea-88c3-c13dd851d377.png\" width=\"450px\" height=\"300px\" title=\"머신러닝_군집_문제[2]38\" alt=\"RubberDuck\"></img><br/>\n",
        "서로 연결되어 있다고 하고 하나의 군집으로 연결합니다.  \n",
        "<img src=\"https://user-images.githubusercontent.com/54702627/84654223-c2915800-af49-11ea-864a-5259dadfd2c1.png\" width=\"450px\" height=\"300px\" title=\"머신러닝_군집_문제[2]39\" alt=\"RubberDuck\"></img><br/>\n"
      ]
    },
    {
      "cell_type": "markdown",
      "metadata": {
        "id": "Etc_DSt_0jil",
        "colab_type": "text"
      },
      "source": [
        "또 군집에는 속하지만 스스로 core point가 되지 못한 점을 border point라고 하며,  \n",
        "<img src=\"https://user-images.githubusercontent.com/54702627/84654497-3f243680-af4a-11ea-9435-0ec08c24cea7.png\" width=\"450px\" height=\"300px\" title=\"머신러닝_군집_문제[2]40\" alt=\"RubberDuck\"></img><br/>\n",
        "주로 클러스터의 외각을 이루는 점들입니다.\n",
        "\n",
        "그리고 그 어떠한 클러스터에도 속하지 못한 점들은 noise point가 됩니다.  \n",
        "<img src=\"https://user-images.githubusercontent.com/54702627/84654608-7692e300-af4a-11ea-9478-cdf65a04fda4.png\" width=\"450px\" height=\"300px\" title=\"머신러닝_군집_문제[2]41\" alt=\"RubberDuck\"></img><br/>\n",
        "\n",
        "이 알고리즘의 대표적인 장점중 하나는 처음에 이야기했듯  \n",
        "클러스터의 모양을 원형으로 가정하지 않는다는 것,  \n",
        "그리고 모든 데이터들을 꼭 클러스터에 할당하지 않아도 되기에,  \n",
        "자연스럽게 이상치 데이터들을 구분할 수 있게 되죠.  \n"
      ]
    },
    {
      "cell_type": "markdown",
      "metadata": {
        "id": "qCuRktkW2JKd",
        "colab_type": "text"
      },
      "source": [
        "\n",
        "그럼 이해를 돕기 위해 \n",
        "e-mail 데이터셋을 만들어 k평균, 군집, 계층군진, 밀집도 기반 군집을 비교해보도록 하겠습니다.  \n",
        "\n",
        "우선 sklearn.datasets 모듈에 make_moons 함수를 사용하여  \n",
        "<img src=\"https://user-images.githubusercontent.com/54702627/84655229-8828ba80-af4b-11ea-8c8d-c9090be44127.png\" width=\"450px\" height=\"300px\" title=\"머신러닝_군집_문제[2]42\" alt=\"RubberDuck\"></img><br/>\n",
        "반달모양 형태를 그리는 데이터를 생성하는데  \n",
        "이때 x와 y 두개의 클래스 레이블에 각각 100개씩 데이터를 할당하고  \n",
        "산점도를 그려보면 이와 같은 두개의 반달모양 형태의 데이터셋을 출력할 수 있습니다.  \n",
        "\n",
        "일단 이전시간에 배웠던 k평균 알로리즘과 앞서 배웠던 완전연결 병합군집 알고리즘이  \n",
        "과연 이 반달모양 데이터셋을 어떻게 구분하는지 살펴보로독 하겠습니다.  \n",
        "\n",
        "코드는 앞서 배웠던 코드를 그래로 활용해 보도록 하죠.  \n",
        "<img src=\"https://user-images.githubusercontent.com/54702627/84656429-a2639800-af4d-11ea-9a4c-a77a0cd44f31.png\" width=\"450px\" height=\"300px\" title=\"머신러닝_군집_문제[2]43\" alt=\"RubberDuck\"></img><br/>\n",
        "\n",
        "군집결과 반달모양의 형태를 가진 데이터셋은,  \n",
        "이 두개의 알고리즘으로 구분할 수 없다는 것을 확인할 수 있습니다.  \n",
        "<img src=\"https://user-images.githubusercontent.com/54702627/84656574-dd65cb80-af4d-11ea-8681-db899bd34cfb.png\" width=\"450px\" height=\"300px\" title=\"머신러닝_군집_문제[2]44\" alt=\"RubberDuck\"></img><br/>\n"
      ]
    },
    {
      "cell_type": "markdown",
      "metadata": {
        "id": "JmsUFIBx7TY_",
        "colab_type": "text"
      },
      "source": [
        "그럼 마지막으로 배운 밀집도 기반 군집분석을 수행해 보도록 하죠.  \n",
        "\n",
        "우선 밀집도 기반 군집 분석을 위해 클래스를 불러와 주고  \n",
        "<img src=\"https://user-images.githubusercontent.com/54702627/84656835-48170700-af4e-11ea-89a1-9c635775e075.png\" width=\"450px\" height=\"300px\" title=\"머신러닝_군집_문제[2]45\" alt=\"RubberDuck\"></img><br/>\n",
        "모델 구축을 위해 임의로 엡실론(eps)값은 0.2  \n",
        "최소 이웃수(min_samples)는 5개  \n",
        "거리 측정기법(metric)은 'euclidean'으로 설정해 보겠습니다.  \n",
        "<img src=\"https://user-images.githubusercontent.com/54702627/84657111-c1165e80-af4e-11ea-974d-ecc97e9ff41b.png\" width=\"450px\" height=\"300px\" title=\"머신러닝_군집_문제[2]46\" alt=\"RubberDuck\"></img><br/>\n",
        "다음으로 모델에 임의의 데이터셋 X를 넣어 예측하도록 하고 결과값을 저장 합니다.  \n",
        "\n",
        "이제 산점도를 시각화하여 출력해보면 앞서 시행한 두개의 알고리즘과 달리  \n",
        "<img src=\"https://user-images.githubusercontent.com/54702627/84657336-181c3380-af4f-11ea-9a92-5eb4c2f96c95.png\" width=\"450px\" height=\"300px\" title=\"머신러닝_군집_문제[2]47\" alt=\"RubberDuck\"></img><br/>\n",
        "이 밀집도 기반 군집 알고리즘은 성공적으로 반달 모양을 감시했습니다.  \n"
      ]
    },
    {
      "cell_type": "markdown",
      "metadata": {
        "id": "Hkcv5vuD88Ht",
        "colab_type": "text"
      },
      "source": [
        "즉, 복잡한 구조를 가진 데이터셋을 구분하는데 있어, 그 능력이 출중하다는 것이죠.  \n",
        "<img src=\"https://user-images.githubusercontent.com/54702627/84657474-4c8fef80-af4f-11ea-873b-47288b64c4dc.png\" width=\"450px\" height=\"300px\" title=\"머신러닝_군집_문제[2]48\" alt=\"RubberDuck\"></img><br/>\n",
        "\n",
        "그럼 여기서 또 나오는 이야기가 있습니다. 이 알고리즘은 단점이 없는가?  \n",
        "그건 또 아닙니다.  \n",
        "이 알고리즘도 역시 데이터의 특성이 늘어남에 따라 차원의 저주로 인한 역효과가 증가하게 되죠.  \n",
        "<img src=\"https://user-images.githubusercontent.com/54702627/84657700-a690b500-af4f-11ea-8719-3f5090b27a2f.png\" width=\"450px\" height=\"300px\" title=\"머신러닝_군집_문제[2]49\" alt=\"RubberDuck\"></img><br/>\n",
        "하지만 이러한 차원의 저주 문제는, 밀집도 기반 군집분석에만 해당되는 문제가 아닙니다.  \n",
        "유클리디안 거리 측정 방식을 사용하는 다른 군집 알고리즘에도 영향을 미치게 되죠.  \n",
        "\n",
        "그렇게 이러한 문제를 해결하고자, 차원축소나 표준화 등등 다양한 방법이 사용되고 있습니다.  \n",
        "<img src=\"https://user-images.githubusercontent.com/54702627/84657869-e9528d00-af4f-11ea-816d-89362e267191.png\" width=\"450px\" height=\"300px\" title=\"머신러닝_군집_문제[2]50\" alt=\"RubberDuck\"></img><br/>\n"
      ]
    },
    {
      "cell_type": "markdown",
      "metadata": {
        "id": "I6X-1A_X-TRu",
        "colab_type": "text"
      },
      "source": [
        "\n",
        "다시 밀집도 기반 군집으로 돌아와, 이 알고리즘으로 좋은 군집 결과를  \n",
        "만들기 위해 우리가 해야할 일은, 이 두개의 하이퍼 파라미터를 최적화 시켜줘야 한다는 겁니다.  \n",
        "<img src=\"https://user-images.githubusercontent.com/54702627/84658038-333b7300-af50-11ea-80f6-7f821d20d7b5.png\" width=\"450px\" height=\"300px\" title=\"머신러닝_군집_문제[2]51`\" alt=\"RubberDuck\"></img><br/>\n",
        "하지만 알맞은 조합을 찾는일은 그리 쉽지만은 않죠.  \n",
        "\n",
        "지금은 이렇게 한눈에 봐도 어떻게 군집이 이뤄질지 예상이 가는 데이터들로 진행했지만  \n",
        "<img src=\"https://user-images.githubusercontent.com/54702627/84658227-8a414800-af50-11ea-81a5-95041322125d.png\" width=\"450px\" height=\"300px\" title=\"머신러닝_군집_문제[2]52\" alt=\"RubberDuck\"></img><br/>\n",
        "실전에서는 어떠한 형태인지 시각적으로 표현할 수도 없는 고차원 데이터셋인 경구가 많습니다.  \n",
        "\n",
        "또 지금은 밀집도 기반 군집이 복잡한 데이터셋에서 가장 좋은 퍼포먼스를 보여줬지만,  \n",
        "\n",
        "<u>다수의 연구자들이 공통적으로 이야기하는 성공적인 군집을 위하 조건은 이렇습니다.  \n",
        "\n",
        "<img src=\"https://user-images.githubusercontent.com/54702627/84658478-edcb7580-af50-11ea-83c7-922c4844920b.png\" width=\"450px\" height=\"300px\" title=\"머신러닝_군집_문제[2]53\" alt=\"RubberDuck\"></img><br/>\n",
        "하나의 알고리즘과 일정한 하이퍼 파라미터에 의존하지 말라.  \n",
        "\n",
        "<img src=\"https://user-images.githubusercontent.com/54702627/84658633-22d7c800-af51-11ea-8feb-6879d3d86ffc.png\" width=\"450px\" height=\"300px\" title=\"머신러닝_군집_문제[2]54\" alt=\"RubberDuck\"></img><br/>\n",
        "오히려 적절한 거리지표를 선택하고  \n",
        "<img src=\"https://user-images.githubusercontent.com/54702627/84658763-59adde00-af51-11ea-93a3-fe4252372dfc.png\" width=\"450px\" height=\"300px\" title=\"머신러닝_군집_문제[2]55\" alt=\"RubberDuck\"></img><br/>\n",
        "실험환경을 구성하는데 있어 도움을 줄 수있는 도메인 지식을 갖추는 것</u>  \n",
        "이 매우 중요하다고 이야기 합니다.\n",
        "\n",
        "오늘은 이만 ..."
      ]
    },
    {
      "cell_type": "code",
      "metadata": {
        "id": "EZtODsXBNSbL",
        "colab_type": "code",
        "colab": {}
      },
      "source": [
        ""
      ],
      "execution_count": 0,
      "outputs": []
    }
  ]
}