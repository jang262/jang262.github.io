{
  "nbformat": 4,
  "nbformat_minor": 0,
  "metadata": {
    "colab": {
      "name": "3주차6강_머신러닝_군집_문제[1].ipynb",
      "provenance": [],
      "collapsed_sections": [],
      "authorship_tag": "ABX9TyPLralLZSvuka59kqftDCnk",
      "include_colab_link": true
    },
    "kernelspec": {
      "name": "python3",
      "display_name": "Python 3"
    }
  },
  "cells": [
    {
      "cell_type": "markdown",
      "metadata": {
        "id": "view-in-github",
        "colab_type": "text"
      },
      "source": [
        "<a href=\"https://colab.research.google.com/github/jang262/jang262.github.io/blob/master/3%EC%A3%BC%EC%B0%A86%EA%B0%95_%EB%A8%B8%EC%8B%A0%EB%9F%AC%EB%8B%9D_%EA%B5%B0%EC%A7%91_%EB%AC%B8%EC%A0%9C%5B1%5D.ipynb\" target=\"_parent\"><img src=\"https://colab.research.google.com/assets/colab-badge.svg\" alt=\"Open In Colab\"/></a>"
      ]
    },
    {
      "cell_type": "markdown",
      "metadata": {
        "id": "3a40JKYyATcc",
        "colab_type": "text"
      },
      "source": [
        "# 비지도학습 군집분석(Clustering analysis)\n",
        "세상을 살다보면 명확한 정답이라는것이 존재하는 문제보다는  \n",
        "오히려 정답이 없는 경우를 더 자자 접하게 됩니다.  \n",
        "그래서 현재 우리가 마주하고 있는 세상의 이치 처럼 정답이 없는 문제를 해결하기 위해  \n",
        "머신러닝 또한 정답이 없는 문제를 해결하기 위한 알고리즘들이 존재 했으니  \n",
        "그 이름도 유명한 **비지도학습 군집분석(Clustering analysis)**입니다.  \n",
        "<img src=\"https://user-images.githubusercontent.com/54702627/84617435-df0da000-af09-11ea-8556-589ae8f08652.png\" width=\"450px\" height=\"300px\" title=\"머신러닝_군집_문제[1]1\" alt=\"RubberDuck\"></img><br/>\n",
        "그럼 이 군집 분석은 어떻게 사용하는 것일까요?  \n",
        "\n",
        "우선 **군집분석**(Clustering analysis)은 비지도학습에 속합니다.  \n",
        "<img src=\"https://user-images.githubusercontent.com/54702627/84617552-4a577200-af0a-11ea-8f9f-381a1748018c.png\" width=\"450px\" height=\"300px\" title=\"머신러닝_군집_문제[1]2\" alt=\"RubberDuck\"></img><br/>\n",
        "이름에서도 알수있듯이 비지도학습은 앞서 살펴보았던 지도학습과는 달리  \n",
        "학습이란것을 시켜줄 클래스 레이블이 없는 상태에서 학습을 진행하죠.  \n",
        "\n",
        "예를 들어 우리가 쇼핑몰에서 접속자들의 제품 탐색 데이터들  \n",
        "<img src=\"https://user-images.githubusercontent.com/54702627/84617782-fb5e0c80-af0a-11ea-81fc-b6467376a7ff.png\" width=\"450px\" height=\"300px\" title=\"머신러닝_군집_문제[1]3\" alt=\"RubberDuck\"></img><br/>\n",
        "예를 들면 페이지 체류 시간, 즉 제품탐색  시간 혹은 구매금액대 등  \n",
        "다양한 데이터들을 바탕으로 그룹을 형성합니다.  \n",
        "그리고 소비자들이 쇼핑몰에 접속했을때 어떠한 행동들을 하는지 살펴보고  \n",
        "이를 기반으로 앞서 설정해놓은 그룹으로 할당시킴과 동시에  \n",
        "이와 비슷한 행동을 했던 소비자들이 구매했던 제품들을 노출시킴으로써  \n",
        "소비자들의 제품 구매율을 높이는 것이죠.  \n",
        "\n",
        "즉, 군집은 정답을 모르는 데이터 않에서 숨겨진 구조를 찾는 것이라 할 수 있습니다.  \n"
      ]
    },
    {
      "cell_type": "markdown",
      "metadata": {
        "id": "KiijQa4oN2UI",
        "colab_type": "text"
      },
      "source": [
        "## K-평균(K-means)\n",
        "군집분석에는 다양한 기법이 졵재하죠  \n",
        "그 중에서 가장 잘 알려진 군집 알고리즘 중 하나인  \n",
        "**K-평균(K-means)**을 먼저 살펴보도록 하겠습니다.  \n",
        "<img src=\"https://user-images.githubusercontent.com/54702627/84617970-a373d580-af0b-11ea-938c-e128618f1e26.png\" width=\"450px\" height=\"300px\" title=\"머신러닝_군집_문제[1]4\" alt=\"RubberDuck\"></img><br/>\n",
        "\n",
        "이 k-평균 알고리즘은 구현이 무척이나 쉽고, 다른 군집 알고리즘에 비해 계산 효율성도 무척 높기에 인기가 엄청납니다.  \n",
        "<img src=\"https://user-images.githubusercontent.com/54702627/84618098-0cf3e400-af0c-11ea-8c82-7c0a419be32f.png\" width=\"450px\" height=\"300px\" title=\"머신러닝_군집_문제[1]5\" alt=\"RubberDuck\"></img><br/>\n",
        "보통 학계나 산업현장에서 사용되는 기법은 다르기 마련인데,  \n",
        "이 기법은 모두 널리 사용되고 있죠.  \n",
        "\n",
        "또 이 알고리즘은 프로토타입 기반 군집에 속하는데,  \n",
        "<img src=\"https://user-images.githubusercontent.com/54702627/84618153-49274480-af0c-11ea-9667-d9e593e896f6.png\" width=\"450px\" height=\"300px\" title=\"머신러닝_군집_문제[1]6\" alt=\"RubberDuck\"></img><br/>\n",
        "이 <u>**프로토타입 기반 군집**이란 각 클러스터가 하나의 프로토타입으로 표현된다는 의미</u>입니다.  \n",
        "\n",
        "이 프로토타입은 연속적인 특성에서는 비슷한 데이터포인트의 **센트로이드(centroid-평균)**거나,  \n",
        "<img src=\"https://user-images.githubusercontent.com/54702627/84618238-8f7ca380-af0c-11ea-9a8d-99f9bfe979df.png\" width=\"450px\" height=\"300px\" title=\"머신러닝_군집_문제[1]7\" alt=\"RubberDuck\"></img><br/>\n",
        "범주형 특성에서는 **메도이드(medoid-가장 자주 등장하는 포인트)**가 됩니다.\n",
        "\n",
        "이러한 k평균 알고리즘은 원형 클러스터를 구분하는데는 뛰어나지만,  \n",
        "<img src=\"https://user-images.githubusercontent.com/54702627/84618411-19c50780-af0d-11ea-93ae-44231a62e6a9.png\" width=\"450px\" height=\"300px\" title=\"머신러닝_군집_문제[1]8\" alt=\"RubberDuck\"></img><br/>\n",
        "지난번 knn알고리즘과 마찬가지로 사전에 몇개의 클러스터를 만들것인지에 대해  \n",
        "직접 지정해 줘야 한다는 다소 주관적인 사람의 판단이 개입됩니다.  \n",
        "\n",
        "물론 적절한 k값을 선택했다면 높은 성능을 발휘하겠지만,  \n",
        "반대로 적합하지 않은 k값을 선정 했다면 군집 성능 또한 보장할 수 없다는 이야기가 되죠.  \n",
        "\n",
        "근데 여기서, 이 군집분석은 비지도학습이니, 클래스 레이블이 없다는 이야기가 되는데,  \n",
        "그럼 군집 성능이 좋은지를 어떻게 판단할 수 있을까요?  \n"
      ]
    },
    {
      "cell_type": "markdown",
      "metadata": {
        "id": "t3ZGuG3rR1Kb",
        "colab_type": "text"
      },
      "source": [
        "이 이야기는 좀 더 뒤에 가서 하도록 하고 먼저 k평균 구집부터 좀 더 자세하게 이야기 하도록 하겠습니다.  \n",
        "\n",
        "먼저 이 코드는 이해를 돕기위한 무작위 데이터 생성 및 시각화 그래프 입니다.  \n",
        "<img src=\"https://user-images.githubusercontent.com/54702627/84618803-344bb080-af0e-11ea-937f-969875fe958e.png\" width=\"450px\" height=\"300px\" title=\"머신러닝_군집_문제[1]9\" alt=\"RubberDuck\"></img><br/>\n",
        "이(make_blobs) 함수를 활용하면 무작위 데이터셋을 생성할 수 있는데,  \n",
        "각각의 속성 값들은 어떠한 데이터를 생성할 것인지에 대한 설정 부분입니다.  \n",
        "(n_samples)150개,  \n",
        "(n_features)2차원,  \n",
        "(centers)3개의 클러스터 혹은 중심,  \n",
        "(cluster_std)크러스터의 표준 편자값,  \n",
        "(shuffle)무작위로 섞을 것인가,  \n",
        "마지막은 (random_state)시드값 제로  \n",
        "\n",
        "그리고 이후 matplotlib에 pyplot모듈을 사용하여  \n",
        "2차원 산점도를 그려줍니다.  \n",
        "그럼 이러한 데이터를 그려 볼수가 있는데  \n",
        "<img src=\"https://user-images.githubusercontent.com/54702627/84619210-6b6e9180-af0f-11ea-8721-5fa6992987f9.png\" width=\"450px\" height=\"300px\" title=\"머신러닝_군집_문제[1]10\" alt=\"RubberDuck\"></img><br/>\n",
        "<u>우리의 목표는 여기서 특성의 유사도에 기초하여 데이터들을 그룹으로 모으는것</u> 이죠.  \n",
        "\n",
        "그리고 4개의 단계를 통해 k평균 알고리즘이 요약됩니다.  \n",
        "<img src=\"https://user-images.githubusercontent.com/54702627/84619506-3e6eae80-af10-11ea-82f1-1880515f9455.png\" width=\"450px\" height=\"300px\" title=\"머신러닝_군집_문제[1]11\" alt=\"RubberDuck\"></img><br/>\n"
      ]
    },
    {
      "cell_type": "markdown",
      "metadata": {
        "id": "j6rlRxwfWUVF",
        "colab_type": "text"
      },
      "source": [
        "### 유사도  \n",
        "그럼 이러한 데이터들간의 **유사도**는 어떻게 측정해야 할까요?  \n",
        "여기서도 다양한 방법이 존재하지만 일반적으로  \n",
        "임의의 차원 공간에 있는 두 데이터 포인트x와 y사이의  \n",
        "<img src=\"https://user-images.githubusercontent.com/54702627/84619791-221f4180-af11-11ea-97d1-d952665515e0.png\" width=\"450px\" height=\"300px\" title=\"머신러닝_군집_문제[1]12\" alt=\"RubberDuck\"></img><br/>\n",
        "유클리디안 거리(Euclidean Distance) 혹은  \n",
        "유클리디안 거리 제곱(Squared Euclidean Distance) 지표를 기반하여,  \n",
        "간단한 최적화 문제로 k평균 알고리즘을 설명할 수 있습니다.  \n",
        "\n",
        "즉, k-means도 최적화 문제라 할 수 있죠.  \n",
        "\n",
        "그럼 어떻게 최적화를 시키냐?  \n",
        "바로 클러스터 내의 **제곱 오차합(SSE)**을 반복적으로 최소화하는 것입니다.  \n",
        "<img src=\"https://user-images.githubusercontent.com/54702627/84619970-a4a80100-af11-11ea-8349-21180b4c6eeb.png\" width=\"450px\" height=\"300px\" title=\"머신러닝_군집_문제[1]13\" alt=\"RubberDuck\"></img><br/>\n",
        "수식을 좀 더 자세하게 살펴보면  \n",
        "여기 이 뮤라는 기호는 임의의 클러스터의 대표센트로이드 즉, 중심입니다.  \n",
        "\n",
        "그리고 여기 이 더블유값은  \n",
        "<img src=\"https://user-images.githubusercontent.com/54702627/84620057-eb95f680-af11-11ea-9f2a-6be1af18bad5.png\" width=\"450px\" height=\"300px\" title=\"머신러닝_군집_문제[1]14\" alt=\"RubberDuck\"></img><br/>\n",
        "측정하려는 데이터와 클러스터에 의해 데이터가 클러스터 내에 있다면 1, 아니면 0의 값을 출력하게 되죠.  \n",
        "\n",
        "또 유클리디안 거리 제곱 방식을 통해  \n",
        "<img src=\"https://user-images.githubusercontent.com/54702627/84620220-56dfc880-af12-11ea-91b9-294b4c4548fd.png\" width=\"450px\" height=\"300px\" title=\"머신러닝_군집_문제[1]15\" alt=\"RubberDuck\"></img><br/>\n",
        "알고리즘의 두번째 단계처럼  \n",
        "센트로이드와 가장 가까운 데이터에 대하여  \n",
        "클러스터에 센트로이드간 거리를 계산하게 됩니다.  \n",
        "그리고 이렇게 계산된 값은 클러스내에 오차제곱값이 되는 것이죠.  \n",
        "\n",
        "종합해보면 각 데이터에 가장 가까운 센트로이드에 할당할 때마다, 센트로이드는 이동하게 되죠.  \n",
        "<img src=\"https://user-images.githubusercontent.com/54702627/84620477-0f0d7100-af13-11ea-877e-1dfba50d53c9.png\" width=\"450px\" height=\"300px\" title=\"머신러닝_군집_문제[1]16\" alt=\"RubberDuck\"></img><br/>\n",
        "이렇게 센드로이드가 변화할 때마다 이러한 오차 제곱합을 반복적으로 계산하면서  \n",
        "변화량에 대한 허용 오차값이 일정 수준내로 들어온다면 더이상 클러스터가  \n",
        "변화하지 않는다는 것이고, 최적화가 완료되었다는 것입니다.  \n",
        "\n"
      ]
    },
    {
      "cell_type": "markdown",
      "metadata": {
        "id": "jpjqzkk1aj22",
        "colab_type": "text"
      },
      "source": [
        "여기에 더해서, <u>각 점들간의 거리를 측정할때, 점들간의 단위와 변동폭이 크다면  \n",
        "당연히 왜곡이 일어날 수가 있겠죠.</u>  \n",
        "<img src=\"https://user-images.githubusercontent.com/54702627/84620664-8ba04f80-af13-11ea-9a97-b317962022cc.png\" width=\"450px\" height=\"300px\" title=\"머신러닝_군집_문제[1]17\" alt=\"RubberDuck\"></img><br/>\n",
        "<u>이러한 경우 왜곡을 줄이고자, 거리 산출시 불필요한 항목간의 특성을 제거하고  \n",
        "단위를 일치시키는 **표준화**작업을 진행해주시면 좀 더 좋은 결과를 가져 올 수 있을 겁니다.</u>  \n",
        "\n",
        "자 그럼 이걸 파이썬으로 구축해 보면  \n",
        "<img src=\"https://user-images.githubusercontent.com/54702627/84623471-47fd1400-af1a-11ea-86d5-3790b589cc24.png\" width=\"450px\" height=\"300px\" title=\"머신러닝_군집_문제[1]18\" alt=\"RubberDuck\"></img><br/>\n",
        "사이킷런에 클러스터 모듈에 속해있는 KMeans클래스를 불러옵니다.  \n",
        "\n",
        "그 다음 앞서 살펴본 알고리즘을 객체화 시켜주기 위한 코드를 작성해 줍니다.  \n",
        "클러스터 갯수는 임의로 3개정조 할당,  \n",
        "<img src=\"https://user-images.githubusercontent.com/54702627/84623567-8692ce80-af1a-11ea-969a-9cd42f767478.png\" width=\"450px\" height=\"300px\" title=\"머신러닝_군집_문제[1]19\" alt=\"RubberDuck\"></img><br/>\n",
        "두번째 속성은 기본 k평균 설정  \n",
        "그 다음(n_init)은 각기 다른 랜덤한 센트로이드에 대해서  \n",
        "독립적으로 몇번 실행하여 가장 낮은 제곱 오차값을 만들것이냐를 물어보는 겂니다.  \n",
        "그리고 그중 가장 낮은 값을 만드는 모델을 최종적으로 선택하게 되죠.  \n",
        "다음(max_iter)은 이전에 살펴본 알고리즘 단계중  \n",
        "<img src=\"https://user-images.githubusercontent.com/54702627/84623933-54ce3780-af1b-11ea-90b6-00326047b805.png\" width=\"450px\" height=\"300px\" title=\"머신러닝_군집_문제[1]20\" alt=\"RubberDuck\"></img><br/>\n",
        "두번째와 세번째 단계를 한번에 실행해서 최대 몇번이하 반복적으로 수행할 것인지를 알려주시면 됩니다.  \n",
        "이때 만약 다음에 설정하게될 클러스터 내의 제곱 오차합 변화량에 대한  \n",
        "허용 오차값에 도달하게 되면 일찍 종료하게 되죠.(tol=허용오차값)  \n",
        "그리고 군집 예측을 위한 함수에 우리가 앞서 생성한 무작위 데이터 x를 넣어  \n",
        "<img src=\"https://user-images.githubusercontent.com/54702627/84624223-f190d500-af1b-11ea-91b8-29ffdca7ea5b.png\" width=\"450px\" height=\"300px\" title=\"머신러닝_군집_문제[1]21\" alt=\"RubberDuck\"></img><br/>\n",
        "예측 클러스터 레이블을 생성해 줍니다.  \n"
      ]
    },
    {
      "cell_type": "markdown",
      "metadata": {
        "id": "wgxaewDLpzIT",
        "colab_type": "text"
      },
      "source": [
        "근데 이 k평균 군집 알고리즘에는 또 다른 문제가 있습니다.  \n",
        "<img src=\"https://user-images.githubusercontent.com/54702627/84624561-97444400-af1c-11ea-9aa1-886ab386e440.png\" width=\"450px\" height=\"300px\" title=\"머신러닝_군집_문제[1]22\" alt=\"RubberDuck\"></img><br/>\n",
        "초기 센트로이드를 설정할 때, 랜덤으로 위치를 설정하다보니, 애초에 잘못 선정된 곳에서  \n",
        "<img src=\"https://user-images.githubusercontent.com/54702627/84624713-de323980-af1c-11ea-876e-2a40f2f2bf97.png\" width=\"450px\" height=\"300px\" title=\"머신러닝_군집_문제[1]23\" alt=\"RubberDuck\"></img><br/>\n",
        "시작한 경우와 더불어 학습데이터가 적은 악조건이 붙게 된다면 클러스터의 성능이 매우 불안정해지게 되죠.  \n",
        "\n",
        "그리고 이러한 경우를 극복하기 위해, 초기 클러스터 센트로이드를  \n",
        "좀더 똑똑하게 할당할 수 있는 기법이 등장하게 됩니다.  \n",
        "<img src=\"https://user-images.githubusercontent.com/54702627/84624932-454fee00-af1d-11ea-9452-ab28e52576b1.png\" width=\"450px\" height=\"300px\" title=\"머신러닝_군집_문제[1]24\" alt=\"RubberDuck\"></img><br/>\n",
        "바로 **k-means++(k평균플러스플러스)**알고리즘 이죠.  \n",
        "\n",
        "이건 잠시 후에 살펴보고 일단 우리가 구축한 알고리즘과 이를 통과한 데이터셋이 \n",
        "<img src=\"https://user-images.githubusercontent.com/54702627/84625077-834d1200-af1d-11ea-8baa-bf9de0ffd88b.png\" width=\"450px\" height=\"300px\" title=\"머신러닝_군집_문제[1]25\" alt=\"RubberDuck\"></img><br/>\n",
        "과연 어떻게 센트로이드와 군집을 이뤘는지 살펴보도록 하죠.  \n"
      ]
    },
    {
      "cell_type": "markdown",
      "metadata": {
        "id": "HOvdovM3s0IZ",
        "colab_type": "text"
      },
      "source": [
        "실험결과 이 데이터에서는 k평균 알고리즘이 적절하게 클러스터와 센트로이드를  \n",
        "<img src=\"https://user-images.githubusercontent.com/54702627/84625194-bdb6af00-af1d-11ea-8b6b-d9b7fc160662.png\" width=\"450px\" height=\"300px\" title=\"머신러닝_군집_문제[1]26\" alt=\"RubberDuck\"></img><br/>\n",
        "할당한 것으로 보이네요.  \n",
        "\n",
        "하지만 만약 시각화가 가능한 차원의 데이터가 아닌  \n",
        "<img src=\"https://user-images.githubusercontent.com/54702627/84625322-fc4c6980-af1d-11ea-9b52-34ff39c60c2d.png\" width=\"450px\" height=\"300px\" title=\"머신러닝_군집_문제[1]27\" alt=\"RubberDuck\"></img><br/>\n",
        "고차원의 데이터인 경우 임의의 k값 설정은 여전히 위험부담이 높다는것입니다.  \n",
        "\n",
        "또한 이 <u>**k평균의 또 다른 특징**은  \n",
        "<img src=\"https://user-images.githubusercontent.com/54702627/84625581-7f6dbf80-af1e-11ea-83bb-b51e2affcc72.png\" width=\"450px\" height=\"300px\" title=\"머신러닝_군집_문제[1]28\" alt=\"RubberDuck\"></img><br/>\n",
        "클러스터가 중첩되지 않고  \n",
        "계층적이지 않다는 것</u>이죠.\n",
        "더불어 <u>각 클러스터에 적어도 하나의 데이터가 존재한다 가정</u>합니다.  \n"
      ]
    },
    {
      "cell_type": "markdown",
      "metadata": {
        "id": "uN_SFR50tVcT",
        "colab_type": "text"
      },
      "source": [
        "이러한 특징과 가정은 생각보다 큰 리스크를 불러올 수 있습니다.  \n",
        "예를 들어 다차원의 경우가 아니더라도 데이터가 꼭 하나의 클러스터로만 구분되리란 법은 없으니까요.  \n",
        "\n",
        "## K-평균++(K-means++)\n",
        "그럼 이러한 특징과 가정 극복은 힘들지만 적어도 초기 센트로이드 만은  \n",
        "현명하게 할당할 수 있는 k평균++ 알고리즘을 살펴보도록 하겠습니다.  \n",
        "<img src=\"https://user-images.githubusercontent.com/54702627/84625862-0f136e00-af1f-11ea-9a4f-1c0be45855e9.png\" width=\"450px\" height=\"300px\" title=\"머신러닝_군집_문제[1]29\" alt=\"RubberDuck\"></img><br/>\n",
        "\n",
        "이 알고리즘의 특징은 아주 간단합니다.  \n",
        "코드 구현 방법 또한 무척 간단하구요.  \n",
        "<img src=\"https://user-images.githubusercontent.com/54702627/84626113-83e6a800-af1f-11ea-83d5-6b632c0d5900.png\" width=\"450px\" height=\"300px\" title=\"머신러닝_군집_문제[1]30\" alt=\"RubberDuck\"></img><br/>\n",
        "우선 코드 구현법은 두번째 속성에 'k-means++'를 넣어주시는 겁니다.  \n",
        "<img src=\"https://user-images.githubusercontent.com/54702627/84626239-b85a6400-af1f-11ea-86b8-6339774a468b.png\" width=\"450px\" height=\"300px\" title=\"머신러닝_군집_문제[1]31\" alt=\"RubberDuck\"></img><br/>\n",
        "실제로는 이 값이 매우 권장되기에 기본값으로 설정되어 있죠.  \n",
        "\n",
        "이 기법의 핵심은 초기 센트로이드가 서로 멀리 떨어지도록 위치시키는 것입니다.  \n",
        "<img src=\"https://user-images.githubusercontent.com/54702627/84626400-fbb4d280-af1f-11ea-8dc8-12605d3cd80a.png\" width=\"450px\" height=\"300px\" title=\"머신러닝_군집_문제[1]32\" alt=\"RubberDuck\"></img><br/>\n",
        "이는 기본 k평균보다 훨씬 일관되고 좋은 결과를 보여주죠.  \n"
      ]
    },
    {
      "cell_type": "markdown",
      "metadata": {
        "id": "oMdgb92MvUpt",
        "colab_type": "text"
      },
      "source": [
        "비지도 학습은 클래스 레이블이없는 형태의 데이터를가지고 진행하기에  \n",
        "<img src=\"https://user-images.githubusercontent.com/54702627/84626545-39196000-af20-11ea-8a9b-108df9c5e070.png\" width=\"450px\" height=\"300px\" title=\"머신러닝_군집_문제[1]33\" alt=\"RubberDuck\"></img><br/>\n",
        "지금처럼 군집을 이뤘다 한들 최종 답을 모른다는 것이죠.  \n",
        "<img src=\"https://user-images.githubusercontent.com/54702627/84626626-61a15a00-af20-11ea-9148-f9ee92c0e04d.png\" width=\"450px\" height=\"300px\" title=\"머신러닝_군집_문제[1]34\" alt=\"RubberDuck\"></img><br/>\n",
        "즉, 지도학습의 성능 평가 기법을 적용할 수 가 없다는 것입니다.  \n",
        "\n",
        "그래서 군집 품질을 평가해야 하는 경우 알고리즘 자체의 지표를 사용해야 하는데,  \n",
        "<img src=\"https://user-images.githubusercontent.com/54702627/84626797-bba21f80-af20-11ea-9a1d-8d2cd7062713.png\" width=\"450px\" height=\"300px\" title=\"머신러닝_군집_문제[1]35\" alt=\"RubberDuck\"></img><br/>\n",
        "예를 들어 k평균 군집의 성능을 비교하기 위해서는 클러스터 내의 오차 제곱합을 사용합니다.  \n",
        "\n",
        "다행이도 이 지표를 손쉽게 구해주는 방법이 있었으니, 바로 사이킷런을 사용하는 겁니다.  \n",
        "\n",
        "우린 앞서 k-means 모델학습을 진행한 객체가 있죠.  \n",
        "<img src=\"https://user-images.githubusercontent.com/54702627/84627047-281d1e80-af21-11ea-9673-2823438daeb7.png\" width=\"450px\" height=\"300px\" title=\"머신러닝_군집_문제[1]36\" alt=\"RubberDuck\"></img><br/>\n",
        "이 안에는 '관성'이란 뜻을 가진 inertia 속성에 이미 계산이 완료되어 있습니다.  \n",
        "\n",
        "출력값은 70점대의 값이지만, 이 값이 적절한 값인지는,  \n",
        "<img src=\"https://user-images.githubusercontent.com/54702627/84627197-69153300-af21-11ea-89ba-a81ccab4c1dd.png\" width=\"450px\" height=\"300px\" title=\"머신러닝_군집_문제[1]37\" alt=\"RubberDuck\"></img><br/>\n",
        "k를 다양한 값으로 할당한 후에 왜곡값을 비교해봐야겠죠.  \n"
      ]
    },
    {
      "cell_type": "markdown",
      "metadata": {
        "id": "NOPpMyVQyHIW",
        "colab_type": "text"
      },
      "source": [
        "### 엘보우 방법\n",
        "그리고 이러한 방시을 엘보우 방법이라 합니다.  \n",
        "<img src=\"https://user-images.githubusercontent.com/54702627/84627485-fa84a500-af21-11ea-96e3-5fff04e16715.png\" width=\"450px\" height=\"300px\" title=\"머신러닝_군집_문제[1]38\" alt=\"RubberDuck\"></img><br/>\n",
        "그래서 이 방법을 사용하면 최적인 클러스터 개수 k를 추정할 수 있게 됩니다.\n",
        "\n",
        "직관적으로 생각을 해보면 이 k값의 증가는 센트로이드가 늘어나는 것이고,  \n",
        "<img src=\"https://user-images.githubusercontent.com/54702627/84627723-59e2b500-af22-11ea-81e2-4e9e5d39ec05.png\" width=\"450px\" height=\"300px\" title=\"머신러닝_군집_문제[1]39\" alt=\"RubberDuck\"></img><br/>\n",
        "이는 데이터들이 센트로이드에 더 가까워지는 것이니  \n",
        "자연스럽게 왜곡값이 줄어들 것이라 생각할 수 있습니다.  \n",
        "\n",
        "그리고 이 기법의 이면에 있는 아이디어가 바로 왜곡이 빠르게 증가하는 지점의 k값을 찾는 것이죠\n",
        "<img src=\"https://user-images.githubusercontent.com/54702627/84627867-a0d0aa80-af22-11ea-8f53-f403550397f2.png\" width=\"450px\" height=\"300px\" title=\"머신러닝_군집_문제[1]40\" alt=\"RubberDuck\"></img><br/>\n",
        "자 그럼 적절한 k값을 추정하기 위해 k를 1부터 10까지 구축해 보고,  \n",
        "각각의 오차제곱값(SSE)을 한번 시각화해보도록 하죠.  \n",
        "\n"
      ]
    },
    {
      "cell_type": "markdown",
      "metadata": {
        "id": "Jf7afXre0E71",
        "colab_type": "text"
      },
      "source": [
        "우선 k를 1부터 10까지 반복해서 넣어주어야 하니  \n",
        "for문에 range함수를 넣어 1부터 10까지 차례로 넣어준다 알려주고  \n",
        "<img src=\"https://user-images.githubusercontent.com/54702627/84628067-f73de900-af22-11ea-9d11-6c769703bbe6.png\" width=\"450px\" height=\"300px\" title=\"머신러닝_군집_문제[1]41\" alt=\"RubberDuck\"></img><br/>\n",
        "KMeans함수에 클러스터 수를 i로 설정해 줍니다.  \n",
        "<img src=\"https://user-images.githubusercontent.com/54702627/84628215-2f452c00-af23-11ea-99c2-7fb442ccf5ae.png\" width=\"450px\" height=\"300px\" title=\"머신러닝_군집_문제[1]42\" alt=\"RubberDuck\"></img><br/>\n",
        "이렇게 되면 클러스터를 1개부터 10개까지 차례로 생성하게 되죠  \n",
        "\n",
        "그리고 임의의 데이터셋 x를 모델에 넣어주고  \n",
        "<img src=\"https://user-images.githubusercontent.com/54702627/84628326-64517e80-af23-11ea-8b4a-3bf94278e2a3.png\" width=\"450px\" height=\"300px\" title=\"머신러닝_군집_문제[1]43\" alt=\"RubberDuck\"></img><br/>\n",
        "append라는 함수를 통해 객체에 저장되어 있는 왜곡값을 차례로 빈 list에 넣어줍니다.  \n",
        "<img src=\"https://user-images.githubusercontent.com/54702627/84628452-a084df00-af23-11ea-933d-8656c0f0aaee.png\" width=\"450px\" height=\"300px\" title=\"머신러닝_군집_문제[1]44\" alt=\"RubberDuck\"></img><br/>\n",
        "그리고 이 빈 list는 앞에다가 미리 생성해 줍니다.  \n",
        "\n",
        "자 이제 x축에다가는 우리가 설정한 k의 범위  \n",
        "<img src=\"https://user-images.githubusercontent.com/54702627/84628543-cdd18d00-af23-11ea-8bc3-03b96fb911c7.png\" width=\"450px\" height=\"300px\" title=\"머신러닝_군집_문제[1]45\" alt=\"RubberDuck\"></img><br/>\n",
        "\n",
        "y축은 왜곡값을 할당하여  \n",
        "<img src=\"https://user-images.githubusercontent.com/54702627/84628623-f9ed0e00-af23-11ea-8248-73f178b69845.png\" width=\"450px\" height=\"300px\" title=\"머신러닝_군집_문제[1]46\" alt=\"RubberDuck\"></img><br/>\n",
        "시각화를 진행 해보면  \n",
        "<img src=\"https://user-images.githubusercontent.com/54702627/84628740-2a34ac80-af24-11ea-9e3a-0653a51b1422.png\" width=\"450px\" height=\"300px\" title=\"머신러닝_군집_문제[1]47\" alt=\"RubberDuck\"></img><br/>\n",
        "이렇게 k가 늘어남에 따라 최곡값도 함께 감소하는  \n",
        "마치 사람의 팔꿈치와 같은 형상인 그래프를 출력할 수 있습니다.  "
      ]
    },
    {
      "cell_type": "markdown",
      "metadata": {
        "id": "jmGjd8wB2nMR",
        "colab_type": "text"
      },
      "source": [
        "### 실루엣 분석\n",
        "군집 품질을 평가하는 또 다른 방법은 바로 실루엣 분석입니다.  \n",
        "(실루엣 그래프-silhouette analysis)\n",
        "이 기법으 한문장으로 요약하면  \n",
        "<u>클러스터 내 데이터들이 얼마나 조밀하게 모여있는지를 측정하는 그래프 도구</u>입니다.  \n",
        "<img src=\"https://user-images.githubusercontent.com/54702627/84629203-e2625500-af24-11ea-9657-d7038be03b01.png\" width=\"450px\" height=\"300px\" title=\"머신러닝_군집_문제[1]48\" alt=\"RubberDuck\"></img><br/>\n",
        "또 k-means 외에도 다른 군집 알고리즘에 적용할 수 있다는 장점이 존재하죠.  \n",
        "\n",
        "그럼 어떻게 이 계수를 구하는지 코드와 함께 자세하게 살펴보도록 하겠습니다.  \n",
        "<img src=\"https://user-images.githubusercontent.com/54702627/84629325-16d61100-af25-11ea-9bf5-a249c9e3e61c.png\" width=\"450px\" height=\"300px\" title=\"머신러닝_군집_문제[1]49\" alt=\"RubberDuck\"></img><br/>\n",
        "\n",
        "공식을 자세히 보면 응집력과 분리도가 같다면 실루엣 계수는 0이 됩니다.  \n",
        "<img src=\"https://user-images.githubusercontent.com/54702627/84629631-9bc12a80-af25-11ea-8d64-ad92371b2fb2.png\" width=\"450px\" height=\"300px\" title=\"머신러닝_군집_문제[1]50\" alt=\"RubberDuck\"></img><br/>\n",
        "\n",
        "또 응집력 보다 분리도가 크다면 이상적인 실루엣 계수 1에 가깝게 되죠.  \n",
        "<img src=\"https://user-images.githubusercontent.com/54702627/84629749-c6ab7e80-af25-11ea-9197-33ae9d499335.png\" width=\"450px\" height=\"300px\" title=\"머신러닝_군집_문제[1]51\" alt=\"RubberDuck\"></img><br/>\n",
        "\n",
        "분리도는 데이터가 다른 클러스터와 얼마나 다른지를 나타내고,  \n",
        "<img src=\"https://user-images.githubusercontent.com/54702627/84629901-08d4c000-af26-11ea-92a4-8e31e61542dd.png\" width=\"450px\" height=\"300px\" title=\"머신러닝_군집_문제[1]52\" alt=\"RubberDuck\"></img><br/>\n",
        "응집력은 클러스터 내 다른 샘플과 얼마나 비슷한지를 나타내기 때문입니다.  \n",
        "이때 응집력은 작을수록 클러스터 내 다른 데이터들과 비슷하단 뜻이고요.  \n",
        "\n",
        "그리고 만약 두값이 같다면  \n",
        "<img src=\"https://user-images.githubusercontent.com/54702627/84630050-48031100-af26-11ea-9c52-7969019cfbe3.png\" width=\"450px\" height=\"300px\" title=\"머신러닝_군집_문제[1]53\" alt=\"RubberDuck\"></img><br/>\n",
        "클러스터는중첩되어 있다는 의미가 됩니다.  \n"
      ]
    },
    {
      "cell_type": "markdown",
      "metadata": {
        "id": "weZLsPQF_TFO",
        "colab_type": "text"
      },
      "source": [
        "\n",
        "그럼 코드를 통해 살펴보도록 하죠.  \n",
        "실루엣 계수는 사이킷런에 metrics 모델아래 silhouette_samples 함수로 계산할 수 있습니다.  \n",
        "<img src=\"https://user-images.githubusercontent.com/54702627/84630225-99130500-af26-11ea-8cd8-74404e5e8cdd.png\" width=\"450px\" height=\"300px\" title=\"머신러닝_군집_문제[1]54\" alt=\"RubberDuck\"></img><br/>\n",
        "\n",
        "그래서 silhouette_sample함수를 통해  \n",
        "<img src=\"https://user-images.githubusercontent.com/54702627/84630369-cc559400-af26-11ea-945e-35ccbf293c9f.png\" width=\"450px\" height=\"300px\" title=\"머신러닝_군집_문제[1]55\" alt=\"RubberDuck\"></img><br/>\n",
        "첫번째 속성에는 임의의 데이터셋 X,   \n",
        "그리고 두번째 속성에는 이 데이터에 대한 예측 클러스터를 포함한 객체,  \n",
        "마지막은 거리측정 방식에 대하여 일반적으로 많이 사용되는 기법 유클리디안(euclidean)입니다.  \n",
        "\n",
        "실루엣 계수를 구하는 이 코드 외에는 모두 부수적인 코드니깐  \n",
        "<img src=\"https://user-images.githubusercontent.com/54702627/84630719-4be36300-af27-11ea-87eb-18744f750865.png\" width=\"450px\" height=\"300px\" title=\"머신러닝_군집_문제[1]56\" alt=\"RubberDuck\"></img><br/>\n",
        "이후 상세하게 주석을 달아 놓도록 하겠습니다.  \n",
        "\n",
        "자 그럼 코드 결과를 살펴보면, 클러스터의 크기를 확인하고, 이상치를 가진 클러스터를 구별할 수 있게 되죠.  \n",
        "<img src=\"https://user-images.githubusercontent.com/54702627/84632434-da58e400-af29-11ea-9ec4-b3321d8ebf80.png\" width=\"450px\" height=\"300px\" title=\"머신러닝_군집_문제[1]57\" alt=\"RubberDuck\"></img><br/>\n",
        "물론 지금 이 그래프는 실루엣 계수가 대부분 1에 가깝게 형성되어 있으므로  \n",
        "이는 군집이 어느 정도 잘 형성되었다 할 수 있습니다.  \n",
        "추가로 붉은색 점선을 통해 평균 실루엣 계수도 확인할 수 있죠.  "
      ]
    },
    {
      "cell_type": "markdown",
      "metadata": {
        "id": "kO4CDR2tAF_O",
        "colab_type": "text"
      },
      "source": [
        "그럼 군집이 잘 이워지지 않은 경우에 대해서도 살펴보겠습니다.  \n",
        "<img src=\"https://user-images.githubusercontent.com/54702627/84632768-58b58600-af2a-11ea-8132-87c5ecf7d7e6.png\" width=\"450px\" height=\"300px\" title=\"머신러닝_군집_문제[1]58\" alt=\"RubberDuck\"></img><br/>\n",
        "앞서 k값이 3인 경우에 왜곡값이 가장 낮았던 임의의 데이터셋에  \n",
        "군집을 하나줄여 두 개의 군집을 형성하도록 설정하고, 모델을 구축합니다.  \n",
        "<img src=\"https://user-images.githubusercontent.com/54702627/84632955-ab8f3d80-af2a-11ea-9ab6-39edf80ef9d3.png\" width=\"450px\" height=\"300px\" title=\"머신러닝_군집_문제[1]59\" alt=\"RubberDuck\"></img><br/>\n",
        "그리고 산점조를 통해 군집 형성 결과를 살펴보면 확실시 먼가 잘못 된것처럼 보이죠.  \n",
        "이때 시각적으로 표현할 수 있다는건 어디까지나 저차원의 데이터셋이기에 가능하다는 점 유념해주세요.  \n",
        "\n",
        "자그럼 다시 silhouette_sample함수를 기반으로 그래프를 그려보면  \n",
        "<img src=\"https://user-images.githubusercontent.com/54702627/84633324-307a5700-af2b-11ea-89bb-4f5e4d8af043.png\" width=\"450px\" height=\"300px\" title=\"머신러닝_군집_문제[1]60\" alt=\"RubberDuck\"></img><br/>\n",
        "확실히 k 값이 3일때의 그래프와 비교했을 때  \n",
        "각 클러스터에 대한 그래프의 두깨부터 길이까지 모두 확연하게 다르다는것을 알 수 있습니다.  \n",
        "\n",
        "이는 군집 결과가 좋지 못하거나  \n",
        "적어도 최적의 군집은 아니라는 증거라할수 있죠  \n",
        "<img src=\"https://user-images.githubusercontent.com/54702627/84633482-6cadb780-af2b-11ea-9fd2-5fd656ac1a07.png\" width=\"450px\" height=\"300px\" title=\"머신러닝_군집_문제[1]61\" alt=\"RubberDuck\"></img><br/>"
      ]
    },
    {
      "cell_type": "markdown",
      "metadata": {
        "id": "egkBiRE9CjI1",
        "colab_type": "text"
      },
      "source": [
        "자 이렇게 군집을 형성하는 방법부터 해서 엘보우방법, 실루엣 그래프 라는  \n",
        "군집 평가방법까지 코드와 함께 체계적으로 살펴봤습니다.  \n",
        "<img src=\"https://user-images.githubusercontent.com/54702627/84633687-b72f3400-af2b-11ea-9ee7-ba04179d7dba.png\" width=\"450px\" height=\"300px\" title=\"머신러닝_군집_문제[1]62\" alt=\"RubberDuck\"></img><br/>\n",
        "\n",
        "요약하자면 군집분석은 클래스 레이블이 없는 데이터를  \n",
        "특정 군집으로 묶고자 할 때 아주 유용하게 사용할 수 있으며  \n",
        "그중 k-means 알고리즘은 학계와 산업현장을 가리지 않고 활양하고 있습니다.  \n",
        "더불어 k-means의 무작위성을 보완하기 위한 기법 k-means++ 또한 널리 사용되고 있는 상황이고요.  \n",
        "<img src=\"https://user-images.githubusercontent.com/54702627/84634042-36246c80-af2c-11ea-8e27-4c80bd2bfed9.png\" width=\"450px\" height=\"300px\" title=\"머신러닝_군집_문제[1]63\" alt=\"RubberDuck\"></img><br/>\n",
        "\n",
        "하지만 이 외에도 **덴드로그램**을 그릴 수 있는 **계층 군집**  \n",
        "클러스터 모양이 원형이지 않을때 주로 사용되는 **밀집도 기반 군집**  \n",
        "알고리즘도 널리 사용되고 있습니다.  \n",
        "<img src=\"https://user-images.githubusercontent.com/54702627/84634374-a92de300-af2c-11ea-8378-508fbdf56a10.png\" width=\"450px\" height=\"300px\" title=\"머신러닝_군집_문제[1]64\" alt=\"RubberDuck\"></img><br/>\n",
        "이 기법들은 이 후 다시 살펴보도록 하고  \n",
        "오늘은 여기서 마무리..."
      ]
    },
    {
      "cell_type": "code",
      "metadata": {
        "id": "EZtODsXBNSbL",
        "colab_type": "code",
        "colab": {}
      },
      "source": [
        ""
      ],
      "execution_count": 0,
      "outputs": []
    }
  ]
}