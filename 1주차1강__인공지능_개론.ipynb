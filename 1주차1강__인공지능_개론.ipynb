{
  "nbformat": 4,
  "nbformat_minor": 0,
  "metadata": {
    "colab": {
      "name": "1주차1강 _인공지능_개론.ipynb",
      "provenance": [],
      "collapsed_sections": [],
      "authorship_tag": "ABX9TyO0UwwWWJ9qZLtwFfXF6NEG",
      "include_colab_link": true
    },
    "kernelspec": {
      "name": "python3",
      "display_name": "Python 3"
    }
  },
  "cells": [
    {
      "cell_type": "markdown",
      "metadata": {
        "id": "view-in-github",
        "colab_type": "text"
      },
      "source": [
        "<a href=\"https://colab.research.google.com/github/jang262/jang262.github.io/blob/master/1%EC%A3%BC%EC%B0%A81%EA%B0%95__%EC%9D%B8%EA%B3%B5%EC%A7%80%EB%8A%A5_%EA%B0%9C%EB%A1%A0.ipynb\" target=\"_parent\"><img src=\"https://colab.research.google.com/assets/colab-badge.svg\" alt=\"Open In Colab\"/></a>"
      ]
    },
    {
      "cell_type": "markdown",
      "metadata": {
        "id": "-yXmsR2OuvJN",
        "colab_type": "text"
      },
      "source": [
        "#인공지능이란???\n",
        "\n",
        "조지 불 : 확률론    \n",
        "제프리힌턴 : 역전파이론\n",
        "\n",
        "컴퓨터가 생각을 할 수 있을까?\n",
        "\n",
        "인간이 일반적으로 수행하는 지적 작업을 자동화 하려는 노력\n",
        "\n",
        "**기호주의인공지능**    \n",
        "하드코딩은 인공지능이 아니다\n",
        "\n",
        "이미지분류    \n",
        "음성인식    \n",
        "번역\n",
        "\n",
        "TPU : 머신러닝 전용 하드웨어    \n",
        "-> 선형대수연산을 가속화시킴\n",
        "\n",
        "###번역 \n",
        "과거 변역 방식 : 문장이 함께 번역될 수 있는 단어의 조합을 찾음    \n",
        "\n",
        "현재의 번역 방식 : 전체 문장들 사이의 상관성을 찾아 결과를 출력    \n",
        "\n",
        "블라디미드 나보코프 : \"시를 다른 언어로 번역하는건 불가능합니다.\"라고 함    \n",
        "\n",
        "언젠가 인공지능은 세익스피어가 남긴 모든 시구를 통합해 그의 작품 각각에 대한 적절한 번역을 내놓을 수 있을지도 모른다.\n",
        "\n",
        "###음성인식\n",
        "2016년 Microsoft는 120개의 계층으로 이뤄진 딥러닝 네트워크를 통해 맣하는 사람이 다수인 상황속에서도 인간 수준의 수행력을 성취했다고 이야기 함.\n",
        "\n",
        "\n",
        "\n"
      ]
    },
    {
      "cell_type": "code",
      "metadata": {
        "id": "bgYhrmfASR0n",
        "colab_type": "code",
        "colab": {}
      },
      "source": [
        ""
      ],
      "execution_count": 0,
      "outputs": []
    }
  ]
}