{
  "nbformat": 4,
  "nbformat_minor": 0,
  "metadata": {
    "colab": {
      "name": "4주차1강_딥러닝.ipynb",
      "provenance": [],
      "collapsed_sections": [],
      "authorship_tag": "ABX9TyMTKEA2FiNz+FZQ3lKhZ/rp",
      "include_colab_link": true
    },
    "kernelspec": {
      "name": "python3",
      "display_name": "Python 3"
    }
  },
  "cells": [
    {
      "cell_type": "markdown",
      "metadata": {
        "id": "view-in-github",
        "colab_type": "text"
      },
      "source": [
        "<a href=\"https://colab.research.google.com/github/jang262/jang262.github.io/blob/master/4%EC%A3%BC%EC%B0%A81%EA%B0%95_%EB%94%A5%EB%9F%AC%EB%8B%9D.ipynb\" target=\"_parent\"><img src=\"https://colab.research.google.com/assets/colab-badge.svg\" alt=\"Open In Colab\"/></a>"
      ]
    },
    {
      "cell_type": "markdown",
      "metadata": {
        "id": "l6xDkzgNCOrj",
        "colab_type": "text"
      },
      "source": [
        "# 딥러닝(Deep Learning)  \n",
        "지금 부터 딥러닝 수업을 시작하겠습니다.  \n",
        "이 수업은 인공지능을 실현하는 방법중 하나인  \n",
        "딥러닝을 다루는 수업입니다.  \n",
        "<img src=\"https://user-images.githubusercontent.com/54702627/84668099-21f96300-af5e-11ea-9585-2a41d545e69d.png\" width=\"450px\" height=\"300px\" title=\"딥러닝1\" alt=\"RubberDuck\"></img><br/>\n",
        "\n",
        "이 수업의 목표는 이렇습니다.  \n",
        "딥러닝이란 무엇인지 그리고 딥러닝을 뒷받침해주는 다수의 개념들  \n",
        "더 나아가 이러한 딥러닝을 활용한 사례까지 살펴보며  \n",
        "딥러닝의 대략적인 숲을 먼저 탐험해 보는것이 이 수업의 목표입니다.  \n",
        "자 그럼 시작하겠습니다.  \n"
      ]
    },
    {
      "cell_type": "markdown",
      "metadata": {
        "id": "HlmPgLwoV_eo",
        "colab_type": "text"
      },
      "source": [
        "우선 딥러닝이란 인간의 신경망 이론을 이용한 **인공신경망**의 일종으로  \n",
        "계층구조로 구성되며 **입력층**과 **출력층** 사이에 하나 이상의  \n",
        "**은닉층**을 가지고 있는 **심층 신경망**입니다.  \n",
        "<img src=\"https://user-images.githubusercontent.com/54702627/84668507-b1067b00-af5e-11ea-8277-163c54695704.png\" width=\"450px\" height=\"300px\" title=\"딥러닝2\" alt=\"RubberDuck\"></img><br/>\n",
        "말이 좀 복잡하네요.  \n",
        "\n",
        "그럼 이 심층 신경망을 이해하기 위해서는 이 인공신경망을 먼저  \n",
        "이해해야 한다는 건데, 이 인공신경망은 어떠한 존재일까요?  \n",
        "<img src=\"https://user-images.githubusercontent.com/54702627/84668745-f165f900-af5e-11ea-95ef-243545c1f5c1.png\" width=\"450px\" height=\"300px\" title=\"딥러닝3\" alt=\"RubberDuck\"></img><br/>\n",
        "\n",
        "이 인공신경망은 사람들이 인간의 뇌 구조를 모방하여 모델링한 수학적 모델입니다.\n",
        "<img src=\"https://user-images.githubusercontent.com/54702627/84668888-1e1a1080-af5f-11ea-928a-c48320e68c68.png\" width=\"450px\" height=\"300px\" title=\"딥러닝4\" alt=\"RubberDuck\"></img><br/>\n",
        "\n",
        "아주 크게 구분하자면, 신경세포인 뉴런과 시냅스 혹은 가중치인 연결로 구분할 수 있는데,  \n",
        "<img src=\"https://user-images.githubusercontent.com/54702627/84669040-56215380-af5f-11ea-9c9d-fd1c642a8065.png\" width=\"450px\" height=\"300px\" title=\"딥러닝5\" alt=\"RubberDuck\"></img><br/>\n",
        "여기 이 신경세포부터 간단하게 이야기해보면,  \n",
        "뉴런의 입력은 다수이고, 출력은 하나이며,  여러 신경세포로부터 전달되어 온 신호들이 합산되어 출력되죠.  \n",
        "<img src=\"https://user-images.githubusercontent.com/54702627/84669440-d647b900-af5f-11ea-87a1-4ecee59ee0d0.png\" width=\"450px\" height=\"300px\" title=\"딥러닝6\" alt=\"RubberDuck\"></img><br/>\n",
        "근데 또 여기 이 출력이 무작정 되는건 아니라는 점이 좀 흥미로운데  \n",
        "합산된 값이 설정값 이상이면 출력 신호가 생기고  \n",
        "이하면 출력 신호가 생기지 않기 때문이죠.  \n",
        "\n",
        "생물학과 비교하여 이야기 하자면, 여기 이 수상돌기는 입력과 비교할 수 있겠고  \n",
        "<img src=\"https://user-images.githubusercontent.com/54702627/84669678-1870fa80-af60-11ea-9d99-9dc9d39f0c12.png\" width=\"450px\" height=\"300px\" title=\"딥러닝7\" alt=\"RubberDuck\"></img><br/>\n",
        "입력이 합산되는 지점은 세포체 혹은 노드, 그리고 출력을 담당하는 곳은  \n",
        "여기 이 축삭이라 할 수 있습니다.  \n",
        "\n",
        "다음 시냅스는, 다수의 뉴런을 연결해주는 역할을 담당하고 있어요  \n",
        "<img src=\"https://user-images.githubusercontent.com/54702627/84669801-3fc7c780-af60-11ea-880d-c3573e432db6.png\" width=\"450px\" height=\"300px\" title=\"딥러닝8\" alt=\"RubberDuck\"></img><br/>\n",
        "\n",
        "그리고 이 인공신경망의 경우도 노드들을 연결시키고 층을 만들며  \n",
        "<img src=\"https://user-images.githubusercontent.com/54702627/84669993-77367400-af60-11ea-8205-9a3aee91d446.png\" width=\"450px\" height=\"300px\" title=\"딥러닝9\" alt=\"RubberDuck\"></img><br/>\n",
        "이러한 연결 강도는 가중치로 처리되죠.  \n",
        "\n",
        "너무 복잡한 이야기인거 같은데 간단하게 정리하면  \n",
        "인간의 뇌를 형상하는 뉴런의 집합체를 수학 모델로 표현한 것이  \n",
        "**인공신경망**입니다.\n"
      ]
    },
    {
      "cell_type": "markdown",
      "metadata": {
        "id": "WLJxuA-BZyMA",
        "colab_type": "text"
      },
      "source": [
        "그리고 이러한 인공신경망의 연구는 학자들마다 기준점이 조금씩 다르긴 하지만,  \n",
        "공통적으로 이야기되는 시점은 1957년 프랭크 로젠블랫에 의해 고안된  \n",
        "**퍼셉트론(Perceptron)** 부터 시작하며  \n",
        "<img src=\"https://user-images.githubusercontent.com/54702627/84670402-0e033080-af61-11ea-823d-c1081da44224.png\" width=\"450px\" height=\"300px\" title=\"딥러닝10\" alt=\"RubberDuck\"></img><br/>\n",
        "\n",
        "이후 **다층퍼셉트론(Multilayer)**의 출현  \n",
        "**역전파(Backpropagation)**이론  \n",
        "**순환 신경망(Recurrent Neural Network)**  \n",
        "손글씨 문자인식 연구  \n",
        "딥러닝 용어의 등장  \n",
        "**Drop Out**알고리즘의 출현까지  \n",
        "<img src=\"https://user-images.githubusercontent.com/54702627/84671079-e3fe3e00-af61-11ea-8905-236d30e4177c.png\" width=\"450px\" height=\"300px\" title=\"딥러닝11\" alt=\"RubberDuck\"></img><br/>\n",
        "인공신경망은 약 70년이란 시간 동안 수많은 고비를 넘겨오며  \n",
        "지금의 딥러닝에 다다를 수 있게 되었죠.  \n",
        "\n",
        "그리고 이러한 딥러닝은 20세기로 넘어옴과 동시에 충분한 하드웨어와  \n",
        "그래픽 처리장치, 그리고 드롭아웃과 같은 알고리즘의 발견으로  \n",
        "<img src=\"https://user-images.githubusercontent.com/54702627/84671287-26c01600-af62-11ea-9de5-898394ef9c45.png\" width=\"450px\" height=\"300px\" title=\"딥러닝12\" alt=\"RubberDuck\"></img><br/>\n",
        "더욱 폭발적으로 상승곡선을 그리고 있는 중입니다.  \n",
        "\n",
        "이러한 발전으로 인해 딥러닝은 지금까지 다양한 분야에서 그 윤곽을 드러내고 있는데,  \n",
        "<img src=\"https://user-images.githubusercontent.com/54702627/84671515-71da2900-af62-11ea-8fe7-754fd10f85f4.png\" width=\"450px\" height=\"300px\" title=\"딥러닝13\" alt=\"RubberDuck\"></img><br/>\n",
        "우선가장 많이 알려진 이미지 인식 같은 경우  \n",
        "이미지 인식 경진대회를 살펴볼 수 있습니다.  \n",
        "이 대회는 2010년부터 시작하여 2017년까지 매년 개최되었는데,  \n",
        "\n",
        "대회 초반에는 주로 얕은 구조를 지닌 알고리즘들이 에러율 28%, 26% 정도의  \n",
        "<img src=\"https://user-images.githubusercontent.com/54702627/84671909-e1e8af00-af62-11ea-85e3-1ad85f58a221.png\" width=\"450px\" height=\"300px\" title=\"딥러닝14\" alt=\"RubberDuck\"></img><br/>\n",
        "성능을 발휘하였지만 2012년 CNN 기반의 딥러닝 알고리즘 Alexnet이  \n",
        "에러율을 16%까지 낮추며 우승을 차지, 이후 대회의 트렌드는 딥러닝 구조를  \n",
        "누가 얼마나 깊고 복잡하게 쌓느냐로 우승의 당락이 판가름되었습니다.   \n",
        "\n",
        "실제로 2015년의 우승 알고리즘이었던 ResNet은 2012년 8개의 레이어를 갖춘  \n",
        "<img src=\"https://user-images.githubusercontent.com/54702627/84672226-4441af80-af63-11ea-8557-78ca5767bf47.png\" width=\"450px\" height=\"300px\" title=\"딥러닝15\" alt=\"RubberDuck\"></img><br/>\n",
        "CNN 기반 딥러닝 알고리즘에 비해 무려 152개의 레이어를 쌓아 올리며  \n",
        "에러율을 3%까지 낮췄죠.  \n",
        "그리고 2017년을 기준으로 에러율을 2.3%까지 낮추며 더 이상의 이미지 인식 경진대회는  \n",
        "의미가 없다고 판단, 경진대회는 10년이 조금 안되는 시간동안  \n",
        "수많은 유산을 남기며 막을 내리게 됩니다.  \n",
        "\n"
      ]
    },
    {
      "cell_type": "markdown",
      "metadata": {
        "id": "MOJJOSWOeMfR",
        "colab_type": "text"
      },
      "source": [
        "또 CNN은 인식이라는 범주에서 한 발짝 더 나아가  \n",
        "에드바르드 뭉크, 윌리엄 토너, 이중섭 등의 유명 화가의 작품을 학습하고  \n",
        "이를 활용하여 일반 그림을 화풍에 맞게 그려주는 기술로 발전되기도 하였고,  \n",
        "<img src=\"https://user-images.githubusercontent.com/54702627/84721950-df1aa800-afbc-11ea-919c-2be2cfb01f36.png\" width=\"450px\" height=\"300px\" title=\"딥러닝16\" alt=\"RubberDuck\"></img><br/>\n",
        "\n",
        "CNN기반의 SegNet은 자율주행을 위해 카메라에 담긴 주변 환경을  \n",
        "<img src=\"https://user-images.githubusercontent.com/54702627/84722039-15f0be00-afbd-11ea-92d8-d6fe2e2cab8c.png\" width=\"450px\" height=\"300px\" title=\"딥러닝17\" alt=\"RubberDuck\"></img><br/>\n",
        "픽셀 수준으로 분할하여 인식하게 되죠.  \n"
      ]
    },
    {
      "cell_type": "markdown",
      "metadata": {
        "id": "PGUFtlQPyd5K",
        "colab_type": "text"
      },
      "source": [
        "\n",
        "다음으로 이런 이미지 인식에 주로 CNN기반 딥러닝이 사용되었다면,  \n",
        "음성 혹은 글자와 관련된 부분에 있어서는 순환 신경망이 주를 이루게 됩니다.  \n",
        "<img src=\"https://user-images.githubusercontent.com/54702627/84722232-944d6000-afbd-11ea-98e6-195be8c6eea2.png\" width=\"450px\" height=\"300px\" title=\"딥러닝18\" alt=\"RubberDuck\"></img><br/>\n",
        "이러한 음성과 텍스트의 공통점은 길이가 가변적이라는 것이며,  \n",
        "사람의 말을 정확하게 판단하기 위해서는 단어 하나하나를 판단하기보다는  \n",
        "<img src=\"https://user-images.githubusercontent.com/54702627/84722269-adeea780-afbd-11ea-955e-9b3a836e910a.png\" width=\"450px\" height=\"300px\" title=\"딥러닝19\" alt=\"RubberDuck\"></img><br/>\n",
        "말의 문맥을 활용할 줄 알아야 하는 것이 더 중요하죠.  \n",
        "\n",
        "그래서 이전의 기억을 어느 정도는 활용할 줄 알아야 하며,  \n",
        "<img src=\"https://user-images.githubusercontent.com/54702627/84722329-decedc80-afbd-11ea-9997-106a60e046ff.png\" width=\"450px\" height=\"300px\" title=\"딥러닝20\" alt=\"RubberDuck\"></img><br/>\n",
        "순환 신경망은 이러한 면에서 그 강점을 발휘하게 되죠.  \n"
      ]
    },
    {
      "cell_type": "markdown",
      "metadata": {
        "id": "56kebUwwyh-8",
        "colab_type": "text"
      },
      "source": [
        "이후 순환 신경망은 **LSTM,GRU** 등으로 발전하게 되며  \n",
        "<img src=\"https://user-images.githubusercontent.com/54702627/84722418-2190b480-afbe-11ea-9d3d-61720fa092b7.png\" width=\"450px\" height=\"300px\" title=\"딥러닝21\" alt=\"RubberDuck\"></img><br/>\n",
        "긴 문장에 대한 번역에서도 높은 성과를 달성하고 또한 2013년 토론토 대학에서  \n",
        "이러한 딥러닝을 활용하여 손글씨를 만드는 기술을 발표하게 됩니다.  \n",
        "<img src=\"https://user-images.githubusercontent.com/54702627/84722497-5f8dd880-afbe-11ea-8488-e3943501b334.png\" width=\"450px\" height=\"300px\" title=\"딥러닝22\" alt=\"RubberDuck\"></img><br/>\n",
        "\n",
        "이 외에도 구글 Deepmind와 옥스퍼드 대학의 연구진은 약 12만개의 문장과  \n",
        "<img src=\"https://user-images.githubusercontent.com/54702627/84722725-fa86b280-afbe-11ea-95f4-be8cc829f128.png\" width=\"450px\" height=\"300px\" title=\"딥러닝23\" alt=\"RubberDuck\"></img><br/>\n",
        "17500개의 고유명사가 포함된 BBC영상 5천 시간 분량으로 딥러닝을 활용해  \n",
        "독순술 정확도를 대폭 끌어올린 시스템을 개발하게 됩니다.  \n",
        "\n",
        "놀라운 점은 딥러닝 기반 시스템은 94%까지 정확도를 보여줬다는 점이죠.  \n",
        "<img src=\"https://user-images.githubusercontent.com/54702627/84722813-40dc1180-afbf-11ea-9e5f-fb4fbc55a2ed.png\" width=\"450px\" height=\"300px\" title=\"딥러닝24\" alt=\"RubberDuck\"></img><br/>\n",
        "\n",
        "이러한 시스템은 청각장애를 가지고 있어 대화에 어려움을 겪는 분들에게  \n",
        "<img src=\"https://user-images.githubusercontent.com/54702627/84722968-8567ad00-afbf-11ea-85d7-0f3dd86172fc.png\" width=\"450px\" height=\"300px\" title=\"딥러닝25\" alt=\"RubberDuck\"></img><br/>\n",
        "아주 유용하게 사용될 수도 있지만, 반면 우리의 일상을 감시하는데 쓰일 수도 있다는  \n",
        "우려 섰인 목소리도 들리고 있습니다.  \n"
      ]
    },
    {
      "cell_type": "markdown",
      "metadata": {
        "id": "Iz9Um9ap1jER",
        "colab_type": "text"
      },
      "source": [
        "이러한 기술력을 바탕으로 구글, 마이크로소프트, 바이두, 페이스북, IBM 등의  \n",
        "<img src=\"https://user-images.githubusercontent.com/54702627/84723238-1a6aa600-afc0-11ea-9288-f69589689918.png\" width=\"450px\" height=\"300px\" title=\"딥러닝26\" alt=\"RubberDuck\"></img><br/>\n",
        "거대한 기업들은 물론 전 세계의 스타트업 또한 사업영역을 확장하고 있는 추세죠.  \n",
        "\n",
        "마이크로소프트의 경우 음성인식과 자연어 처리 분야에 집중하며 음성인식 기반의  \n",
        "<img src=\"https://user-images.githubusercontent.com/54702627/84723357-5bfb5100-afc0-11ea-8238-ee929e11c6b1.png\" width=\"450px\" height=\"300px\" title=\"딥러닝27\" alt=\"RubberDuck\"></img><br/>\n",
        "지능형 개인 도우미 앱 Cortana를 서비스하고 있으며,  \n",
        "\n",
        "바이두 또한 2015년 중국어의 특징인 성조와 관련하여 음성인식 시스템이  \n",
        "<img src=\"https://user-images.githubusercontent.com/54702627/84723513-b4cae980-afc0-11ea-8cce-4a74de8af175.png\" width=\"450px\" height=\"300px\" title=\"딥러닝28\" alt=\"RubberDuck\"></img><br/>\n",
        "이를 원활하게 처리할 수 있는 Deep speech2를 발표하게 되죠.  \n",
        "\n",
        "또한 페이스북은 이름에 걸맞게 2015년 두개의 인물사진에 대하여  \n",
        "<img src=\"https://user-images.githubusercontent.com/54702627/84723632-007d9300-afc1-11ea-81eb-26690486f8d0.png\" width=\"450px\" height=\"300px\" title=\"딥러닝29\" alt=\"RubberDuck\"></img><br/>\n",
        "동일 인물 여부를 판단할 수 있는 deep face시스템을 발표,  \n",
        "\n",
        "IBM은 과거의 명성을 이어나가고자 watson에 딥러닝 기술을 추가하는 등의  \n",
        "<img src=\"https://user-images.githubusercontent.com/54702627/84723698-29058d00-afc1-11ea-8dc7-29ba350d59a3.png\" width=\"450px\" height=\"300px\" title=\"딥러닝30\" alt=\"RubberDuck\"></img><br/>\n",
        "활동을 보여주고 있습니다.  \n"
      ]
    },
    {
      "cell_type": "markdown",
      "metadata": {
        "id": "SfCJwt0Q3z3t",
        "colab_type": "text"
      },
      "source": [
        "그리고 인공지능 하면 떠오르는 대표적인 기업 구글은  \n",
        "<img src=\"https://user-images.githubusercontent.com/54702627/84723831-8b5e8d80-afc1-11ea-9ee5-1a1af677c16d.png\" width=\"450px\" height=\"300px\" title=\"딥러닝31\" alt=\"RubberDuck\"></img><br/>\n",
        "2013년 딥러닝의 아버지인 제프리 힌턴을 영입하고  \n",
        "다음해엔 알파고의 전신을 설계한 딥마인드를 인수  \n",
        "2015년에는 텐서플로우를 공개  \n",
        "그 다음해에는 TPU를 차례로 공개하는 등의 행보를 보여주고 있습니다.  \n",
        "\n",
        "이 외에도 다양한 기업들이 인공지능을 활용한 수많은 도전을 행하고 있지만,  \n",
        "그 어떠한 기업도 아직은 기술적 특이점에 도달했다고는 할 수 없습니다.  \n",
        "이 말인 즉, 우리에게도 무한한 가능성이 존재한다 할 수 있죠.  \n",
        "그럼 다음 강의에서는 이러한 기술들을 뒷받침해주는 이론들과 개념도 가볍게 살펴보도록 하고  \n",
        "오늘의 강의는 여기서 마무리...\n"
      ]
    },
    {
      "cell_type": "code",
      "metadata": {
        "id": "upR-xRsUBcEr",
        "colab_type": "code",
        "colab": {}
      },
      "source": [
        ""
      ],
      "execution_count": 0,
      "outputs": []
    }
  ]
}