{
  "nbformat": 4,
  "nbformat_minor": 0,
  "metadata": {
    "colab": {
      "name": "3주차4강_머신러닝_분류_문제[1].ipynb",
      "provenance": [],
      "collapsed_sections": [],
      "authorship_tag": "ABX9TyM/TAvSKjpZq1ww9lHvuhoi",
      "include_colab_link": true
    },
    "kernelspec": {
      "name": "python3",
      "display_name": "Python 3"
    }
  },
  "cells": [
    {
      "cell_type": "markdown",
      "metadata": {
        "id": "view-in-github",
        "colab_type": "text"
      },
      "source": [
        "<a href=\"https://colab.research.google.com/github/jang262/jang262.github.io/blob/master/3%EC%A3%BC%EC%B0%A84%EA%B0%95_%EB%A8%B8%EC%8B%A0%EB%9F%AC%EB%8B%9D_%EB%B6%84%EB%A5%98_%EB%AC%B8%EC%A0%9C%5B1%5D.ipynb\" target=\"_parent\"><img src=\"https://colab.research.google.com/assets/colab-badge.svg\" alt=\"Open In Colab\"/></a>"
      ]
    },
    {
      "cell_type": "markdown",
      "metadata": {
        "id": "tYm-uGChxeBu",
        "colab_type": "text"
      },
      "source": [
        "<img src=\"https://user-images.githubusercontent.com/54702627/84593142-98766200-ae85-11ea-88b0-489ec0fb247d.png\" width=\"450px\" height=\"300px\" title=\"머신러닝_분류_문제[1]1\" alt=\"RubberDuck\"></img><br/>\n",
        "세상에는 정말 다양한 문제들이 존재합니다.  \n",
        "그리고 우리 인공지능  \n",
        "즉, 머신러닝을 활용하여 세상에 만연하게 존재하는 문재들을 풀어내고자 \n",
        "지금까지 달려왔죠.  \n",
        "그러나 인공지능을 배웠다 한들 이 드넓은 세상에 방대하게 존재하는  \n",
        "모든 문제에 대하여 하나의 열쇠로 만은 해결할 수가 없습니다.\n",
        "그리하여 우린 인공지능과 더불어 특정 문제에 알맞은 분류 알고리즘을 획득하려는 연습이 필요하죠.  \n",
        "\n",
        "실제로 몇편의 연구논문만 찾아봐도 하나의 문제를 해결하기 위해,  \n",
        "최소 몇 개의 학습 알고리즘 성능을 비교하고 해당 문제에 최선인  \n",
        "모델을 선택하는 방향으로 문제르 풀어 나갑니다.  \n",
        "<img src=\"https://user-images.githubusercontent.com/54702627/84593256-45e97580-ae86-11ea-8b42-779c3babdea9.png\" width=\"450px\" height=\"300px\" title=\"머신러닝_분류_문제[1]2\" alt=\"RubberDuck\"></img><br/>\n",
        "또한 변수의 특성이나, 데이터의 개수에 따라 다르고, 데이서 셋에 존재하는  \n",
        "노이즈 데이터의 양, 클래스가 선형적으로 구분되는지 아닌지에 따라서도 구분됩니다.  \n",
        "\n",
        "좀 더 이야기를 드리자면  \n",
        "머신러닝 알고리즘으 훈련하기 위한일련의 단계는 다음과 같습니다.  \n",
        "<img src=\"https://user-images.githubusercontent.com/54702627/84593317-9d87e100-ae86-11ea-88de-f9e9c5204ec5.png\" width=\"450px\" height=\"300px\" title=\"머신러닝_분류_문제[1]3\" alt=\"RubberDuck\"></img><br/>\n",
        "\n",
        "이러한 이야기를 반복해서드리는 이유는  \n",
        "우리가 대체로 머신러닝을 공부하기 위해서 무엇을 어떻게 하죠?  \n",
        "그쵸, 책을 사거나 인강을 통해 1장부터 천천히 마지막 장까지, 살표보죠  \n",
        "그리고 이러한 과정을 통해 머신러닝의 알고리즘은 이런게 있고, 이건 이렇게 코딩하면 된다고 공부합니다.  \n",
        "그리고 한권의 책이 끝남과 동시에 남는것 보단, 지식의 갈증을 느끼게 되죠.  \n",
        "너무 많은 알고리즘을 단 한번의 실험만으로 배웠기 때문입니다.  \n",
        "앞서 이야기한 실제 연구방법론에서는, 하나의 문제에 대해 다양한 모델과,  \n",
        "최적화 알고리즘을 선택해서 각각의 성능을 측정하고 더 높은 측정법을 위해 다수의 실험을 진행합니다.  \n",
        "우리가 책으로 공부하는 방향과는 조금다른 성격이죠.  \n",
        "\n",
        "그럼 또 다시 돌아오는 이야긴데  \n",
        "이러한 실험적 연구를 진행하기 위해서는 책에서 배웠던 기초 머신러닝 알고리즘을  \n",
        "대략은 파악하고 있어야 한다는 이야기가 됩니다.  \n"
      ]
    },
    {
      "cell_type": "markdown",
      "metadata": {
        "id": "aie7NWeXxd8G",
        "colab_type": "text"
      },
      "source": [
        "\n",
        "그리고 그 수만은 머신러닝 서적들의 첫번째 장에서 이야기가 되는**퍼셉트론(perceptron)**을 아주 간단하게 살펴보면  \n",
        "<img src=\"https://user-images.githubusercontent.com/54702627/84593595-e4c2a180-ae87-11ea-957f-26107f4245a1.png\" width=\"450px\" height=\"300px\" title=\"머신러닝_분류_문제[1]4\" alt=\"RubberDuck\"></img><br/>\n",
        "여러개의 입력을 받아 각각의 값에 가중치를 곱한 후,  \n",
        "모두 더한 것이 출력되는 모델입니다.  \n",
        "아주 단순한 모델이며 실제 문제에 사용되는 경우도 거의 없죠.  \n",
        "\n",
        "하지만 **신경망**이나 **딥러닝**의 뿌리가 되는 모델이니 이후 딥러닝 파트에서  \n",
        "좀 더 깊게 살펴보도록 하고, 그럼 왜 이런 퍼셉트론을 이야기 했냐,  \n",
        "\n",
        "자 이러한 두가지 데이터가 분포해 있을때 이데이터들은 오직 하나의 선으로 분류할 수 있을까요?  \n",
        "<img src=\"https://user-images.githubusercontent.com/54702627/84593789-ff494a80-ae88-11ea-9e5f-b91bbfb88ebd.png\" width=\"450px\" height=\"300px\" title=\"머신러닝_분류_문제[1]5\" alt=\"RubberDuck\"></img><br/>\n",
        "이렇게 <u>하나의 선으로 분류할 수 없는 **선형분리 불가능 문제**</u> 즉,  \n",
        "퍼셉트론 알고리즘은 너무도 단순한 모델이기에, <u>선형적으로 구분되지 않는  \n",
        "데이터셋에는 수렴하지 못한다는 치명적인 단점</u>이 있습니다.  \n"
      ]
    },
    {
      "cell_type": "markdown",
      "metadata": {
        "id": "rFMM5uaH4lra",
        "colab_type": "text"
      },
      "source": [
        "그리고 여기 퍼셉트론의 간단함은 유지하고 이러한 분류문제를  \n",
        "해결할 수 있는 모델이 바로 **로지스틱회귀**입니다.  \n",
        "<img src=\"https://user-images.githubusercontent.com/54702627/84593851-66ff9580-ae89-11ea-995a-6b70a3cf9e16.png\" width=\"450px\" height=\"300px\" title=\"머신러닝_분류_문제[1]6\" alt=\"RubberDuck\"></img><br/>\n",
        "\n",
        "우선 선형분리 가능 문제부터 살펴보겠습니다.  \n",
        "\n",
        "이 알고리즘을 한문장으로 정리하면  \n",
        "<u>분류를 확률로 생각하는 방식</u>입니다.  \n",
        "\n",
        "먼저 간단한 학습데이터에 관하여 설명을 하자면  \n",
        "이렇게 폭을 나타낸 축을 x1, 높이를 나타낸 축을 x2 라고 했을 때  \n",
        "가로로 긴것을 1, 세로로 긴것을 0이라 정하도록 하죠.  \n",
        "<img src=\"https://user-images.githubusercontent.com/54702627/84593944-f9079e00-ae89-11ea-85df-78f1c384b4bc.png\" width=\"450px\" height=\"300px\" title=\"머신러닝_분류_문제[1]7\" alt=\"RubberDuck\"></img><br/>\n",
        "자 그럼 다시 돌아와  \n",
        "\n",
        "우리가 이전영상에서 경사하강법을 사용해 적합한 매개변수를 구했었습니다.  \n",
        "그리고 적합한 매개변수를 통해 새로운 테스트 데이터 x에 대한 출력 값을 구할 수 있었죠.\n",
        "<img src=\"https://user-images.githubusercontent.com/54702627/84594024-7c28f400-ae8a-11ea-8774-8b5f81ef4aee.png\" width=\"450px\" height=\"300px\" title=\"머신러닝_분류_문제[1]8\" alt=\"RubberDuck\"></img><br/>\n",
        "여기서도 계념은 비슷합니다.  \n",
        "\n",
        "다만 미지의 데이터에 대한출력값이 수치가 아닌  \n",
        "<u>어느 클래스에 분류되는지 구하는 것</u>  \n",
        "<img src=\"https://user-images.githubusercontent.com/54702627/84594104-ee99d400-ae8a-11ea-9a3c-2dd06ab2269a.png\" width=\"450px\" height=\"300px\" title=\"머신러닝_분류_문제[1]9\" alt=\"RubberDuck\"></img><br/>\n",
        "그리고 이를 구할 수 있는 함수가 필요한 것이고요.  \n",
        "자 이렇게 복잡한 무엇인가가 나타났을 땐 긴장하지 말고 하나씩 알아가면 됩니다.  \n",
        "여기 이것은 <u>지수함수로 e는 네이피어 수라고 불리는 상수인데, 구체적인 값은 2.7182...<u>이에요  \n"
      ]
    },
    {
      "cell_type": "markdown",
      "metadata": {
        "id": "19BIDvLb9iJg",
        "colab_type": "text"
      },
      "source": [
        "\n",
        "그리고 이 함수의 이름은 그 유명한 **로지스틱 시그모이드 함수**입니다.  \n",
        "함수의 모양이 S자 형태를 띠기 때문에 이름 그대로 **시그모이드 함수**라고 하기도 하죠.  \n",
        "<img src=\"https://user-images.githubusercontent.com/54702627/84594216-b47d0200-ae8b-11ea-802b-bf43ebf7db3f.png\" width=\"450px\" height=\"300px\" title=\"머신러닝_분류_문제[1]10\" alt=\"RubberDuck\"></img><br/>\n",
        "여기서 이 <u>Z는 가중치와 데이터 변수의 선형 조합으로 이뤄진 최종 입렵</u>입니다.  \n",
        "즉, Z는 웨이트 벡터 내적 X벡터이며 이러한 형태죠.  \n",
        "이걸 조금 더 풀면 이러한 형태죠.  \n",
        "\n",
        "그리고 이 시그모이드 함수의 모양을 파이썬으로 구현해보면,  \n",
        "<img src=\"https://user-images.githubusercontent.com/54702627/84594243-f443e980-ae8b-11ea-90ea-711c9b9b2341.png\" width=\"450px\" height=\"300px\" title=\"머신러닝_분류_문제[1]11\" alt=\"RubberDuck\"></img><br/>\n",
        "함수식 그대로 가져오고 여기 이 부분만 넘파이의 지수함수를 사용해주시면 됩니다.  \n",
        "\n",
        "그리고 Z값은 넘파이의 arrange() 함수를 사용해서 대략  \n",
        "<img src=\"https://user-images.githubusercontent.com/54702627/84594339-79c79980-ae8c-11ea-8255-886cd4a32db4.png\" width=\"450px\" height=\"300px\" title=\"머신러닝_분류_문제[1]12\" alt=\"RubberDuck\"></img><br/>\n",
        "-7에서 7까지만 설정하고 간격은 촘촘하게,  \n",
        "그리고 이후 코드는 시각화 코드니 크게 신경 쓰실 필요는 없습니다.  \n",
        "\n",
        "자 그럼 코드를 실행하면 이렇게 부드러운 S자 형태의 곡선이 그려지죠.  \n",
        "<img src=\"https://user-images.githubusercontent.com/54702627/84594381-d62ab900-ae8c-11ea-9251-f16b4d4c945c.png\" width=\"450px\" height=\"300px\" title=\"머신러닝_분류_문제[1]13\" alt=\"RubberDuck\"></img><br/>\n",
        "우린 지금 z의 범위를 -7에서 7까지의 범위를 선정했지만  \n",
        "만약 z가 무한대로 커지게 되면 지수함수의 값이 무척 작아지기 때문에  \n",
        "결국 이 시그모이드 함수는 1에 수렴하게 됩니다.  \n",
        "\n",
        "반대로 z의 값이 무한대로 작아지게 되면, 지수함수의 값이 무척 커지게 되고  \n",
        "<img src=\"https://user-images.githubusercontent.com/54702627/84594438-2a359d80-ae8d-11ea-8fae-cb1cdb6fe338.png\" width=\"450px\" height=\"300px\" title=\"머신러닝_분류_문제[1]14\" alt=\"RubberDuck\"></img><br/>\n",
        "결국 분모자체가 커지기 때문에 0에 수렴하게 되는 것이죠.  \n",
        "\n",
        "결국 어떠한 입력값이 들어와도 0~1사이의 값을 반환하게 되는 것이며,  \n",
        "<img src=\"https://user-images.githubusercontent.com/54702627/84594468-623ce080-ae8d-11ea-8655-1084233f2f00.png\" width=\"450px\" height=\"300px\" title=\"머신러닝_분류_문제[1]15\" alt=\"RubberDuck\"></img><br/>\n",
        "이를 확률처럼 다룰수 있게 되는 것입니다.  \n",
        "그리고 함수의 중간값은 0.5가 되는 것이구요.  \n",
        "자 그럼 이 시그모이드 함수가 확률처럼 다뤄진다고 했는데  "
      ]
    },
    {
      "cell_type": "markdown",
      "metadata": {
        "id": "ZpFBRS3G_tLS",
        "colab_type": "text"
      },
      "source": [
        "이제부터 미지의 데이터 x가 가로로 긴 모양일때의 확률을f(x)라고 정하고 식을 나타내 보겠습니다.  \n",
        "<img src=\"https://user-images.githubusercontent.com/54702627/84594564-25251e00-ae8e-11ea-882f-e1f15d33cd0f.png\" width=\"450px\" height=\"300px\" title=\"머신러닝_분류_문제[1]16\" alt=\"RubberDuck\"></img><br/>\n",
        "여기 이 식은 조건부 확률을 나타내는 부분인데, 쉽게 말씀드리면  \n",
        "x라는 데이터가 주어졌을때 y는 1, 즉 가로로 긴 모양이 될 확률이라는 의미 입니다.\n",
        "\n",
        "예를 들어 이 f(x)함수를 계산한 결과로 0.7이 나왔다면 이건 무엇을 의미할까요?  \n",
        "<img src=\"https://user-images.githubusercontent.com/54702627/84594629-9795fe00-ae8e-11ea-805e-41f3e56c0e56.png\" width=\"450px\" height=\"300px\" title=\"머신러닝_분류_문제[1]17\" alt=\"RubberDuck\"></img><br/>\n",
        "이는 가로로 길 확률이 70%라는 말이 되고, 일반적으로 생각을해보면  \n",
        "이 미지의 x라는 데이터는, 가로로 긴 것으로 분류가 된다는 의미가 됩니다.  \n",
        "\n",
        "그럼 이번에는 f(x)의 결과가 0.2라고 나왔다면?  \n",
        "<img src=\"https://user-images.githubusercontent.com/54702627/84594655-cdd37d80-ae8e-11ea-9443-8df65e458815.png\" width=\"450px\" height=\"300px\" title=\"머신러닝_분류_문제[1]18\" alt=\"RubberDuck\"></img><br/>\n",
        "이 역시 가로로 길 확률은 20%이니, 반대로 세로로 길 확률은 80%  \n",
        "즉, 세로로 긴 것이라 분류된 것이죠.  \n",
        "\n",
        "근데 여기서 한번 생각해 봅시다.  \n",
        "우리가 이렇게 나눈 기준을 떠올려보면 분명 무엇을 의식한건 아니지만  \n",
        "0.5라는 경계값을 기준으로 분류하여 가로로 긴것인지, 새로로 긴것인지 분류했죠.  \n",
        "<img src=\"https://user-images.githubusercontent.com/54702627/84594742-53572d80-ae8f-11ea-97c7-0a05e3319492.png\" width=\"450px\" height=\"300px\" title=\"머신러닝_분류_문제[1]19\" alt=\"RubberDuck\"></img><br/>\n",
        "그럼 우린 이걸 식으로 표현할 수가 있겠네요.  \n",
        "\n",
        "자 근데 여기서 w벡터와 x벡터의 전치행렬 값이 0일때를 살펴보면  \n",
        "<img src=\"https://user-images.githubusercontent.com/54702627/84594840-bea0ff80-ae8f-11ea-82cb-543b6cfbce31.png\" width=\"450px\" height=\"300px\" title=\"머신러닝_분류_문제[1]20\" alt=\"RubberDuck\"></img><br/>\n",
        "시그모이드 함수값은 0.5가 됩니다.\n",
        "그리고 그래프를 봤을 때, f(x)가 0.5보다 크거나 같다는 건  \n",
        "다시 말해 z가 0보다 크거나 같다는 말이 됩니다.   \n",
        "\n",
        "반대로 f(x)가 0.5보다 작다는 건, z가 0보다 작다는 말이 되죠.  \n",
        "<img src=\"https://user-images.githubusercontent.com/54702627/84594875-e42e0900-ae8f-11ea-8855-5fcf77b15de1.png\" width=\"450px\" height=\"300px\" title=\"머신러닝_분류_문제[1]21\" alt=\"RubberDuck\"></img><br/>\n",
        "\n",
        "그럼 이 식을 이렇게 다시 재정의 할 수 있습니다.  \n",
        "<img src=\"https://user-images.githubusercontent.com/54702627/84594894-032c9b00-ae90-11ea-887b-c3428221b056.png\" width=\"450px\" height=\"300px\" title=\"머신러닝_분류_문제[1]22\" alt=\"RubberDuck\"></img><br/>\n",
        "\n",
        "그리고 이 매개변수를 구하기 위해 이전처럼 무작위 값을 할당하게 되면,  \n",
        "<img src=\"https://user-images.githubusercontent.com/54702627/84594991-83eb9700-ae90-11ea-8def-a8596a5d3855.png\" width=\"450px\" height=\"300px\" title=\"머신러닝_분류_문제[1]23\" alt=\"RubberDuck\"></img><br/>\n",
        "웨이트 벡터는 대략 -100,2,1 그리고 입력값 벡터는 고정 입력값 넣어주고, 이후 입력값 설정.  \n",
        "그리고 이를 알아보기 쉽게 변형한 다음 계산을 해보면 이러한 부등식을 얻어낼 수 있죠.  \n",
        "\n",
        "그리고 이 부등식에서 x2가 다른 변의 값보다 같거나 크기 때문에  \n",
        "<img src=\"https://user-images.githubusercontent.com/54702627/84595052-df1d8980-ae90-11ea-8a42-bfb6e7515079.png\" width=\"450px\" height=\"300px\" title=\"머신러닝_분류_문제[1]24\" alt=\"RubberDuck\"></img><br/>\n",
        "아래가 아닌 위쪽에 해당되며 이는 곧 가로로 긴 것으로 분류되는 것이죠.  \n",
        "\n",
        "그럼 반대로 세로로 긴 것으로 분류되는 영역은 반대 방향이라 할 수 있겠지요.  \n",
        "<img src=\"https://user-images.githubusercontent.com/54702627/84595078-ff4d4880-ae90-11ea-8eba-43056c8fb285.png\" width=\"450px\" height=\"300px\" title=\"머신러닝_분류_문제[1]25\" alt=\"RubberDuck\"></img><br/>\n",
        "\n"
      ]
    },
    {
      "cell_type": "markdown",
      "metadata": {
        "id": "ZnzUp51QGKJf",
        "colab_type": "text"
      },
      "source": [
        "그리고 이와 같은 직선은 우리가 예시로 불러온 데이터처럼  \n",
        "<img src=\"https://user-images.githubusercontent.com/54702627/84595236-ac27c580-ae91-11ea-8943-18e70e9d7f18.png\" width=\"450px\" height=\"300px\" title=\"머신러닝_분류_문제[1]26\" alt=\"RubberDuck\"></img><br/>\n",
        "두가지중 하나로 구분될때 유용하게 사용될 수 있으며,  \n",
        "이러한 직선을 **결정경계**라고 합니다.  \n",
        "\n",
        "근데, 다시 자세히 보니 우리가 구한 결정경계는 상당히 잘못되 보이지 않으신가요?  \n",
        "<img src=\"https://user-images.githubusercontent.com/54702627/84595281-f6a94200-ae91-11ea-8d11-2ec9b9172987.png\" width=\"450px\" height=\"300px\" title=\"머신러닝_분류_문제[1]27\" alt=\"RubberDuck\"></img><br/>\n",
        "맞습니다. 앞서 매개변수를 임의로 설정했기 때문에 일어난 현상이죠.  \n",
        "\n",
        "그럼 이 다음에는 무엇을 해야하는지 대략 감이 오시죠.  \n",
        "\n",
        "<u>바로 알맞은 매개변수를 구하기 위해  \n",
        "목적함수를 정의하고, 미분하여 매개변수 갱신식을 구하시면 됩니다.</u>  \n",
        "<img src=\"https://user-images.githubusercontent.com/54702627/84595343-5e5f8d00-ae92-11ea-8a84-d2326e535d7e.png\" width=\"450px\" height=\"300px\" title=\"머신러닝_분류_문제[1]28\" alt=\"RubberDuck\"></img><br/>\n",
        "\n",
        "이쯤 되니까, 이렇게 하나의 직선으로 해결되지 않는 경우가 자꾸 눈앞을 아른거립니다.  \n",
        "<img src=\"https://user-images.githubusercontent.com/54702627/84595428-cca44f80-ae92-11ea-86e4-7b3f24761555.png\" width=\"450px\" height=\"300px\" title=\"머신러닝_분류_문제[1]29\" alt=\"RubberDuck\"></img><br/>\n",
        "이러한 경우 하나의 직선 보단 곡선을 사용하게 되면 조금 더 분류가 쉬워지지 않을까요?  \n"
      ]
    },
    {
      "cell_type": "markdown",
      "metadata": {
        "id": "oD_cAiGZIbiB",
        "colab_type": "text"
      },
      "source": [
        "\n",
        "이럴때 간단하게 다항식 회귀에서 살펴본것 처럼 차수를 늘려주시면  \n",
        "<img src=\"https://user-images.githubusercontent.com/54702627/84595494-29a00580-ae93-11ea-984b-062ead0764af.png\" width=\"450px\" height=\"300px\" title=\"머신러닝_분류_문제[1]30\" alt=\"RubberDuck\"></img><br/>\n",
        "이렇게 곡선형태로 결정경계가 구축되고, 다시 알맞은 매개변수를 구하기 위해  \n",
        "일련의 과정을 거쳐 주시면 됩니다.  \n",
        "\n",
        "그리고 이러한 알고리즘이 바로 로지스틱 회기였습니다.\n"
      ]
    },
    {
      "cell_type": "markdown",
      "metadata": {
        "id": "XpKqUJHUJKEH",
        "colab_type": "text"
      },
      "source": [
        "이 밖에도 유명한 알고리즘이 있었으니  \n",
        "그 이름도 유명한 **서포트 벡터 머신 SVM(Support Vector Machine)** 입니다.  \n",
        "<img src=\"https://user-images.githubusercontent.com/54702627/84595580-8996ac00-ae93-11ea-8028-76a5652c0c87.png\" width=\"450px\" height=\"300px\" title=\"머신러닝_분류_문제[1]31\" alt=\"RubberDuck\"></img><br/>\n",
        "서포트 벡터 머신은 아주 강력하고 널리 사용되는 학습 알고리즘 입니다.  \n",
        "\n",
        "이 SVM의 목적은 마진을 초대화 하는 것이죠.  \n",
        "우선 이 알고리즘은 레이블을 구분하기 위한 초평면 즉 결정 경계를 그려봅니다.  \n",
        "<img src=\"https://user-images.githubusercontent.com/54702627/84595702-4c7ee980-ae94-11ea-90f5-9b188c02767c.png\" width=\"450px\" height=\"300px\" title=\"머신러닝_분류_문제[1]32\" alt=\"RubberDuck\"></img><br/>\n",
        "그 다음, 이 초평면은 마진이란 것을 구하는데  \n",
        "<u>**마진**은 초평면과 가장 가까운 훈련 데이터들 사이의 거리로 정의하죠.</u>  \n",
        "그리고 이러한 데이터들을 우린 서포트 벡터라고 부릅니다.  \n",
        "\n",
        "그럼 굳이 이렇게 큰 마진의 결정 경계를 원하는 이유가 무엇일까요?\n",
        "단순히 분류에만 목적이 있다면 앞서 살펴본 로지스틱 회귀만으로도 충분할 텐데 말이죠.  \n",
        "\n",
        "그 이유는 이후 일반화를 진행했을 때 오차가 낮아지는 경향이 있다는 것이 밝혀졌기 때문이었습니다.  \n",
        "<img src=\"https://user-images.githubusercontent.com/54702627/84595760-ada6bd00-ae94-11ea-9be5-d27671130a08.png\" width=\"450px\" height=\"300px\" title=\"머신러닝_분류_문제[1]33\" alt=\"RubberDuck\"></img><br/>\n"
      ]
    },
    {
      "cell_type": "markdown",
      "metadata": {
        "id": "VA-ZKY_7ON6M",
        "colab_type": "text"
      },
      "source": [
        "\n",
        "더 자세한 내용은 1998년 공개된 논문 \n",
        "A Tutorial on Support Vector Machines for Pattern Recognition\n",
        "<img src=\"https://user-images.githubusercontent.com/54702627/84595829-1c841600-ae95-11ea-8001-2bfb09b8d6a0.png\" width=\"450px\" height=\"300px\" title=\"머신러닝_분류_문제[1]34\" alt=\"RubberDuck\"></img><br/>\n",
        "이 논문은 워낙 유명한 논문이다 보니깐  \n",
        "잘 정리된 글들이 많다는 것\n",
        "\n",
        "또 이 서포트 벡터 머신이 강력한 이유 중 하나는  \n",
        "<img src=\"https://user-images.githubusercontent.com/54702627/84595877-56edb300-ae95-11ea-9277-ba63bbfaaebe.png\" width=\"450px\" height=\"300px\" title=\"머신러닝_분류_문제[1]35\" alt=\"RubberDuck\"></img><br/>\n",
        "선형분리 불가능 문제에서도 강력한 힘을 발휘한다는 점입니다.  \n",
        "\n",
        "이러한 데이터가 존재하고 이 데이터는 분명 선형으로는 분류할 수 없죠.  \n",
        "<img src=\"https://user-images.githubusercontent.com/54702627/84595905-843a6100-ae95-11ea-9fc9-39b5e477e95a.png\" width=\"450px\" height=\"300px\" title=\"머신러닝_분류_문제[1]36\" alt=\"RubberDuck\"></img><br/>\n",
        "\n",
        "하지만 이를 2차원이 아닌 3차원 공간으로 생각한다면, 이야기는 달라집니다.  \n",
        "<img src=\"https://user-images.githubusercontent.com/54702627/84595964-e1cead80-ae95-11ea-883d-c7f280c42824.png\" width=\"450px\" height=\"300px\" title=\"머신러닝_분류_문제[1]37\" alt=\"RubberDuck\"></img><br/>\n",
        "2차원에서만 존재했던 데이터들이 3차원 공간으로 옮겨져 오면서  \n",
        "모델은 이 데이터들을 분류하기 위한 **분리 가능 공간**을 생성하게 되죠.  \n",
        "\n",
        "그리고 이를 다시 2차원 공간으로 옮겨오게 되면 이렇게 비선형 결정 경계로 바뀌게 되는 겁니다.  \n",
        "<img src=\"https://user-images.githubusercontent.com/54702627/84596012-22c6c200-ae96-11ea-965c-7ca7535d0497.png\" width=\"450px\" height=\"300px\" title=\"머신러닝_분류_문제[1]38\" alt=\"RubberDuck\"></img><br/>\n"
      ]
    },
    {
      "cell_type": "markdown",
      "metadata": {
        "id": "C0LWfzJIPamz",
        "colab_type": "text"
      },
      "source": [
        "\n",
        "음 그럼 이 SVM은 오로지 장점만 존재하는 완벽한 모델인 걸까요?  \n",
        "<img src=\"https://user-images.githubusercontent.com/54702627/84596135-ec3d7700-ae96-11ea-8819-c1beb3491507.png\" width=\"450px\" height=\"300px\" title=\"머신러닝_분류_문제[1]39\" alt=\"RubberDuck\"></img><br/>\n",
        "세상에 완벽한 것은 존재하지 않듯 이 서포트 벡터 머신 또한  \n",
        "약간의 흠이 존재합니다. 바로 **계산비용**이죠.  \n",
        "방금 살펴본 것처럼, 2차원 공간에 분포한 데이터를 3차원 공간으로  \n",
        "매핑하다 보니 새로운 특성을 만들어야 하고 이러한 과정 속에서  \n",
        "상당한 컴퓨팅파워가 필요하게 되는 것입니다.  \n",
        "<br>\n",
        "그래서 이러한 높은 비용을 조금이나마 절감하고자 소위 **커널 기법**이 등장하게 되며,  \n",
        "이후 다수의 연구자들은 이 강력한 머신러닝 모델로 상당한 성과를 이뤄내기 시작합니다.  \n",
        "이러한 머신러닝은 대체로 설명이 가능하며  \n",
        "실제로 높은 정확도를 이끌어내는 경우가 많습니다.  \n",
        "\n",
        "어쩌면 이러한 머신러닝 알고리즘들이\n",
        "케글과도 같은 실전 데이터를 접할 수 있는 곳에서  \n",
        "여러분을 빛나게 해줄 또 하나의 열쇠가 되지 않을까 합니다.  \n",
        "\n",
        "그럼 오늘의 영상은 마무리..\n",
        "\n",
        "\n"
      ]
    },
    {
      "cell_type": "code",
      "metadata": {
        "id": "EZtODsXBNSbL",
        "colab_type": "code",
        "colab": {}
      },
      "source": [
        ""
      ],
      "execution_count": 0,
      "outputs": []
    }
  ]
}