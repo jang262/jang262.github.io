{
  "nbformat": 4,
  "nbformat_minor": 0,
  "metadata": {
    "colab": {
      "name": "인공지능 개론.ipynb",
      "provenance": [],
      "collapsed_sections": [],
      "authorship_tag": "ABX9TyOWUleJV0PZy65lwRDgLqmA",
      "include_colab_link": true
    },
    "kernelspec": {
      "name": "python3",
      "display_name": "Python 3"
    }
  },
  "cells": [
    {
      "cell_type": "markdown",
      "metadata": {
        "id": "view-in-github",
        "colab_type": "text"
      },
      "source": [
        "<a href=\"https://colab.research.google.com/github/jang262/jang262.github.io/blob/master/%EC%9D%B8%EA%B3%B5%EC%A7%80%EB%8A%A5_%EA%B0%9C%EB%A1%A0.ipynb\" target=\"_parent\"><img src=\"https://colab.research.google.com/assets/colab-badge.svg\" alt=\"Open In Colab\"/></a>"
      ]
    },
    {
      "cell_type": "markdown",
      "metadata": {
        "id": "-yXmsR2OuvJN",
        "colab_type": "text"
      },
      "source": [
        "#인공지능이란??\n",
        "\n",
        "조지 불 : 확률론    \n",
        "제프리힌턴 : 역전파이론\n",
        "\n",
        "컴퓨터가 생각을 할 수 있을까?\n",
        "\n",
        "인간이 일반적으로 수행하는 지적 작업을 자동화 하려는 노력\n",
        "\n",
        "**기호주의인공지능**    \n",
        "하드코딩은 인공지능이 아니다\n",
        "\n",
        "이미지분류    \n",
        "음성인식    \n",
        "번역\n",
        "\n",
        "TPU : 머신러닝 전용 하드웨어    \n",
        "-> 선형대수연산을 가속화시킴\n",
        "\n",
        "###번역 \n",
        "과거 변역 방식 : 문장이 함께 번역될 수 있는 단어의 조합을 찾음    \n",
        "\n",
        "현재의 번역 방식 : 전체 문장들 사이의 상관성을 찾아 결과를 출력    \n",
        "\n",
        "블라디미드 나보코프 : \"시를 다른 언어로 번역하는건 불가능합니다.\"라고 함    \n",
        "\n",
        "언젠가 인공지능은 세익스피어가 남긴 모든 시구를 통합해 그의 작품 각각에 대한 적절한 번역을 내놓을 수 있을지도 모른다.\n",
        "\n",
        "###음성인식\n",
        "2016년 Microsoft는 120개의 계층으로 이뤄진 딥러닝 네트워크를 통해 맣하는 사람이 다수인 상황속에서도 인간 수준의 수행력을 성취했다고 이야기 함.\n",
        "\n",
        "\n",
        "\n"
      ]
    },
    {
      "cell_type": "markdown",
      "metadata": {
        "id": "D4hGYYZm1d1H",
        "colab_type": "text"
      },
      "source": [
        "#1주차 과제\n",
        "\n",
        "인공지능은 현재 많은 제품과 서비스에 적용되어 있습니다. 특히 언어, 음성, 이미지, 자율주행의 분야에서 자주 찾아볼 수 있는데요.    \n",
        "시중에 나와있는 다양한 제품들과 서비스 속 적용된 인공지능 기술들에 대해서 분석해 보고 여러분의 흥미를 끄는 기술들은 무엇이 있는지 찾아 보며 여러분 나름의 학습 목표를 세워보시기 바랍니다.    \n",
        "\n",
        "앞서 제시해 드린 4가지 분야의 기술을 사용하는 4가지 제품 및 서비스를 찾아 깃헙 마크다운으로 작성하여 url을 제출해주세요.\n"
      ]
    },
    {
      "cell_type": "markdown",
      "metadata": {
        "id": "1OT3ynRD1cW3",
        "colab_type": "text"
      },
      "source": [
        "#언어/음성/이미지/자율주행 기술을 사용하는 제품 및 서비스\n",
        "\n",
        "## 언어\n",
        "###120다산콜재단 챗봇 서비스 '서울톡'\n",
        "* 서울시에서 운영하는 120다산콜재단의 인공지능 기반의 대화형  메신저 서비스\n",
        "* 채팅창 하단에 자유롭게 질문을 입력하시거나 채팅창에서 제공되는 메뉴를 선택하시면 관련 정보를 안내받을 수 있다.    \n",
        "[120다산콜재단](https://www.120dasan.or.kr/dsnc/main/contents.do?menuNo=200019)\n",
        "\n",
        "<br>  \n",
        "## 음성\n",
        "###네이버 Clova Voice\n",
        "* 딥보이스(deep voice)를 활용한 TTS(음성합성) 기술로 자연스러운 고품질의 목소리를 구현하고, 텍스트 정보를 읽어주는 기술.   \n",
        "* CLOVA는 음성 합성 기술 연구를 통해 사람처럼 자연스럽고 명료한 합성 음성을 제공.  \n",
        "[딥보이스](http://melonicedlatte.com/machinelearning/2018/07/02/215933.html)\n",
        "\n",
        "<br>  \n",
        "## 이미지\n",
        "###착한 딥페이크 AI Fake Finder(AI 영상 조작 검출 기술)\n",
        "* 딥페이크(deepfake) 란?    \n",
        "인공지능 기술을 활용해 기존에 있던 인물의 얼굴이나, 특정한 부위를 영화의 CG처리처럼 합성한 영상편집물을 말한다  \n",
        "* AI 기업 '머니브레인'은 인공지능 관련 기술력과 인력을 바탕으로 딥페이크 검출 기술 연구에 몰두하고 있다.<br>\n",
        "머니브레인은 영상의 진위 여부를 판단하는 능력을 갖춘 딥러닝 모델 ‘AI Fake Finder(AI 영상 조작 검출 기술)’를 만드는데 주력하고 있다.<br>\n",
        "다양한 베이스 모델을 통해 진짜와 가짜를 스스로 판별할 수 있도록 지속적으로 반복 학습 시키는 연구를 진행 중이다  \n",
        "[딥페이크 조작 가려낸다](https://www.asiae.co.kr/article/2020050415570798480)\n",
        "\n",
        "<br>  \n",
        "## 자율주행\n",
        "###'자율주행 모빌리티 서비스 시범 사업' 시동  \n",
        "* 현재 우리나라는 레벨4 수준인 것으로 보임\n",
        "<img src=\"https://d3jn14jkdoqvmm.cloudfront.net/wp/wp-content/uploads/2020/04/16153806/sae-j3016-levels-of-driving-automationevpost-%EC%9E%90%EC%9C%A8%EC%A3%BC%ED%96%89-%EA%B8%B0%EC%88%A0-%EB%8B%A8%EA%B3%84%EB%B3%84-%EB%B6%84%EB%A5%98.png\" width=\"450px\" height=\"300px\" title=\"px(픽셀) 크기 설정\" alt=\"RubberDuck\"></img><br/>\n",
        "\n",
        "[자율주행 모빌리티 서비스 시범 사업](http://www.irobotnews.com/news/articleView.html?idxno=20547)"
      ]
    },
    {
      "cell_type": "code",
      "metadata": {
        "id": "bgYhrmfASR0n",
        "colab_type": "code",
        "colab": {}
      },
      "source": [
        ""
      ],
      "execution_count": 0,
      "outputs": []
    }
  ]
}