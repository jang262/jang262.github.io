{
  "nbformat": 4,
  "nbformat_minor": 0,
  "metadata": {
    "colab": {
      "name": "2주차2강_기초_파이썬[2].ipynb",
      "provenance": [],
      "collapsed_sections": [],
      "authorship_tag": "ABX9TyNbb/3t8gXsHMR8NEbY9lM9",
      "include_colab_link": true
    },
    "kernelspec": {
      "name": "python3",
      "display_name": "Python 3"
    }
  },
  "cells": [
    {
      "cell_type": "markdown",
      "metadata": {
        "id": "view-in-github",
        "colab_type": "text"
      },
      "source": [
        "<a href=\"https://colab.research.google.com/github/jang262/jang262.github.io/blob/master/2%EC%A3%BC%EC%B0%A82%EA%B0%95_%EA%B8%B0%EC%B4%88_%ED%8C%8C%EC%9D%B4%EC%8D%AC%5B2%5D.ipynb\" target=\"_parent\"><img src=\"https://colab.research.google.com/assets/colab-badge.svg\" alt=\"Open In Colab\"/></a>"
      ]
    },
    {
      "cell_type": "markdown",
      "metadata": {
        "id": "-yXmsR2OuvJN",
        "colab_type": "text"
      },
      "source": [
        "#기초 파이썬[2]  \n",
        "<br>\n",
        "\n",
        "###사칙연산  \n",
        "\n",
        "파이썬이란 언어를 사용한다면 우리가 알고있는 수학기호를 사용하여 숫자타입의 사칙연산을 실행할 수 가 있다.  \n",
        "+, -, `*`(곱셈), `**`(제곱), /(나누기), //(나눈 몫), %(나눈 나머지 값)"
      ]
    },
    {
      "cell_type": "markdown",
      "metadata": {
        "id": "cr0FCD6q-fJY",
        "colab_type": "text"
      },
      "source": [
        "예를 들어 여기다가 2+3을 작성하고, shift + Enter를 하게 되면  \n",
        "코드가 즉시 실행되며 자동으로 다음 코드를 작성할 수 있게 된다."
      ]
    },
    {
      "cell_type": "code",
      "metadata": {
        "id": "bgYhrmfASR0n",
        "colab_type": "code",
        "outputId": "233ee981-226d-4ddd-9099-a9c4f944c400",
        "colab": {
          "base_uri": "https://localhost:8080/",
          "height": 34
        }
      },
      "source": [
        "2 + 3"
      ],
      "execution_count": 0,
      "outputs": [
        {
          "output_type": "execute_result",
          "data": {
            "text/plain": [
              "5"
            ]
          },
          "metadata": {
            "tags": []
          },
          "execution_count": 4
        }
      ]
    },
    {
      "cell_type": "markdown",
      "metadata": {
        "id": "IpP6BPZ6-Yjy",
        "colab_type": "text"
      },
      "source": [
        "다음 곱셈 연산자는`*`(별표)를 사용한다.  \n",
        "이때 3`*`4를 입력하고 Ctrl + Enter을 누르게 되면, 다음 코드란 생성 없이 이 코드만 실행되게 된다."
      ]
    },
    {
      "cell_type": "code",
      "metadata": {
        "id": "tIHy-qNz-NjK",
        "colab_type": "code",
        "outputId": "30d65d44-15b1-4386-97b3-838200b0633a",
        "colab": {
          "base_uri": "https://localhost:8080/",
          "height": 34
        }
      },
      "source": [
        "3 * 4"
      ],
      "execution_count": 0,
      "outputs": [
        {
          "output_type": "execute_result",
          "data": {
            "text/plain": [
              "12"
            ]
          },
          "metadata": {
            "tags": []
          },
          "execution_count": 5
        }
      ]
    },
    {
      "cell_type": "markdown",
      "metadata": {
        "id": "QLvEXhXIAzvC",
        "colab_type": "text"
      },
      "source": [
        "제곱 또한 비슷한 방법으로 별표 두개를 넣어주면 된다."
      ]
    },
    {
      "cell_type": "code",
      "metadata": {
        "id": "BnN0IigB-QiP",
        "colab_type": "code",
        "outputId": "fde265bf-259e-4a8f-eb87-0b8c90b6a089",
        "colab": {
          "base_uri": "https://localhost:8080/",
          "height": 34
        }
      },
      "source": [
        "2**3"
      ],
      "execution_count": 0,
      "outputs": [
        {
          "output_type": "execute_result",
          "data": {
            "text/plain": [
              "8"
            ]
          },
          "metadata": {
            "tags": []
          },
          "execution_count": 6
        }
      ]
    },
    {
      "cell_type": "markdown",
      "metadata": {
        "id": "jNXQ3fSKBE8j",
        "colab_type": "text"
      },
      "source": [
        "다음 나눗셈 연산자는 /와 // 이렇게 두가지가 존재한다."
      ]
    },
    {
      "cell_type": "markdown",
      "metadata": {
        "id": "cDd4lV_oBT5U",
        "colab_type": "text"
      },
      "source": [
        "차이점은 /는 일반적인 나눗셈으로 소수점까지 반환되지만,  \n",
        "//는 나눗셈의 몫을 정수로 반환한다.  \n",
        "%는 나눗셈의 나머지를 출력한다."
      ]
    },
    {
      "cell_type": "code",
      "metadata": {
        "id": "31DmVT8WA7pg",
        "colab_type": "code",
        "outputId": "9c88acd5-bd98-41ed-d30b-4e40fbdbe617",
        "colab": {
          "base_uri": "https://localhost:8080/",
          "height": 34
        }
      },
      "source": [
        "13/2"
      ],
      "execution_count": 0,
      "outputs": [
        {
          "output_type": "execute_result",
          "data": {
            "text/plain": [
              "6.5"
            ]
          },
          "metadata": {
            "tags": []
          },
          "execution_count": 7
        }
      ]
    },
    {
      "cell_type": "code",
      "metadata": {
        "id": "X0TZANyOA-O3",
        "colab_type": "code",
        "outputId": "d33b9602-5122-4512-95bd-43ec2cc8a813",
        "colab": {
          "base_uri": "https://localhost:8080/",
          "height": 34
        }
      },
      "source": [
        "13//2"
      ],
      "execution_count": 0,
      "outputs": [
        {
          "output_type": "execute_result",
          "data": {
            "text/plain": [
              "6"
            ]
          },
          "metadata": {
            "tags": []
          },
          "execution_count": 8
        }
      ]
    },
    {
      "cell_type": "code",
      "metadata": {
        "id": "8UYqm9IKA-RW",
        "colab_type": "code",
        "outputId": "678d2f08-02ab-4643-8478-f3d70455c490",
        "colab": {
          "base_uri": "https://localhost:8080/",
          "height": 34
        }
      },
      "source": [
        "13%2"
      ],
      "execution_count": 0,
      "outputs": [
        {
          "output_type": "execute_result",
          "data": {
            "text/plain": [
              "1"
            ]
          },
          "metadata": {
            "tags": []
          },
          "execution_count": 9
        }
      ]
    },
    {
      "cell_type": "markdown",
      "metadata": {
        "id": "gUr80ziQB7OM",
        "colab_type": "text"
      },
      "source": [
        "###복소수(complex number, 허수)  \n",
        "\n",
        "다음으로 파이썬에는 복소수를 표현하는 방법이 있다.  \n",
        "수학에서는 보통 3+4i처럼 허수를 i로 표현하는데,  \n",
        "파이썬에서는 j라는 값을 사용하여 표현한다.  \n"
      ]
    },
    {
      "cell_type": "code",
      "metadata": {
        "id": "U1u7CBZYA-T_",
        "colab_type": "code",
        "outputId": "afc5940a-c240-432d-fb3b-1bbb604a3834",
        "colab": {
          "base_uri": "https://localhost:8080/",
          "height": 34
        }
      },
      "source": [
        "1.2 + 3.4j + 2.3 + 4.5j"
      ],
      "execution_count": 0,
      "outputs": [
        {
          "output_type": "execute_result",
          "data": {
            "text/plain": [
              "(3.5+7.9j)"
            ]
          },
          "metadata": {
            "tags": []
          },
          "execution_count": 10
        }
      ]
    },
    {
      "cell_type": "markdown",
      "metadata": {
        "id": "A_Tuya9FDVok",
        "colab_type": "text"
      },
      "source": [
        "###데이터 타입(data type)  \n",
        "\n",
        "또한 파이썬에는 데이터를 합리적으로 처리하기 위한,  \n",
        "주요 데이터 타입 개념이 존재한다.  \n",
        "자주 사용되는 4가지를 먼저 살펴보면,  \n",
        "<br>\n",
        "첫번째, 정수는 integer의 약자인 int,  \n",
        "두번째, 소수는 float,  \n",
        "세번째, 복소수 complex,  \n",
        "네번째, 문자열 string의 약자인 str  \n",
        "\n",
        "이렇게 각각의 데이터마다 타입이 존재하며,  \n",
        "type()이란 함수를 사용하면 각 데이터의 타입을 확인할 수 있다."
      ]
    },
    {
      "cell_type": "code",
      "metadata": {
        "id": "0YaV6jhhBrv6",
        "colab_type": "code",
        "outputId": "e73ce496-d50d-4465-b2cf-c5e30400c576",
        "colab": {
          "base_uri": "https://localhost:8080/",
          "height": 34
        }
      },
      "source": [
        "type(3)"
      ],
      "execution_count": 0,
      "outputs": [
        {
          "output_type": "execute_result",
          "data": {
            "text/plain": [
              "int"
            ]
          },
          "metadata": {
            "tags": []
          },
          "execution_count": 14
        }
      ]
    },
    {
      "cell_type": "code",
      "metadata": {
        "id": "9El5ES4TBryM",
        "colab_type": "code",
        "outputId": "f07715ce-8d69-4bde-b905-8da42054f377",
        "colab": {
          "base_uri": "https://localhost:8080/",
          "height": 34
        }
      },
      "source": [
        "type(3.5)"
      ],
      "execution_count": 0,
      "outputs": [
        {
          "output_type": "execute_result",
          "data": {
            "text/plain": [
              "float"
            ]
          },
          "metadata": {
            "tags": []
          },
          "execution_count": 15
        }
      ]
    },
    {
      "cell_type": "code",
      "metadata": {
        "id": "tVkoUySiBr07",
        "colab_type": "code",
        "outputId": "e2921088-44dc-4296-d6d3-dbdea66dff28",
        "colab": {
          "base_uri": "https://localhost:8080/",
          "height": 34
        }
      },
      "source": [
        "type(2 + 3j)"
      ],
      "execution_count": 0,
      "outputs": [
        {
          "output_type": "execute_result",
          "data": {
            "text/plain": [
              "complex"
            ]
          },
          "metadata": {
            "tags": []
          },
          "execution_count": 16
        }
      ]
    },
    {
      "cell_type": "code",
      "metadata": {
        "id": "H8AHK5ZLBr3t",
        "colab_type": "code",
        "outputId": "b90a683e-655a-471a-f501-31cd20b8b9ec",
        "colab": {
          "base_uri": "https://localhost:8080/",
          "height": 34
        }
      },
      "source": [
        "type('abc')"
      ],
      "execution_count": 0,
      "outputs": [
        {
          "output_type": "execute_result",
          "data": {
            "text/plain": [
              "str"
            ]
          },
          "metadata": {
            "tags": []
          },
          "execution_count": 18
        }
      ]
    },
    {
      "cell_type": "markdown",
      "metadata": {
        "id": "32y9HlzvFayb",
        "colab_type": "text"
      },
      "source": [
        "###변수  \n",
        "\n",
        "이러한 연산들을 단순 연산에만 그치지 않고,  \n",
        "저장하며, 저장된 값들을 통해 다양하게 활용할 수 있어야 한다.  \n",
        "\n",
        "이러한 변수들을 저장하기 위해 무엇인가가 필요한데,  \n",
        "등호(=) 기호를 사용하여 오른쪽에 있는 데이터들을 왼쪽 변수로 저장할 수 있다.  \n",
        "변수의 이름은 우리가 원하는 이름으로 지어줄 수 있다.  \n",
        "<br>\n",
        "\n",
        "####변수명을 정할때 주의해야 할점\n",
        "1. 변수의 첫 문자는 알파벳이나 한글 같은 문자 혹은 밑줄만 가능.\n",
        "2. if나 for 등의 예약어는 사용 불가  \n",
        "   (예약어 모음은 코드 입력란에 help('keywords')라고 입력하면 확인 가능)\n",
        "\n",
        "코드란에 `#`(샾)을 넣으면 주석으로 인식 "
      ]
    },
    {
      "cell_type": "code",
      "metadata": {
        "id": "Bbwx_VpjFCVq",
        "colab_type": "code",
        "outputId": "5d8cc58d-92d9-4255-f67c-6611906516dd",
        "colab": {
          "base_uri": "https://localhost:8080/",
          "height": 34
        }
      },
      "source": [
        "x = 10 #이것은 '주석'입니다. 주석은 코드로 인식되지 않습니다.\n",
        "print(x)"
      ],
      "execution_count": 0,
      "outputs": [
        {
          "output_type": "stream",
          "text": [
            "10\n"
          ],
          "name": "stdout"
        }
      ]
    },
    {
      "cell_type": "code",
      "metadata": {
        "id": "B9hKlLyTGP6Z",
        "colab_type": "code",
        "outputId": "23ae1ef3-cf7f-4bd7-9476-ccf7e74ce120",
        "colab": {
          "base_uri": "https://localhost:8080/",
          "height": 246
        }
      },
      "source": [
        "help('keywords')"
      ],
      "execution_count": 0,
      "outputs": [
        {
          "output_type": "stream",
          "text": [
            "\n",
            "Here is a list of the Python keywords.  Enter any keyword to get more help.\n",
            "\n",
            "False               def                 if                  raise\n",
            "None                del                 import              return\n",
            "True                elif                in                  try\n",
            "and                 else                is                  while\n",
            "as                  except              lambda              with\n",
            "assert              finally             nonlocal            yield\n",
            "break               for                 not                 \n",
            "class               from                or                  \n",
            "continue            global              pass                \n",
            "\n"
          ],
          "name": "stdout"
        }
      ]
    },
    {
      "cell_type": "markdown",
      "metadata": {
        "id": "1B083s2eH_5m",
        "colab_type": "text"
      },
      "source": [
        "###리스트(list)  \n",
        "\n",
        "리스트 : 물품이나 사람의 이름 따위를 일정한 순서로 적어 놓은 것.\n",
        "리스트는 단어 뜻 그대로 다수의 값들을 저장하고 있는 존재이며,  \n",
        "저장된 값들을 한번에 처리할 수가 있다.  \n",
        "\n",
        "리스트에 저장된 값들은 각각 '요소'라고 부른다.  \n",
        "리스트의 요소 각각에는 위치가 지정되어 있다.  \n",
        "해당 요소를 사용하기 위해서는 이러한 위치를 통해 접근해야 한다.  \n",
        "\n",
        "`a[0]`여기에서 `[]`안에 숫자를 인덱스라고 부른다.  \n",
        "파이썬에서의 첫번째는 1이 아닌 0부터 시작한다.  \n",
        "음수인 인덱스 값은 앞이 아닌 뒤에서 부터 시작한다."
      ]
    },
    {
      "cell_type": "code",
      "metadata": {
        "id": "qkBJta95GQVk",
        "colab_type": "code",
        "outputId": "85678bb5-e797-418a-f620-f198eb2b9bc8",
        "colab": {
          "base_uri": "https://localhost:8080/",
          "height": 34
        }
      },
      "source": [
        "a = [3,1,4,2,5]\n",
        "len(a)"
      ],
      "execution_count": 0,
      "outputs": [
        {
          "output_type": "execute_result",
          "data": {
            "text/plain": [
              "5"
            ]
          },
          "metadata": {
            "tags": []
          },
          "execution_count": 22
        }
      ]
    },
    {
      "cell_type": "code",
      "metadata": {
        "id": "eKqLY3gCGQXI",
        "colab_type": "code",
        "outputId": "fe47ea0c-6b30-42a2-ca0a-c48b945df388",
        "colab": {
          "base_uri": "https://localhost:8080/",
          "height": 34
        }
      },
      "source": [
        "print(a[0],a[3],a[-1])"
      ],
      "execution_count": 0,
      "outputs": [
        {
          "output_type": "stream",
          "text": [
            "3 2 5\n"
          ],
          "name": "stdout"
        }
      ]
    },
    {
      "cell_type": "markdown",
      "metadata": {
        "id": "g6x919UmJ-YW",
        "colab_type": "text"
      },
      "source": [
        "리스트의 장점\n",
        "리스트 안에 또 다시 리스트, 문자열, 소수, 정수 등  \n",
        "저장할 수 있는 데이터 타입과 깊이에 제약이 없다는 것  \n",
        "(이후 다차원데이터가 등장함에 따라 리스트의 강력함이 나타나게 된다.)"
      ]
    },
    {
      "cell_type": "code",
      "metadata": {
        "id": "qoa6B_nCGQYq",
        "colab_type": "code",
        "outputId": "e240b154-e642-4d78-8a95-6dd112d7082b",
        "colab": {
          "base_uri": "https://localhost:8080/",
          "height": 34
        }
      },
      "source": [
        "b = [1, 2.0, 3 + 4j, 'abc',[-1,1]]\n",
        "print(b)"
      ],
      "execution_count": 0,
      "outputs": [
        {
          "output_type": "stream",
          "text": [
            "[1, 2.0, (3+4j), 'abc', [-1, 1]]\n"
          ],
          "name": "stdout"
        }
      ]
    },
    {
      "cell_type": "markdown",
      "metadata": {
        "id": "U4LOEmVGSMXO",
        "colab_type": "text"
      },
      "source": [
        "콜론을 사용하여 범위를 지정하면 여러개를 한꺼번에 출력할 수 있다.  \n",
        "단, 이때 콜론 이전 지정한 요소는 포함되지만, 콜론 다음에 지정된 요소는 포함되지 않기에  \n",
        "`~이상 ~미만`이라는 식으로 알아두면 이후에 편리하게 사용할 수 있을 꺼다.  \n",
        "`a[1:3]`은 a의 요소 중 1번인덱스 이상 3번인덱스 미만이다.  \n",
        "\n",
        "콜론 이전 값이 없는 경우는  \n",
        "처음부터 콜론 이후값 전까지  \n",
        "콜론 이후 값이 없는 경우  \n",
        "콜론 이전 값 부터 끝까지 이다.\n"
      ]
    },
    {
      "cell_type": "code",
      "metadata": {
        "id": "wpVEKWysGQZ0",
        "colab_type": "code",
        "outputId": "ac8290f3-1d3c-4f7f-faf5-057f9be9daa2",
        "colab": {
          "base_uri": "https://localhost:8080/",
          "height": 34
        }
      },
      "source": [
        "print(a[1:3], a[2:], a[:3], a[:-3])"
      ],
      "execution_count": 0,
      "outputs": [
        {
          "output_type": "stream",
          "text": [
            "[1, 4] [4, 2, 5] [3, 1, 4] [3, 1]\n"
          ],
          "name": "stdout"
        }
      ]
    },
    {
      "cell_type": "markdown",
      "metadata": {
        "id": "Syi3E-6WUYcb",
        "colab_type": "text"
      },
      "source": [
        "###튜플  \n",
        "\n",
        "다음으로 튜플은 리스트와 비슷하다.  \n",
        "튜플은 대괄호가 아닌 소괄호를 사용한다.  \n",
        "데아터 타입도 튜플(tuple)이라 표기된다.  \n",
        "\n",
        "\n",
        "\n",
        "\n"
      ]
    },
    {
      "cell_type": "code",
      "metadata": {
        "id": "RFkvymyUGQd5",
        "colab_type": "code",
        "outputId": "7f5c0f23-148d-4094-c230-310f4f8cc01c",
        "colab": {
          "base_uri": "https://localhost:8080/",
          "height": 34
        }
      },
      "source": [
        "tuple_data = (1,2,3,4,5)\n",
        "print(tuple_data)"
      ],
      "execution_count": 0,
      "outputs": [
        {
          "output_type": "stream",
          "text": [
            "(1, 2, 3, 4, 5)\n"
          ],
          "name": "stdout"
        }
      ]
    },
    {
      "cell_type": "code",
      "metadata": {
        "id": "6-YbGo0eGQfc",
        "colab_type": "code",
        "outputId": "77eed459-0c54-40c9-a0ec-c180e9d272f2",
        "colab": {
          "base_uri": "https://localhost:8080/",
          "height": 34
        }
      },
      "source": [
        "type(tuple_data)"
      ],
      "execution_count": 0,
      "outputs": [
        {
          "output_type": "execute_result",
          "data": {
            "text/plain": [
              "tuple"
            ]
          },
          "metadata": {
            "tags": []
          },
          "execution_count": 27
        }
      ]
    },
    {
      "cell_type": "markdown",
      "metadata": {
        "id": "vC8IxA5KVAZE",
        "colab_type": "text"
      },
      "source": [
        "우리가 앞서 살펴본 리스트는 언제든지 수정이 가능했다.  \n",
        "하지만, 튜플은 한번 만든 요소에 대하여 추가 변경 삭제가 불가능하다.  \n",
        "즉 리스트와 튜플의 차이는 요소를 다루는 점에서 살펴볼 수 있다.  \n",
        "또한 튜플은 데이터가 바뀌지 않기에 리스트보다 처리속도가 약간 빠르다.  \n",
        "\n",
        "\n"
      ]
    },
    {
      "cell_type": "code",
      "metadata": {
        "id": "dlLi41ftGQg9",
        "colab_type": "code",
        "outputId": "389958ce-b3fa-4562-ba22-318bfe7ccd5f",
        "colab": {
          "base_uri": "https://localhost:8080/",
          "height": 34
        }
      },
      "source": [
        "a = [1,2,3,4,5]\n",
        "a[2] = 10\n",
        "print(a[2])"
      ],
      "execution_count": 0,
      "outputs": [
        {
          "output_type": "stream",
          "text": [
            "10\n"
          ],
          "name": "stdout"
        }
      ]
    },
    {
      "cell_type": "code",
      "metadata": {
        "id": "Y-nWG_dlVV9k",
        "colab_type": "code",
        "outputId": "f140e1cc-6f7e-4ca8-f4ee-62c99c5c505a",
        "colab": {
          "base_uri": "https://localhost:8080/",
          "height": 169
        }
      },
      "source": [
        "tuple_data[2] = 10"
      ],
      "execution_count": 0,
      "outputs": [
        {
          "output_type": "error",
          "ename": "TypeError",
          "evalue": "ignored",
          "traceback": [
            "\u001b[0;31m---------------------------------------------------------------------------\u001b[0m",
            "\u001b[0;31mTypeError\u001b[0m                                 Traceback (most recent call last)",
            "\u001b[0;32m<ipython-input-31-9a830468fd8c>\u001b[0m in \u001b[0;36m<module>\u001b[0;34m()\u001b[0m\n\u001b[0;32m----> 1\u001b[0;31m \u001b[0mtuple_data\u001b[0m\u001b[0;34m[\u001b[0m\u001b[0;36m2\u001b[0m\u001b[0;34m]\u001b[0m \u001b[0;34m=\u001b[0m \u001b[0;36m10\u001b[0m\u001b[0;34m\u001b[0m\u001b[0;34m\u001b[0m\u001b[0m\n\u001b[0m",
            "\u001b[0;31mTypeError\u001b[0m: 'tuple' object does not support item assignment"
          ]
        }
      ]
    },
    {
      "cell_type": "markdown",
      "metadata": {
        "id": "2JuucdHjV7jV",
        "colab_type": "text"
      },
      "source": [
        "###조건문과 반복문(conditional and loop)  \n",
        "\n",
        "####조건문  \n",
        "코드의 시작 지점부터 끝 지점까지 순서대로 코드가 실행된다.  \n",
        "하지만 조건문이란 개념을 통해 저건을 지정하게 되면  \n",
        "코드 실행에 대한 순서를 조정할 수 있게 된다.  \n",
        "예를 들어 어떠한 조건일 때만 실행하고자 하는 경우,  \n",
        "if문을 사용하면 된다."
      ]
    },
    {
      "cell_type": "code",
      "metadata": {
        "id": "dLZH2JtwVeO1",
        "colab_type": "code",
        "outputId": "12c97bd9-4626-47c8-e343-6ba365c4a022",
        "colab": {
          "base_uri": "https://localhost:8080/",
          "height": 34
        }
      },
      "source": [
        "a=3\n",
        "if a ==3 :\n",
        "    print(\"a는 3입니다.\")\n",
        "else:\n",
        "    print(\"a는 3이 아닙니다.\")"
      ],
      "execution_count": 0,
      "outputs": [
        {
          "output_type": "stream",
          "text": [
            "a는 3입니다.\n"
          ],
          "name": "stdout"
        }
      ]
    },
    {
      "cell_type": "markdown",
      "metadata": {
        "id": "0uULoC8LXSB4",
        "colab_type": "text"
      },
      "source": [
        "####반복문  \n",
        "\n",
        "반복문은 이후 머신러닝 혹은 딥러닝에서 무척이나 중요한 역할을 하고 있다.  \n",
        "예를들어  \n",
        "우리가 지정한 횟수만큼 반복하여 단순 퍼셉트론의 가중치 학습을 진행하는 경우  \n",
        "하나하나 코드를 작성하는 것보단  \n",
        "반복문을 적절하게 사용한다면 간단하게 진행할 수 있다.  \n",
        "\n",
        "#####for문  \n",
        "\n",
        "for문은 조건에 포함되는 값 개수만큼 블록을 반복 실행한다.  \n",
        "range함수는 시작 숫자부터 끝 숫자 전까지 숫자 간격에 따른 연속 정수 값을 저장하는 함수.\n",
        "\n"
      ]
    },
    {
      "cell_type": "code",
      "metadata": {
        "id": "ymY9ESkIVhDu",
        "colab_type": "code",
        "outputId": "5e59a69f-3786-47bc-a607-7a3a17e78acd",
        "colab": {
          "base_uri": "https://localhost:8080/",
          "height": 70
        }
      },
      "source": [
        "for i in range(3): # range(시작숫자,끝숫자,숫자간격)\n",
        "    print(i)"
      ],
      "execution_count": 0,
      "outputs": [
        {
          "output_type": "stream",
          "text": [
            "0\n",
            "1\n",
            "2\n"
          ],
          "name": "stdout"
        }
      ]
    },
    {
      "cell_type": "markdown",
      "metadata": {
        "id": "p-OzMp9fZQ5J",
        "colab_type": "text"
      },
      "source": [
        "이번 for문은 리스트 안 요소와 그에 해당하는 인덱스를 함께 출력하는 enumerate()를사용한 예제이다.  \n",
        "이렇게 되면 이 함수에 의해 리스트의 해당 인덱스는 i로,  \n",
        "리스트 요소는 e로 할당되게 되며, 최종 출력값은  \n",
        "for문의 조건에 포함된 값의 개수만큼 이렇게 총 3번에 걸쳐 출력한다."
      ]
    },
    {
      "cell_type": "code",
      "metadata": {
        "id": "lvJ3VtACVhFt",
        "colab_type": "code",
        "outputId": "37af88c4-0977-47e4-dcbf-8322c45fdf1a",
        "colab": {
          "base_uri": "https://localhost:8080/",
          "height": 70
        }
      },
      "source": [
        "for i, e in enumerate([5,3,7]):\n",
        "    print(i,\":\",e)"
      ],
      "execution_count": 0,
      "outputs": [
        {
          "output_type": "stream",
          "text": [
            "0 : 5\n",
            "1 : 3\n",
            "2 : 7\n"
          ],
          "name": "stdout"
        }
      ]
    },
    {
      "cell_type": "markdown",
      "metadata": {
        "id": "wp7enFD7auXO",
        "colab_type": "text"
      },
      "source": [
        "for문처럼 이렇게 조건값을 지정한 만큼 반복하는 것이 아닌,  \n",
        "조건을 만족하지 않을 때까지 무한으로 반복 실행하는 while문이 있다.  \n",
        "\n",
        "이 방법 또한 머신러닝에서 지정한 목적 함수값에 도달할 때까지  연속해서 학습을 진행하고 싶은 경우 사용된다.  \n",
        "\n"
      ]
    },
    {
      "cell_type": "code",
      "metadata": {
        "id": "2QFoqXwFVhIl",
        "colab_type": "code",
        "outputId": "74805dd8-c355-4b9c-bae3-c0643cbbebd3",
        "colab": {
          "base_uri": "https://localhost:8080/",
          "height": 87
        }
      },
      "source": [
        "i = 0\n",
        "while i < 4:\n",
        "    print(i)\n",
        "    i += 1"
      ],
      "execution_count": 0,
      "outputs": [
        {
          "output_type": "stream",
          "text": [
            "0\n",
            "1\n",
            "2\n",
            "3\n"
          ],
          "name": "stdout"
        }
      ]
    },
    {
      "cell_type": "code",
      "metadata": {
        "id": "nhouGlUgVhLV",
        "colab_type": "code",
        "colab": {}
      },
      "source": [
        ""
      ],
      "execution_count": 0,
      "outputs": []
    },
    {
      "cell_type": "code",
      "metadata": {
        "id": "w8iQU9RoVhPr",
        "colab_type": "code",
        "colab": {}
      },
      "source": [
        ""
      ],
      "execution_count": 0,
      "outputs": []
    }
  ]
}