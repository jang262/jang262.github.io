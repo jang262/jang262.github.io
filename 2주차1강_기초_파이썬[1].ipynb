{
  "nbformat": 4,
  "nbformat_minor": 0,
  "metadata": {
    "colab": {
      "name": "2주차1강_기초_파이썬[1].ipynb",
      "provenance": [],
      "collapsed_sections": [],
      "authorship_tag": "ABX9TyMWvGTt2JZ4aC+m7On0Ukqq",
      "include_colab_link": true
    },
    "kernelspec": {
      "name": "python3",
      "display_name": "Python 3"
    }
  },
  "cells": [
    {
      "cell_type": "markdown",
      "metadata": {
        "id": "view-in-github",
        "colab_type": "text"
      },
      "source": [
        "<a href=\"https://colab.research.google.com/github/jang262/jang262.github.io/blob/master/2%EC%A3%BC%EC%B0%A81%EA%B0%95_%EA%B8%B0%EC%B4%88_%ED%8C%8C%EC%9D%B4%EC%8D%AC%5B1%5D.ipynb\" target=\"_parent\"><img src=\"https://colab.research.google.com/assets/colab-badge.svg\" alt=\"Open In Colab\"/></a>"
      ]
    },
    {
      "cell_type": "markdown",
      "metadata": {
        "id": "-yXmsR2OuvJN",
        "colab_type": "text"
      },
      "source": [
        "#기초 파이썬[1]\n",
        "\n",
        "\n",
        "파이썬 언어는 계속 변화하고 있다.  \n",
        "5년전의 파이썬은 유력언어가 아니었지만  \n",
        "지금의 파이썬은 매우 강력한 언어로 데이터 과학의 발전을  \n",
        "이끌어 가고 있다.  \n",
        "파이썬 언어는 계속해서 변화해 나갈 것이다.  \n",
        "-Python의 창시자 Guido van Rossum-  \n",
        "<br>\n",
        "머신러닝과 딥러닝을 활용하여 어떤한 목적을 이루기 위해선  \n",
        "그에 적합한 과정이 필요하다.  \n",
        "머신러닝과 딥러닝은 주로 통계와 아주 밀접하게 관련 되어 있다.  \n",
        "통계분야에서는 주로 파이썬이라는 프로그래밍 언어가 사용되고 있다.  \n",
        "**이유는 머신러닝이나 딥러닝 프로그래밍에 필요한 라이브러리가 갖춰져 있어, 원하는 기능 구현에 집중할 수 있기 때문이다.**  \n",
        "실제로 머신러닝과 딥러닝 프로그래밍에 파이썬을 사용하기 시작하면서 파이썬의 인기도 또한 상승하기 시작했다.  \n",
        "<br>\n",
        "**TIOBE 프로그래밍 커뮤니티 인덱스(TIOBE Programming Community Index)**에서 제공하는 자료에 의하면  \n",
        "알파고가 세상에 알려진 2016년 3월 기준  \n",
        "파이썬의 점유율은 단 4.257%에 그쳤지만,  \n",
        "2020년 기준 9.12%까지 상승하며  \n",
        "현재는 50개의 프로그래밍 언어 중 3위에 랭크되어 있다.  \n",
        "<br>\n",
        "파이썬은 우리가 원하는 인공지능을 위한 기능들을 쉽게 구현할 수 있게끔  \n",
        "통계와 시각화 기반의 수많은 라이브러리들이 존재하고,  \n",
        "이에 힘입어 더욱더 많은 사용자들이 마치 파이썬으로 흡입되듯 빨려들고 있는 상황이다.  \n",
        "게다가 구글은 이러한 파이썬 언어를 바탕으로 머신러닝과 딥러닝을 자유롭게 구현하고 다양하게 실험할 수 있도록 구글 **colaboratory 이하 코랩**을 세상에 공개했다.  \n",
        "\n",
        "코랩은 구글 아이디만 있다면, 그리고 인터넷만 가능하다면 그 어떠한 공간에서도 실행할 수 있으며, 심지어 스마트 폰에서도 가능합니다.  \n",
        "**복잡하고 무거운 프로그램들의 별도의 설치가 필요 없다는 것이 포인트다.**  \n",
        "\n",
        "Life is too short, You need Python.\n",
        "(인생은 짧다, 너에겐 파이썬이 필요하다.)\n",
        "\n",
        "\n"
      ]
    },
    {
      "cell_type": "code",
      "metadata": {
        "id": "bgYhrmfASR0n",
        "colab_type": "code",
        "colab": {}
      },
      "source": [
        ""
      ],
      "execution_count": 0,
      "outputs": []
    }
  ]
}